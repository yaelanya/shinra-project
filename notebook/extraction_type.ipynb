{
 "cells": [
  {
   "cell_type": "code",
   "execution_count": 1,
   "metadata": {},
   "outputs": [
    {
     "name": "stderr",
     "output_type": "stream",
     "text": [
      "/usr/local/var/pyenv/versions/3.6.1/lib/python3.6/importlib/_bootstrap.py:205: RuntimeWarning: numpy.dtype size changed, may indicate binary incompatibility. Expected 96, got 88\n",
      "  return f(*args, **kwds)\n",
      "/usr/local/var/pyenv/versions/3.6.1/lib/python3.6/importlib/_bootstrap.py:205: RuntimeWarning: numpy.dtype size changed, may indicate binary incompatibility. Expected 96, got 88\n",
      "  return f(*args, **kwds)\n"
     ]
    }
   ],
   "source": [
    "import numpy as np\n",
    "import pandas as pd\n",
    "import json\n",
    "import re\n",
    "import MeCab\n",
    "from collections import Counter\n",
    "\n",
    "import shinra_util as util"
   ]
  },
  {
   "cell_type": "code",
   "execution_count": 2,
   "metadata": {},
   "outputs": [],
   "source": [
    "%load_ext autoreload\n",
    "%autoreload 2"
   ]
  },
  {
   "cell_type": "code",
   "execution_count": 138,
   "metadata": {},
   "outputs": [],
   "source": [
    "def read_jasonl(filename):\n",
    "    with open(filename) as f:\n",
    "        return [json.loads(line.rstrip('\\r\\n')) for line in f.readlines()]"
   ]
  },
  {
   "cell_type": "code",
   "execution_count": 5,
   "metadata": {},
   "outputs": [],
   "source": [
    "flatten = lambda l: [item for sublist in l for item in sublist if len(item) is not 0]\n",
    "mecab_param = MeCab.Tagger(\"-Owakati -d /usr/local/lib/mecab/dic/mecab-ipadic-neologd\")"
   ]
  },
  {
   "cell_type": "code",
   "execution_count": 3,
   "metadata": {},
   "outputs": [
    {
     "data": {
      "text/html": [
       "<div>\n",
       "<style scoped>\n",
       "    .dataframe tbody tr th:only-of-type {\n",
       "        vertical-align: middle;\n",
       "    }\n",
       "\n",
       "    .dataframe tbody tr th {\n",
       "        vertical-align: top;\n",
       "    }\n",
       "\n",
       "    .dataframe thead th {\n",
       "        text-align: right;\n",
       "    }\n",
       "</style>\n",
       "<table border=\"1\" class=\"dataframe\">\n",
       "  <thead>\n",
       "    <tr style=\"text-align: right;\">\n",
       "      <th></th>\n",
       "      <th>category</th>\n",
       "      <th>label</th>\n",
       "    </tr>\n",
       "  </thead>\n",
       "  <tbody>\n",
       "    <tr>\n",
       "      <th>0</th>\n",
       "      <td>アルコール</td>\n",
       "      <td>1</td>\n",
       "    </tr>\n",
       "    <tr>\n",
       "      <th>1</th>\n",
       "      <td>アミン</td>\n",
       "      <td>1</td>\n",
       "    </tr>\n",
       "    <tr>\n",
       "      <th>2</th>\n",
       "      <td>フェノールエーテル</td>\n",
       "      <td>1</td>\n",
       "    </tr>\n",
       "    <tr>\n",
       "      <th>3</th>\n",
       "      <td>ケトン</td>\n",
       "      <td>1</td>\n",
       "    </tr>\n",
       "    <tr>\n",
       "      <th>4</th>\n",
       "      <td>無機化合物</td>\n",
       "      <td>1</td>\n",
       "    </tr>\n",
       "  </tbody>\n",
       "</table>\n",
       "</div>"
      ],
      "text/plain": [
       "    category  label\n",
       "0      アルコール      1\n",
       "1        アミン      1\n",
       "2  フェノールエーテル      1\n",
       "3        ケトン      1\n",
       "4      無機化合物      1"
      ]
     },
     "execution_count": 3,
     "metadata": {},
     "output_type": "execute_result"
    }
   ],
   "source": [
    "NITE_existence_category = pd.read_csv(\"../data/NITE_existence_list.csv\")\n",
    "NITE_existence_category = NITE_existence_category.loc[NITE_existence_category.label == 1].reset_index(drop=True)\n",
    "NITE_existence_category.category = NITE_existence_category.category.apply(lambda x: re.sub(r'の', '', x) if re.match(r'.+の化合物', x) else x)\n",
    "NITE_existence_category.head()"
   ]
  },
  {
   "cell_type": "code",
   "execution_count": 3,
   "metadata": {},
   "outputs": [],
   "source": [
    "with open(\"../data/compound_train.json\") as f:\n",
    "    train = json.load(f)['entry']"
   ]
  },
  {
   "cell_type": "code",
   "execution_count": 5,
   "metadata": {},
   "outputs": [],
   "source": [
    "train_type_dict = util.train2dict(train, '種類')\n",
    "#train_type_list = list(set(flatten(train_type_dict.values())))"
   ]
  },
  {
   "cell_type": "code",
   "execution_count": 8,
   "metadata": {},
   "outputs": [],
   "source": [
    "wiki_data = util.read_jasonl(\"../data/jawiki-cirrussearch-dump_of_Compound.jsonl\")"
   ]
  },
  {
   "cell_type": "code",
   "execution_count": 9,
   "metadata": {},
   "outputs": [],
   "source": [
    "train_wiki_doc_df = \\\n",
    "pd.DataFrame({\n",
    "    \"_id\": [entry['index']['_id'] for entry in wiki_data]\n",
    "    , \"document\": [entry['opening_text'] if ('opening_text' in entry.keys() and entry['opening_text'] != None) else entry['text'] for entry in wiki_data]\n",
    "    , \"category\": [entry['category'] for entry in wiki_data]\n",
    "}).pipe(\n",
    "    lambda x: x.loc[x._id.isin(train_type_dict.keys())]\n",
    ").reset_index(drop=True)"
   ]
  },
  {
   "cell_type": "code",
   "execution_count": 9,
   "metadata": {},
   "outputs": [],
   "source": [
    "# 名詞・複合名詞のリストを返す\n",
    "def get_noun_list(doc):\n",
    "    mecab_param = MeCab.Tagger(\"-Ochasen -d /usr/local/lib/mecab/dic/mecab-ipadic-neologd\")\n",
    "    mecab_param.parse(\"\")\n",
    "    node = mecab_param.parseToNode(doc)\n",
    "    \n",
    "    noun_list = []\n",
    "    noun = []\n",
    "    while node:\n",
    "        if len(node.surface) == 0:\n",
    "            node = node.next\n",
    "            continue\n",
    "\n",
    "        hinshi = node.feature.split(',')\n",
    "        if hinshi[0] == '名詞':\n",
    "            noun.append(node.surface)\n",
    "        elif len(noun) > 0:            \n",
    "            noun_list.append(''.join(noun))\n",
    "            noun = []\n",
    "        \n",
    "        node = node.next\n",
    "    \n",
    "    if len(noun) > 0:\n",
    "        noun_list.append(''.join(noun))\n",
    "\n",
    "    return noun_list"
   ]
  },
  {
   "cell_type": "code",
   "execution_count": 11,
   "metadata": {},
   "outputs": [],
   "source": [
    "# NITEに存在するカテゴリ名と一致する単語を抽出\n",
    "\n",
    "type_list = NITE_existence_category.category.tolist()\n",
    "\n",
    "type_using_NITE_df = \\\n",
    "train_wiki_doc_df.set_index('_id').apply(\n",
    "    lambda x: pd.Series(type_list, index=type_list).isin(util.get_noun_list(x.document))\n",
    "    , axis=1\n",
    ")"
   ]
  },
  {
   "cell_type": "code",
   "execution_count": 12,
   "metadata": {},
   "outputs": [],
   "source": [
    "# 各ページに存在するカテゴリ名と一致する単語を抽出\n",
    "type_using_categories_df = \\\n",
    "train_wiki_doc_df.set_index('_id').apply(\n",
    "    lambda x: pd.Series(x.category, index=x.category).isin(util.get_noun_list(x.document))\n",
    "    , axis=1\n",
    ").fillna(False)"
   ]
  },
  {
   "cell_type": "code",
   "execution_count": 19,
   "metadata": {},
   "outputs": [],
   "source": [
    "type_using_NITE_list = \\\n",
    "type_using_NITE_df.apply(\n",
    "    lambda x: x.index.values[x.values].tolist()\n",
    "    , axis=1\n",
    ").tolist()\n",
    "\n",
    "type_using_categories_list = \\\n",
    "type_using_categories_df.apply(\n",
    "    lambda x: x.index.values[x.values].tolist()\n",
    "    , axis=1\n",
    ").tolist()\n",
    "\n",
    "#extracted_type_list = [list(set(type1 + type2)) for type1, type2 in zip(type_using_NITE_list, type_using_categories_list)]\n",
    "extracted_type_list = type_using_NITE_list.copy()"
   ]
  },
  {
   "cell_type": "code",
   "execution_count": 20,
   "metadata": {},
   "outputs": [],
   "source": [
    "extracted_type_dict = \\\n",
    "dict(\n",
    "    zip(\n",
    "        type_using_NITE_df.index\n",
    "        , extracted_type_list\n",
    "    )\n",
    ")"
   ]
  },
  {
   "cell_type": "markdown",
   "metadata": {},
   "source": [
    "## Validation"
   ]
  },
  {
   "cell_type": "code",
   "execution_count": 21,
   "metadata": {},
   "outputs": [],
   "source": [
    "result_precision = []\n",
    "result_recall = []\n",
    "for _id, types in extracted_type_dict.items():\n",
    "    result_precision += [(_type in train_type_dict[_id]) for _type in types]\n",
    "    result_recall += [(train_type in types) for train_type in train_type_dict[_id]]"
   ]
  },
  {
   "cell_type": "code",
   "execution_count": 22,
   "metadata": {},
   "outputs": [
    {
     "name": "stdout",
     "output_type": "stream",
     "text": [
      "Precision:0.4584487534626039\n",
      "Recall:0.4384105960264901\n",
      "f1:0.4482058226134055\n"
     ]
    }
   ],
   "source": [
    "precision = sum(result_precision) / len(result_precision)\n",
    "recall = sum(result_recall) / len(result_recall)\n",
    "f1 = 2 * precision * recall / (precision + recall)\n",
    "\n",
    "print(f\"Precision:{precision}\")\n",
    "print(f\"Recall:{recall}\")\n",
    "print(f\"f1:{f1}\")"
   ]
  },
  {
   "cell_type": "markdown",
   "metadata": {},
   "source": [
    "## 出力"
   ]
  },
  {
   "cell_type": "code",
   "execution_count": 5,
   "metadata": {},
   "outputs": [],
   "source": [
    "wiki_data = util.read_jasonl(\"../data/jawiki-cirrussearch-dump_of_Compound.jsonl\")"
   ]
  },
  {
   "cell_type": "code",
   "execution_count": 6,
   "metadata": {},
   "outputs": [],
   "source": [
    "all_wiki_doc_df = \\\n",
    "pd.DataFrame({\n",
    "    \"_id\": [entry['index']['_id'] for entry in wiki_data]\n",
    "    , \"document\": [entry['opening_text'] if ('opening_text' in entry.keys() and entry['opening_text'] != None) else entry['text'] for entry in wiki_data]\n",
    "    , \"category\": [entry['category'] for entry in wiki_data]\n",
    "}).reset_index(drop=True)"
   ]
  },
  {
   "cell_type": "code",
   "execution_count": 8,
   "metadata": {},
   "outputs": [],
   "source": [
    "# NITEに存在するカテゴリ名と一致する単語を抽出\n",
    "type_list = NITE_existence_category.category.tolist()\n",
    "\n",
    "type_using_NITE_df = \\\n",
    "all_wiki_doc_df.set_index('_id').apply(\n",
    "    lambda x: pd.Series(type_list, index=type_list).isin(util.get_noun_list(x.document))\n",
    "    , axis=1\n",
    ")\n",
    "\n",
    "# 各ページに存在するカテゴリ名と一致する単語を抽出\n",
    "type_using_categories_df = \\\n",
    "all_wiki_doc_df.set_index('_id').apply(\n",
    "    lambda x: pd.Series(x.category, index=x.category).isin(util.get_noun_list(x.document))\n",
    "    , axis=1\n",
    ").fillna(False)\n",
    "\n",
    "type_using_NITE_list = \\\n",
    "type_using_NITE_df.apply(\n",
    "    lambda x: x.index.values[x.values].tolist()\n",
    "    , axis=1\n",
    ").tolist()\n",
    "\n",
    "type_using_categories_list = \\\n",
    "type_using_categories_df.apply(\n",
    "    lambda x: x.index.values[x.values].tolist()\n",
    "    , axis=1\n",
    ").tolist()\n",
    "\n",
    "extracted_type_list = type_using_NITE_list.copy()\n",
    "\n",
    "extracted_type_dict = \\\n",
    "dict(\n",
    "    zip(\n",
    "        type_using_NITE_df.index\n",
    "        , extracted_type_list\n",
    "    )\n",
    ")"
   ]
  },
  {
   "cell_type": "code",
   "execution_count": 10,
   "metadata": {},
   "outputs": [
    {
     "data": {
      "text/plain": [
       "5820"
      ]
     },
     "execution_count": 10,
     "metadata": {},
     "output_type": "execute_result"
    }
   ],
   "source": [
    "len(extracted_type_dict.keys())"
   ]
  },
  {
   "cell_type": "code",
   "execution_count": 11,
   "metadata": {},
   "outputs": [],
   "source": [
    "with open(\"../output/type.json\", 'w') as f:\n",
    "    json.dump(extracted_type_dict, f)"
   ]
  },
  {
   "cell_type": "code",
   "execution_count": null,
   "metadata": {},
   "outputs": [],
   "source": []
  }
 ],
 "metadata": {
  "kernelspec": {
   "display_name": "Python 3",
   "language": "python",
   "name": "python3"
  },
  "language_info": {
   "codemirror_mode": {
    "name": "ipython",
    "version": 3
   },
   "file_extension": ".py",
   "mimetype": "text/x-python",
   "name": "python",
   "nbconvert_exporter": "python",
   "pygments_lexer": "ipython3",
   "version": "3.6.1"
  }
 },
 "nbformat": 4,
 "nbformat_minor": 2
}
