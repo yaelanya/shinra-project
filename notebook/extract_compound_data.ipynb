{
 "cells": [
  {
   "cell_type": "code",
   "execution_count": 1,
   "metadata": {},
   "outputs": [],
   "source": [
    "import pandas as pd\n",
    "import gzip\n",
    "import json\n",
    "import ijson\n",
    "import itertools\n",
    "import matplotlib.pyplot as plt\n"
   ]
  },
  {
   "cell_type": "code",
   "execution_count": 2,
   "metadata": {},
   "outputs": [],
   "source": [
    "def output_jsonnl(jsons, filename):\n",
    "    with open(filename, 'w') as outfile:\n",
    "        print(f'output {filename}...')\n",
    "        for entry in jsons:\n",
    "            json.dump(entry, outfile)\n",
    "            outfile.write('\\n')\n",
    "        print('Completed.')"
   ]
  },
  {
   "cell_type": "code",
   "execution_count": 3,
   "metadata": {},
   "outputs": [],
   "source": [
    "def read_jasonl(filename):\n",
    "    with open(filename) as f:\n",
    "        return [json.loads(line.rstrip('\\r\\n')) for line in f.readlines()]"
   ]
  },
  {
   "cell_type": "code",
   "execution_count": 19,
   "metadata": {},
   "outputs": [],
   "source": [
    "with open(\"../data/ENE_compound_name.txt\") as f:\n",
    "    pageid_list = [str(json.loads(ENE)[\"pageid\"]) for ENE in f.readlines()]"
   ]
  },
  {
   "cell_type": "code",
   "execution_count": 34,
   "metadata": {},
   "outputs": [],
   "source": [
    "with gzip.open(\"../data/jawiki-20171106-cirrussearch-content.json.gz\") as f:\n",
    "    data_list = []\n",
    "    line = f.readline()\n",
    "    \n",
    "    while line:\n",
    "        head = json.loads(line.decode('utf-8').rstrip('\\r\\n'))\n",
    "        line = f.readline()\n",
    "        if head['index']['_id'] in pageid_list:\n",
    "            head.update(json.loads(line.decode('utf-8').rstrip('\\r\\n')))\n",
    "            data_list.append(head)\n",
    "            \n",
    "        line = f.readline()"
   ]
  },
  {
   "cell_type": "code",
   "execution_count": 35,
   "metadata": {},
   "outputs": [
    {
     "name": "stdout",
     "output_type": "stream",
     "text": [
      "output ../data/jawiki-cirrussearch-dump_of_Compound.jsonl...\n",
      "Complete.\n"
     ]
    }
   ],
   "source": [
    "output_filename = \"../data/jawiki-cirrussearch-dump_of_Compound.jsonl\"\n",
    "output_jsonnl(data_list, output_filename)"
   ]
  },
  {
   "cell_type": "code",
   "execution_count": 36,
   "metadata": {},
   "outputs": [
    {
     "data": {
      "text/plain": [
       "{'auxiliary_text': ['この項目は、化学に関連した書きかけの項目です。この項目を加筆・訂正などしてくださる協力者を求めています（プロジェクト:化学／Portal:化学）。',\n",
       "  'イソチオシアネートの基本骨格',\n",
       "  'メチルイソチオシアネートの分子模型'],\n",
       " 'category': ['化学関連のスタブ項目', 'イソチオシアネート', '有機窒素化合物', '有機硫黄化合物', '官能基', '抗酸化物質'],\n",
       " 'content_model': 'wikitext',\n",
       " 'coordinates': [],\n",
       " 'defaultsort': 'いそちおしあねえと',\n",
       " 'external_link': [],\n",
       " 'heading': ['反応', '生理活性', '関連項目'],\n",
       " 'incoming_links': 67,\n",
       " 'index': {'_id': '1300364', '_type': 'page'},\n",
       " 'language': 'ja',\n",
       " 'namespace': 0,\n",
       " 'namespace_text': '',\n",
       " 'opening_text': 'イソチオシアネート（Isothiocyanate）とは、-N=C=Sという構造を持つ物質の総称であり、イソシアネートの酸素原子を硫黄原子で置換することによって得られる。アブラナ科の植物にしばしば含まれるアリルイソチオシアネートはカラシ油に含まれ、辛味の原因となっている。エドマン分解ではアミノ酸の配列の解析に用いられる。',\n",
       " 'outgoing_link': ['からし',\n",
       "  'アブラナ科',\n",
       "  'アポトーシス',\n",
       "  'アリルイソチオシアネート',\n",
       "  'イソシアネート',\n",
       "  'エドマン分解',\n",
       "  'シトクロームP450',\n",
       "  'スルフォラファン',\n",
       "  'フェニチルイソチオシアネート',\n",
       "  '化学',\n",
       "  '大根おろし',\n",
       "  '抗がん剤',\n",
       "  '求電子剤',\n",
       "  '白血病',\n",
       "  'Wikipedia:スタブ',\n",
       "  'Category:化学関連のスタブ項目',\n",
       "  'Portal:化学',\n",
       "  'プロジェクト:化学'],\n",
       " 'popularity_score': 1.3824674034956e-06,\n",
       " 'redirect': [{'namespace': 0, 'title': 'イソチオシアナート'}],\n",
       " 'source_text': \"[[Image:Isothiocyanate group.svg|thumb|イソチオシアネートの基本骨格]]\\n[[Image:Methyl-isothiocyanate-3D-vdW.png|thumb|right|250px|メチルイソチオシアネートの分子模型]]\\n\\n'''イソチオシアネート'''（Isothiocyanate）とは、'''-N=C=S'''という構造を持つ物質の総称であり、[[イソシアネート]]の酸素原子を硫黄原子で置換することによって得られる。[[アブラナ科]]の植物にしばしば含まれる[[アリルイソチオシアネート]]はカラシ油に含まれ、辛味の原因となっている。[[エドマン分解]]ではアミノ酸の配列の解析に用いられる。\\n\\n== 反応 ==\\nイソチオシアネートは常に炭素原子を求電子中心とする[[求電子剤]]として働く。\\n\\n== 生理活性 ==\\n[[フェニチルイソチオシアネート]]や[[スルフォラファン]]などのイソチオシアネートは発癌や腫瘍化を防ぎ、化学的な[[抗がん剤]]となる。これらは様々なレベルで働き、特に[[シトクロームP450]]の働きを阻害して発癌を防ぐ作用が知られている。またフェニチルイソチオシアネートはがん細胞に[[アポトーシス]]を起こさせることが示されている。例えば、アポトーシス阻害タンパク質BCl-2を生産する薬剤抵抗性の[[白血病]]細胞などにアポトーシスを起こさせることにも成功している。\\n\\n== 関連項目 ==\\n* [[大根おろし]]\\n* [[からし]]\\n\\n{{chem-stub}}\\n{{DEFAULTSORT:いそちおしあねえと}}\\n[[Category:イソチオシアネート|*]]\\n[[Category:有機窒素化合物]]\\n[[Category:有機硫黄化合物]]\\n[[Category:官能基]]\\n[[Category:抗酸化物質]]\",\n",
       " 'template': ['Template:Chem-stub', 'Template:Asbox'],\n",
       " 'text': 'イソチオシアネート（Isothiocyanate）とは、-N=C=Sという構造を持つ物質の総称であり、イソシアネートの酸素原子を硫黄原子で置換することによって得られる。アブラナ科の植物にしばしば含まれるアリルイソチオシアネートはカラシ油に含まれ、辛味の原因となっている。エドマン分解ではアミノ酸の配列の解析に用いられる。  イソチオシアネートは常に炭素原子を求電子中心とする求電子剤として働く。  フェニチルイソチオシアネートやスルフォラファンなどのイソチオシアネートは発癌や腫瘍化を防ぎ、化学的な抗がん剤となる。これらは様々なレベルで働き、特にシトクロームP450の働きを阻害して発癌を防ぐ作用が知られている。またフェニチルイソチオシアネートはがん細胞にアポトーシスを起こさせることが示されている。例えば、アポトーシス阻害タンパク質BCl-2を生産する薬剤抵抗性の白血病細胞などにアポトーシスを起こさせることにも成功している。  大根おろし からし',\n",
       " 'text_bytes': 1744,\n",
       " 'timestamp': '2017-05-03T22:05:40Z',\n",
       " 'title': 'イソチオシアネート',\n",
       " 'version': 63986003,\n",
       " 'version_type': 'external',\n",
       " 'wiki': 'jawiki',\n",
       " 'wikibase_item': 'Q416049'}"
      ]
     },
     "execution_count": 36,
     "metadata": {},
     "output_type": "execute_result"
    }
   ],
   "source": [
    "read_jasonl(output_filename)[0]"
   ]
  },
  {
   "cell_type": "code",
   "execution_count": null,
   "metadata": {},
   "outputs": [],
   "source": []
  }
 ],
 "metadata": {
  "kernelspec": {
   "display_name": "Python 3",
   "language": "python",
   "name": "python3"
  },
  "language_info": {
   "codemirror_mode": {
    "name": "ipython",
    "version": 3
   },
   "file_extension": ".py",
   "mimetype": "text/x-python",
   "name": "python",
   "nbconvert_exporter": "python",
   "pygments_lexer": "ipython3",
   "version": "3.6.1"
  }
 },
 "nbformat": 4,
 "nbformat_minor": 2
}
