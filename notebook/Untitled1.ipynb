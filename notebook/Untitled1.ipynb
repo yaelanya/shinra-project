{
 "cells": [
  {
   "cell_type": "code",
   "execution_count": 4,
   "metadata": {},
   "outputs": [],
   "source": [
    "import pandas as pd\n",
    "import json\n",
    "\n",
    "import shinra_util as util"
   ]
  },
  {
   "cell_type": "code",
   "execution_count": 66,
   "metadata": {},
   "outputs": [],
   "source": [
    "def read_json(filename):\n",
    "    with open(filename, 'r', encoding='utf-8') as f:\n",
    "        return json.load(f)\n",
    "    return None"
   ]
  },
  {
   "cell_type": "code",
   "execution_count": 16,
   "metadata": {},
   "outputs": [],
   "source": [
    "ENE_compound_list = util.read_jasonl(\"../data/ENE_compound_name.txt\")\n",
    "ENE_compound_dict = dict([[int(i['pageid']), i['title']] for i in ENE_compound_list])"
   ]
  },
  {
   "cell_type": "code",
   "execution_count": 19,
   "metadata": {},
   "outputs": [],
   "source": [
    "furigana_dict = read_json(\"../output/furigana.json\") \n",
    "other_name_dict = read_json(\"../output/other_name.json\")\n",
    "use_dict = read_json(\"../output/use.json\")\n",
    "type_dict = read_json(\"../output/type.json\")\n",
    "characteristic_dict = read_json(\"../output/characteristic.json\")\n",
    "material_dict = read_json(\"../output/material.json\")\n",
    "production_dict = read_json(\"../output/production.json\")\n",
    "CAS_dict = read_json(\"../output/cas_number.json\")\n",
    "chemical_formula_dict = read_json(\"../output/chemical_formula.json\")\n",
    "density_dict = read_json(\"../output/density.json\")\n",
    "melting_point_dict = read_json(\"../output/melting_point.json\")\n",
    "boiling_point_dict = read_json(\"../output/boiling_point.json\")\n",
    "indicative_formula_dict = read_json(\"../output/indicative_formula.json\")"
   ]
  },
  {
   "cell_type": "code",
   "execution_count": 58,
   "metadata": {},
   "outputs": [],
   "source": [
    "def is_null(_list: list):\n",
    "     return len(_list) == 1 and len(_list[0]) == 0\n",
    "\n",
    "def get_attribute(_dict: dict, _id: int):\n",
    "    if _dict.get(str(_id)) and not is_null(_dict[str(_id)]):\n",
    "        return _dict[str(_id)]\n",
    "    elif _dict.get(int(_id)) and not is_null(_dict[int(_id)]):\n",
    "        return _dict[int(_id)]\n",
    "    else:\n",
    "        return []\n",
    "    \n",
    "def get_attributes(_id: int):\n",
    "    attributes = {}\n",
    "    attributes['ふりがな'] = get_attribute(furigana_dict, _id)\n",
    "    attributes['別称'] = get_attribute(other_name_dict, _id)\n",
    "    attributes['用途'] = get_attribute(use_dict, _id)\n",
    "    attributes['種類'] = get_attribute(type_dict, _id)\n",
    "    attributes['商標名'] = []\n",
    "    attributes['特性'] = get_attribute(characteristic_dict, _id)\n",
    "    attributes['原材料'] = get_attribute(material_dict, _id)\n",
    "    attributes['製造方法'] = get_attribute(production_dict, _id)\n",
    "    attributes['生成化合物'] = []\n",
    "    attributes['CAS番号'] = get_attribute(CAS_dict, _id)\n",
    "    attributes['化学式'] = get_attribute(chemical_formula_dict, _id)\n",
    "    attributes['密度'] = get_attribute(density_dict, _id)\n",
    "    attributes['融点'] = get_attribute(melting_point_dict, _id)\n",
    "    attributes['沸点'] = get_attribute(boiling_point_dict, _id)\n",
    "    attributes['示性式'] = get_attribute(indicative_formula_dict, _id)\n",
    "    \n",
    "    return attributes"
   ]
  },
  {
   "cell_type": "code",
   "execution_count": 59,
   "metadata": {},
   "outputs": [],
   "source": [
    "entry_list = []\n",
    "for _id, title in ENE_compound_dict.items():\n",
    "    entry = {}\n",
    "    entry['ENE'] = \"化合物名\"\n",
    "    entry['Name'] = title\n",
    "    entry['WikipediaID'] = int(_id)\n",
    "    entry['Attributes'] = get_attributes(int(_id))\n",
    "    entry_list.append(entry)"
   ]
  },
  {
   "cell_type": "code",
   "execution_count": 62,
   "metadata": {},
   "outputs": [],
   "source": [
    "output_dict = {'entry': entry_list}"
   ]
  },
  {
   "cell_type": "code",
   "execution_count": 71,
   "metadata": {},
   "outputs": [],
   "source": [
    "with open(\"../output/result2.json\", 'w') as f:\n",
    "    json.dump(output_dict, f, ensure_ascii=False)"
   ]
  },
  {
   "cell_type": "code",
   "execution_count": 72,
   "metadata": {},
   "outputs": [
    {
     "data": {
      "text/plain": [
       "5820"
      ]
     },
     "execution_count": 72,
     "metadata": {},
     "output_type": "execute_result"
    }
   ],
   "source": [
    "len(output_dict['entry'])"
   ]
  },
  {
   "cell_type": "code",
   "execution_count": null,
   "metadata": {},
   "outputs": [],
   "source": []
  }
 ],
 "metadata": {
  "kernelspec": {
   "display_name": "Python 3",
   "language": "python",
   "name": "python3"
  },
  "language_info": {
   "codemirror_mode": {
    "name": "ipython",
    "version": 3
   },
   "file_extension": ".py",
   "mimetype": "text/x-python",
   "name": "python",
   "nbconvert_exporter": "python",
   "pygments_lexer": "ipython3",
   "version": "3.6.1"
  }
 },
 "nbformat": 4,
 "nbformat_minor": 2
}
