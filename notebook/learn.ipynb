{
 "cells": [
  {
   "cell_type": "code",
   "execution_count": 53,
   "metadata": {},
   "outputs": [],
   "source": [
    "import numpy as np\n",
    "import pandas as pd\n",
    "import re\n",
    "import pickle\n",
    "import lightgbm as lgb\n",
    "from sklearn.model_selection import cross_validate, KFold\n",
    "import matplotlib.pyplot as plt\n",
    "from collections import Counter\n",
    "import MeCab\n",
    "\n",
    "import warnings\n",
    "warnings.filterwarnings('ignore')\n",
    "\n",
    "plt.rcParams['font.family'] = 'IPAGothic'"
   ]
  },
  {
   "cell_type": "code",
   "execution_count": 59,
   "metadata": {},
   "outputs": [],
   "source": [
    "mecab_param = MeCab.Tagger(\"-Ochasen -d /usr/local/lib/mecab/dic/mecab-ipadic-neologd\")"
   ]
  },
  {
   "cell_type": "code",
   "execution_count": 158,
   "metadata": {},
   "outputs": [],
   "source": [
    "train = pd.read_csv(\"../data/train_Youto_sentence_and_heading.csv\")\n",
    "\n",
    "with open(\"../dump/noun_list.pickle\", 'br') as f:\n",
    "    noun_list = pickle.load(f)\n",
    "\n",
    "with open(\"../dump/clue_words.pickle\", 'br') as f:\n",
    "    clue_word_by_BS = pickle.load(f)\n",
    "    \n",
    "clue_word_entropy = pd.read_csv(\"../data/clue_word_of_Sahen-setsuzoku_with_beta=0.1.csv\", names=['clue_word']).clue_word.values"
   ]
  },
  {
   "cell_type": "code",
   "execution_count": 159,
   "metadata": {},
   "outputs": [
    {
     "name": "stdout",
     "output_type": "stream",
     "text": [
      "train length : 6671\n",
      "label 1 : 1514 \tlabel 0 : 5157\n",
      "train length (filtering) : 3341\n",
      "label 1 : 1045 \tlabel 0 : 2296\n"
     ]
    }
   ],
   "source": [
    "# ブートストラップ法で得た手がかり語で学習データをフィルタリング\n",
    "print(\"train length :\", len(train))\n",
    "print(\"label 1 :\", len(train.loc[train.label == 1]), \"\\tlabel 0 :\", len(train.loc[train.label == 0]))\n",
    "\n",
    "train = train.loc[train.sentence.str.contains(\"|\".join(clue_word_by_BS))].reset_index(drop=True)\n",
    "print(\"train length (filtering) :\", len(train))\n",
    "print(\"label 1 :\", len(train.loc[train.label == 1]), \"\\tlabel 0 :\", len(train.loc[train.label == 0]))"
   ]
  },
  {
   "cell_type": "code",
   "execution_count": 183,
   "metadata": {},
   "outputs": [],
   "source": [
    "# 文中に各手がかり語が含まれているどうかの特徴量を作成\n",
    "\n",
    "feature_word_dict = {}\n",
    "\n",
    "for word in np.append(clue_word_entropy, ['用途', '効果', '目的', '用い', '使わ']):\n",
    "    feature_word_dict[word] = train.sentence.str.contains(fr'{word}').tolist()"
   ]
  },
  {
   "cell_type": "code",
   "execution_count": 184,
   "metadata": {},
   "outputs": [],
   "source": [
    "# サブタイトル名をもとにカテゴリ変数を作成する\n",
    "\n",
    "train = train.assign(heading_cat = np.nan)\n",
    "\n",
    "cat1 = r'NO_SUBTITLE'\n",
    "train.loc[train.heading.str.contains(cat1), 'heading_cat'] = 0\n",
    "\n",
    "cat2 = r'|'.join(np.append(clue_word_entropy, ['用途', '効果', '目的']))\n",
    "train.loc[train.heading.str.contains(cat2), 'heading_cat'] = 1\n",
    "\n",
    "train.loc[train.heading_cat.isna(), 'heading_cat'] = 2\n",
    "\n",
    "train.heading_cat = train.heading_cat.astype('category') "
   ]
  },
  {
   "cell_type": "code",
   "execution_count": 163,
   "metadata": {},
   "outputs": [],
   "source": [
    "# 文中にカテゴリ名が含まれているどうか\n",
    "\n",
    "category_list = '|'.join(pd.read_csv(\"../data/category_in_noun_list.csv\").category.values)\n",
    "is_contain_cat = train.sentence.str.contains(category_list).tolist()"
   ]
  },
  {
   "cell_type": "code",
   "execution_count": 152,
   "metadata": {},
   "outputs": [
    {
     "data": {
      "image/png": "[encoded data removed]",
      "text/plain": [
       "<Figure size 432x288 with 1 Axes>"
      ]
     },
     "metadata": {},
     "output_type": "display_data"
    }
   ],
   "source": [
    "# 文字列長を特徴量にする\n",
    "\n",
    "plt.xlim((0, 200))\n",
    "plt.hist(train.sentence.str.len(), bins=500)\n",
    "plt.show()"
   ]
  },
  {
   "cell_type": "code",
   "execution_count": 164,
   "metadata": {},
   "outputs": [],
   "source": [
    "train = train.assign(length_cat = np.nan)\n",
    "\n",
    "train.loc[train.sentence.str.len() < 25, 'length_cat'] = 0\n",
    "train.loc[(train.sentence.str.len() >= 25) & (train.sentence.str.len() < 50), 'length_cat'] = 1\n",
    "train.loc[(train.sentence.str.len() >= 50) & (train.sentence.str.len() < 75), 'length_cat'] = 2\n",
    "train.loc[(train.sentence.str.len() >= 75) & (train.sentence.str.len() < 100), 'length_cat'] = 3\n",
    "train.loc[train.sentence.str.len() >= 100, 'length_cat'] = 4\n",
    "\n",
    "train.length_cat = train.length_cat.astype('category') "
   ]
  },
  {
   "cell_type": "markdown",
   "metadata": {},
   "source": [
    "### 最後にマッチングした手がかり語より前5単語の品詞をカテゴリ変数として特徴量を作成"
   ]
  },
  {
   "cell_type": "code",
   "execution_count": 145,
   "metadata": {},
   "outputs": [],
   "source": [
    "def remove_clue_word_from_sentence(s, clue_word_list):\n",
    "    return s[:list(re.finditer(r'|'.join(clue_word_list), s))[-1].start()]\n",
    "\n",
    "def get_hinshi_list(s, prev=5):\n",
    "    if len(s) is 0:\n",
    "        return [np.nan] * prev\n",
    "    \n",
    "    node = mecab_param.parseToNode(s)\n",
    "    hinshi = []\n",
    "    while node:\n",
    "        if len(node.surface) is 0:\n",
    "            node = node.next\n",
    "            continue\n",
    "\n",
    "        hinshi.append(node.feature.split(',')[0])\n",
    "        node = node.next\n",
    "    \n",
    "    return hinshi[::-1][:prev]"
   ]
  },
  {
   "cell_type": "code",
   "execution_count": 166,
   "metadata": {},
   "outputs": [],
   "source": [
    "hinshi_df = \\\n",
    "pd.concat(\n",
    "    [train\n",
    "    , pd.DataFrame(\n",
    "        train.sentence.apply(remove_clue_word_from_sentence, args=(clue_word_by_BS,)).apply(get_hinshi_list).tolist()\n",
    "        , columns=[\n",
    "            'prev1_hinshi_cat'\n",
    "            , 'prev2_hinshi_cat'\n",
    "            , 'prev3_hinshi_cat'\n",
    "            , 'prev4_hinshi_cat'\n",
    "            , 'prev5_hinshi_cat']\n",
    "        , dtype='category'\n",
    "    )]\n",
    "    , axis=1\n",
    ")"
   ]
  },
  {
   "cell_type": "code",
   "execution_count": 195,
   "metadata": {},
   "outputs": [],
   "source": [
    "train_X = \\\n",
    "pd.DataFrame(feature_word_dict).assign(\n",
    "    heading_cat = train.heading_cat\n",
    "    , is_contain_cat = is_contain_cat\n",
    "    #, length_cat = train.length_cat\n",
    "    , prev1_hinshi_cat = hinshi_df.prev1_hinshi_cat\n",
    "    , prev2_hinshi_cat = hinshi_df.prev2_hinshi_cat\n",
    "    , prev3_hinshi_cat = hinshi_df.prev3_hinshi_cat\n",
    "    , prev4_hinshi_cat = hinshi_df.prev4_hinshi_cat\n",
    "    , prev5_hinshi_cat = hinshi_df.prev5_hinshi_cat\n",
    ")\n",
    "train_y = train.label.tolist()"
   ]
  },
  {
   "cell_type": "code",
   "execution_count": 196,
   "metadata": {},
   "outputs": [
    {
     "name": "stdout",
     "output_type": "stream",
     "text": [
      "f1:  0.6624936866742639\n",
      "precision:  0.7149096215394148\n",
      "recall:  0.6200956937799043\n"
     ]
    }
   ],
   "source": [
    "model = lgb.LGBMClassifier(is_unbalance=False)\n",
    "\n",
    "scores = cross_validate(model, train_X, train_y, scoring=['f1', 'precision', 'recall'], cv=5)\n",
    "\n",
    "print(\"f1: \", scores['test_f1'].mean())\n",
    "print(\"precision: \", scores['test_precision'].mean())\n",
    "print(\"recall: \", scores['test_recall'].mean())"
   ]
  },
  {
   "cell_type": "code",
   "execution_count": 197,
   "metadata": {},
   "outputs": [
    {
     "data": {
      "text/plain": [
       "<matplotlib.axes._subplots.AxesSubplot at 0x119671630>"
      ]
     },
     "execution_count": 197,
     "metadata": {},
     "output_type": "execute_result"
    },
    {
     "data": {
      "image/png": "[encoded data removed]",
      "text/plain": [
       "<Figure size 432x288 with 1 Axes>"
      ]
     },
     "metadata": {},
     "output_type": "display_data"
    }
   ],
   "source": [
    "model.fit(train_X, train_y)\n",
    "lgb.plot_importance(model)"
   ]
  },
  {
   "cell_type": "code",
   "execution_count": 189,
   "metadata": {},
   "outputs": [],
   "source": [
    "predict = model.predict(train_X)"
   ]
  },
  {
   "cell_type": "code",
   "execution_count": 190,
   "metadata": {},
   "outputs": [],
   "source": [
    "TP_index = np.where((predict == train_y) & (predict == 1))[0]\n",
    "TN_index = np.where((predict == train_y) & (predict == 0))[0]\n",
    "FP_index = np.where((predict != train_y) & (predict == 1))[0]\n",
    "FN_index = np.where((predict != train_y) & (predict == 0))[0]"
   ]
  },
  {
   "cell_type": "code",
   "execution_count": 191,
   "metadata": {},
   "outputs": [
    {
     "name": "stdout",
     "output_type": "stream",
     "text": [
      "TP:  736\n",
      "TN:  2138\n",
      "FP:  158\n",
      "FN:  309\n"
     ]
    }
   ],
   "source": [
    "print(\"TP: \", len(TP_index))\n",
    "print(\"TN: \", len(TN_index))\n",
    "print(\"FP: \", len(FP_index))\n",
    "print(\"FN: \", len(FN_index))"
   ]
  },
  {
   "cell_type": "code",
   "execution_count": 192,
   "metadata": {},
   "outputs": [
    {
     "name": "stdout",
     "output_type": "stream",
     "text": [
      "['日本では配合用の原末が医療用に販売されているほか、第2類医薬品として市販の風邪薬に配合されている。'\n",
      " 'ケトチフェン（Ketotifen）は第二世代の非競合的H1ヒスタミン受容体遮断薬で肥満細胞安定化薬（英語版）である。'\n",
      " 'オシメルチニブ（Osimertinib、旧名：メレレチニブ、mereletinib）は、第三世代の上皮成長因子受容体（EGFR）チロシンキナーゼ阻害薬（英語版）（TKI）である。'\n",
      " 'したがって、これらから作られた飲食物、例えば、各種コーヒー飲料、緑茶、ウーロン茶、紅茶、ココアなどの飲料や、チョコレートなどの加工食品にもカフェインは含まれる。'\n",
      " '飲食品では主に、コーヒー飲料、緑茶、ウーロン茶、紅茶、ココア、コーラや栄養ドリンクなどの飲料、チョコレートなどにカフェインが含まれる。'\n",
      " '市販の鎮痛薬に含まれるカフェインや他の成分の依存や離脱症状が薬物乱用頭痛の発症に寄与する。'\n",
      " '医療分野において医薬品医療機器等法では1回（1錠・1包等）あたりに500mg以上のカフェインを含むものを劇薬に指定している。'\n",
      " 'イブルチニブは慢性リンパ性白血病（CLL）細胞のケモカイン（CXCL12およびCXCL13）に対する走化性を減少させ、B細胞受容体（BCR）への刺激に基づく細胞接着を阻害する。'\n",
      " \"経口投与可能な選択的不可逆的酵素阻害薬であり、ブルトン型チロシンキナーゼ(Bruton's tyrosine kinase; BTK）を阻害する。\"\n",
      " '日本では2016年3月に「再発または難治性の慢性リンパ性白血病（小リンパ球性リンパ腫を含む）」について承認された。'\n",
      " 'ネビラピンは非ヌクレオシド系逆転写酵素阻害薬（NNRTI）に分類される抗レトロウイルス薬である。'\n",
      " '酵素の活性中心に結合するヌクレオシド系薬剤とは異なり、NNRTIは活性部位から離れたNNRTIポケットと呼ばれる部位に結合し、酵素の立体構造を変化させ失活させる。'\n",
      " 'NNRTIの殆どは酵素の同じ部位に結合するので、ネビラピン耐性となったウイルス株は他のNNRTI（エファビレンツ（英語版）やデラビリジン（英語版）等）にも耐性を持っている。'\n",
      " 'しかしリルピビリン（英語版）やエトラビリン（英語版）等の第2世代のNNRTIは、ネビラピン等の第1世代NNRTIに耐性のウイルス株にも効果を示す。'\n",
      " 'ネビラピンは米国で最初に承認されたNNRTIである。'\n",
      " 'ART施行前にCD4数が少なくネビラピンを含む治療でCD4が増加した患者とウイルス量が測定不能の患者で、過敏症等に因り治療を中断する確率は、前治療が無く治療中のCD4数が少ない患者と同程度である。'\n",
      " '肥満細胞や炎症細胞からの様々な化学伝達物質の遊離を抑制してI型アレルギー反応を抑えるほか、TGF-β1の遊離抑制作用等で線維芽細胞のコラーゲン合成を抑制し、ケロイド形成を抑えることができる。'\n",
      " '内服薬：気管支喘息、アレルギー性鼻炎、アトピー性皮膚炎、ケロイド・肥厚性瘢痕 点眼薬：アレルギー性結膜炎 内服薬の治験では副作用は通算で5.3%に見られ、その主なものは消化管障害（嘔気、腹痛、胃部不快感、食欲不振、下痢等）、肝臓・胆管系障害（肝機能異常、ALT（GPT）上昇、AST（GOT）上昇、Al-P上昇等）のほか、発疹、頻尿であった。'\n",
      " '二ホウ化ウランは、ウランを含む放射性廃棄物を固定化して安全に長期保管する方法として応用が検討されている。'\n",
      " 'ピモジド（英:Pimozide）とは神経遮断薬の1つ。' '硝酸ガドリニウムは他の硝酸塩と同様に、酸化剤としてふるまう。'\n",
      " 'このためにプロスタグランディン類の合成が阻害され、炎症を抑え、また解熱作用も持つ。'\n",
      " 'イソレニエラテンを光合成色素として利用する、緑色硫黄細菌が知られている。'\n",
      " '主経路（線維柱帯流出路）または副経路（ぶどう膜強膜流出路）からの房水流出を促進し、眼圧下降作用を示す。'\n",
      " 'この化合物が下剤としての作用を示すことは古くから知られていた。'\n",
      " '含有量は微量であるが、嗅覚閾値が低いため、4-メトキシ-2-メチル-2-ブタンチオールとともに煎茶の香気成分として重要な役割を果たしていると考えられている。'\n",
      " 'ヒスタミンH1受容体及び血小板凝集を阻害し、鎮痛剤として作用することが知られている。' '抗不安薬、 鎮静作用、 鎮痛作用を持つ。'\n",
      " 'デクスメデトミジン(Dexmedetomidine)は麻酔薬のひとつ。'\n",
      " '固化防止剤 固化防止剤としてベビーパウダーなどに含まれる 歯磨き粉 フッ化物とfTCP配合歯磨剤により象牙質知覚過敏症の抑制効果が期待できるものと考えられる。'\n",
      " '骨格筋弛緩剤である、フルキサメタミド（(6-[4-(トリフルオロメチル)]フェニル)モルホリン-3-オン）はベンゾトリフルオリドより合成される。'\n",
      " 'リン化ガリウム（リンかガリウム、GaP、gallium phosphide）は、ガリウムのリン化物で、2.26 eV（300 K）の間接バンドギャップを持つ化合物半導体である。'\n",
      " '尿検査で腫瘍マーカーとして確認されるが、バナナ、ミカン、コーヒー、バニラなどの摂取で濃度が高くなり偽陽性となる事がある。'\n",
      " 'パイナップルのフレーバーとして有用で、「パイナップルメルカプタン」の別名を持つ。'\n",
      " '焼結助剤 窒化ケイ素（Si3N4）粉体の焼結助剤 アルゴンの単離 ウィリアム・ラムゼーが乾燥した空気を加熱した銅に通して酸素を除去し、さらに窒素を熱したマグネシウムと反応させ窒化マグネシウムを形成し除去することで、アルゴンを単離した。'\n",
      " '神経ガス検出装置の校正用に、サリンの代替物質として用いることもできる。'\n",
      " 'また、炭酸水素ナトリウムを服用、または、静脈内への水溶液の注射などをすると、尿のpHをアルカリ側に傾けること（=pHを上げること）ができる。'\n",
      " '天然の温泉に含まれる場合は重曹泉となり、これを模した入浴剤もある。' '炭酸水素ナトリウムは多くの入浴剤に配合されている。'\n",
      " 'ワラビなどの山菜のアク抜き、松の実などの臭み取り、豆を早く煮るため、肉を柔らかくする下ごしらえ、グレープフルーツや夏みかんの強烈な酸味を中和させるために直接かけたり、冷凍エビの食感改善などにも使うことができる。'\n",
      " 'メトカチノン(methcathinone)は習慣性薬物で、エフェドリンから合成される精神刺激薬である。'\n",
      " '水酸化テトラメチルアンモニウム（すいさんかテトラメチルアンモニウム、英: Tetramethylammonium hydroxide）は、化学式 [ ( CH 3 ) 4 N ] + [ OH ] − は5%以下） 超LSIの製造に不可欠なポジ型フォトレジストの現像液として重要であり、140℃程度の熱処理で分解することから現像終了後に残留しにくい利点がある。'\n",
      " 'このほか、再生繊維やポリエステル繊維の表面処理剤、粘土の解膠剤、二次電池用アルカリ電解質などに応用する特許がある。'\n",
      " 'アメリカでは、ブロムワレリル尿素を含む臭化物は医薬品としては禁止されている。'\n",
      " 'ブロムワレリル尿素（ブロムワレリルにょうそ、bromovalerylurea）は、鎮静催眠作用あるモノウレイド系の化合物である。'\n",
      " '鎮静剤として市販されている商品としては、「ウット」（伊丹製薬）がアリルイソプロピアルアセチル尿素などとの合剤、「奥田脳神経薬」（奥田製薬）がチョウトウ、ニンジンなどの生薬やカフェインなどとの配合剤である。'\n",
      " 'また、鎮静作用から市販の鎮痛剤にも配合されている。'\n",
      " '日本で処方箋が必要な医薬品には、1915年発売のブロバリン（Brovarin、日本新薬）が存在する。'\n",
      " '日本では1915年に発売された商品ブロバリンという医薬品は不眠症の適応があり、一般医薬品ではアリルイソプロピルアセチル尿素との合剤であるウットや、頭痛薬などにも成分の1つとして配合され、ナロン、ナロンエースが市販されている。'\n",
      " 'アメリカでは、ブロムワレリル尿素を含む臭化物は医薬品としては禁止されている。'\n",
      " 'フェンホルミン(英: phenformin)とはビグアニド類の抗糖尿病薬の1つ。'\n",
      " 'メトホルミンと同様に、フェンホルミンは体重減少を誘導し、2型糖尿病に効果を示すことがあり、このために現在でも関心が持たれている。'\n",
      " \"チオテパ（ThioTEPA、N,N'N'-トリエチレンチオホスホルアミド）は、抗がん剤の一種。\"\n",
      " '一日あたりHMBカルシウム塩(英)を3グラム摂取することで タンパク質の異化(分解)抑制 筋肉量の増加、筋肉減少の抑制、筋肉の修復、耐久性増加 を助ける可能性がある。'\n",
      " 'スルホン化剤に使われる。' 'そのほか、筋弛緩剤投与後の遷延性呼吸抑制の作用機序の鑑別診断の適応を持つ。'\n",
      " 'シナピン酸はマトリックス支援レーザー脱離イオン化（MALDI）質量分析法においてマトリックスとして一般に使用されている。'\n",
      " 'その一人Chauncey D. Leakeは、ビニルエーテルは2つの麻酔薬、エチレン・ジエチルエーテルの利点を併せ持つと推測した。'\n",
      " 'だが、この物質で培われた経験は新しい麻酔薬を開発する際の下地となっている。'\n",
      " 'スパルテイン（sparteine）は、クラスIa抗不整脈薬の一種。'\n",
      " 'エタノールアミン ヘプタミノール イソエタリン プロパノールアミン スフィンゴシン メタノールアミン ジメチルエタノールアミン N-メチルエタノールアミン 交感神経β受容体遮断薬には、アルカノールアミン系と呼ばれる小分類がある。'\n",
      " 'ラニムスチン(Ranimustine)は、ニトロソウレア系のアルキル化剤の一つである。'\n",
      " 'この性質を利用して型取り、立体模型、ギプスなどに利用される。'\n",
      " '2017年5月エダラボン（米国商品名：ラジカヴァ）がアメリカ食品医薬品局に「筋委縮性側索硬化症」の適応で認可された。'\n",
      " 'エダラボン（Edaravone）は脳保護剤（フリーラジカルスカベンジャー）であり、急性の脳虚血発作や脳梗塞後の血流再開時に発生するラジカルを捕えて脳神経を保護する働きを持つ。'\n",
      " 'これによって、抗炎症作用や鎮痛作用を発揮し、また、それに伴う副作用も持つ。'\n",
      " 'フルフェナム酸も他の一般的な非ステロイド性抗炎症薬と同様にシクロオキシゲナーゼを阻害することによって、プロスタグランジン類の生成を抑制する作用を持つ 。'\n",
      " 'フルフェナム酸（Flufenamic acid）とは、フェナム酸系の非ステロイド性抗炎症薬の1種であり、2--安息香酸のことである。'\n",
      " '多剤耐性肺結核に対する新たなオプションとして2014年に欧州、日本で承認された。' '安定性が高いため融剤として用いられることも多い。'\n",
      " 'チタン酸リチウム二次電池（英語版）は、リチウムイオン二次電池よりも高速充電が可能な二次電池である。'\n",
      " 'また、血圧を下げる効果もあるため、高血圧と前立腺肥大症を併発している場合に有効である。'\n",
      " 'テラゾシンは、アドレナリンが膀胱や血管の平滑筋に作用するのをブロックする。' 'バクロフェンはGABA作動薬のひとつ。'\n",
      " 'ジアフェニルスルホンは、サルファ剤のひとつである（ただし、スルホンアミドではない）。' '日本で感染症としてはハンセン病のみに適応を持つ。'\n",
      " 'アセトン、過酸化水素水、塩酸、硫酸などの、比較的日常的な物質から製造できる爆薬である。'\n",
      " '特に全身麻酔の場合人工呼吸器を使用するため、副作用の呼吸抑制も無視できる。'\n",
      " '安定な異性体はラルテグラビル（英語版）やブタラミン、ファシプロンやオキソラミン（英語版）、プレコナリル（英語版）などの薬の成分となる。'\n",
      " 'ロフラゼプ酸エチル (ethyl loflazepate) は、ベンゾジアゼピン系の緩和精神安定剤、抗不安薬の一種。'\n",
      " '日本で承認されている適応は、心身症や神経症における不安、緊張、抑うつ、睡眠障害である。'\n",
      " 'レクチンが結合したオリゴ糖で、細胞認識の為に有用な情報を得ることができる。'\n",
      " 'ヒト母乳中にオリゴ糖が含まれる理由としては、感染防御の役割が考えられる。'\n",
      " 'アフロカロン(Afloqualone)は、キナゾリノン系のGABA作動薬で、1970年代に田辺製薬が開発したメタカロン（英語版）のアナログである。'\n",
      " 'ディールス・アルダー反応の基質にも用いられ、ビシクロ [2.1.0] ペンタンの前駆体合成への利用例が報告されている。'\n",
      " 'これは油脂を鹸化する力が強くオーブンなどの清掃に有効である。' 'プロピオン酸ベンジル - 合成香料の1つ。'\n",
      " '溶媒のほか、開環重合によりポリテトラメチレンエーテルグリコール（ポリエーテル）製造の原料となる。'\n",
      " 'また止血作用以外に、顔のしみのひとつである肝斑への効能が確認され、商品化されている。'\n",
      " '天然のアントラキノン誘導体は下剤として働くものが多いとされている。'\n",
      " 'トリパノソーマのような原生生物の細胞膜の流動化剤 (fluidizer) としても作用し、これは東アフリカでみられるアフリカ睡眠病に対して用いられる。'\n",
      " '菌類には存在するが動物には見られないという性質は抗真菌薬の開発に応用されている。' 'アニソール自身は昆虫のフェロモンの一種でもある。'\n",
      " '工業原料の他、農業資材としてカリウム肥料としても市販されている。'\n",
      " '酸塩基指示薬として用いる場合、N/50 NaOH 8cm3にBTBを0.10g溶解させ、250cm3の水で希釈する。'\n",
      " '一方脱プロトン化したBTBは602\\xa0nmの光を最もよく吸収し、塩基性溶液中で青色の光を反射する BTBの炭素骨格は クロロフェノールレッド（英語版）、チモールブルーやブロモクレゾールグリーン(英語版）など多くの酸塩基指示薬と同じである。'\n",
      " '酸を検出する指示薬として、ナトリウム塩の形で市販されている。'\n",
      " '日本で売られている家庭用ゴキブリ駆除剤でもフィプロニルが使われているものが多いが、駆除剤1個当たり0.5mｇ～1mｇのフィプロニルが含まれ、これは一日許容摂取量の約2,500倍から5,000倍相当となる。'\n",
      " 'フィプロニル（英:fipronil）は、バイエルクロップサイエンス\\xa0(de:Bayer CropScience)\\xa0の前身であるローヌ・プーランが開発したフェニルピラゾール系殺虫薬の1つ。'\n",
      " '強力な発がんプロモーション活性を持つハズ油（クロトン油）の主要活性成分として、1967年にHeckerによって、1969年にVan Duurenによってそれぞれ独立に分離された。'\n",
      " 'これはウイルスや原生動物感染症に対しても有効である。'\n",
      " '1964年にクリオキノールが入院患者の赤痢菌および赤痢アメーバ(Entamoeba histolytica)感染症の予防と治療に有効であるとの報告がなされた。'\n",
      " 'クリオキノール（Clioquinol）またはキノホルム(Chinoform、Quinoform)またはヨードクロルヒドロキシキン（Iodochlorhydroxyquin）またはPBT1は、抗真菌作用と抗原虫作用を持つ化合物である。'\n",
      " '第II相臨床試験の結果、クリオキノールがアルツハイマー型認知症での認知機能低下を抑制し、銅イオンおよび亜鉛イオンとキレートを形成する事によると思われると報告された。'\n",
      " '動物実験ではアルツハイマー型認知症のほか、パーキンソン病やハンチントン病の症状を消退させることが示された。'\n",
      " '自閉症の症状を呈するマウスに投与すると、その症状が軽減し、非自閉症マウスと変わらない程になったという。'\n",
      " 'また線虫では興奮性の神経伝達物質として機能することも明らかとなった。'\n",
      " 'γ-アミノ酪酸（ガンマ-アミノらくさん）または4-アミノ酪酸（IUPAC名 4-aminobutanoic acid）は、アミノ酸のひとつで、主に抑制性の神経伝達物質として機能している物質である。'\n",
      " 'また、特定のタンパク質抗原の免疫補助剤として知られている。'\n",
      " '第一世代は、エタノールアミンにより血液脳関門を通過するので、バルビツール酸系を凌駕する鎮静作用を持つ（新しい抗ヒスタミン薬はそうではない）。'\n",
      " 'この理由のため、エタノールアミン構造を持つ抗ヒスタミン薬の強い眠気の作用を避けることができる第二世代抗ヒスタミン薬がしばしば処方される。'\n",
      " '逆に、この鎮静作用を持つため第一世代の抗ヒスタミン薬は抗アレルギー薬として以外にも、睡眠導入剤として薬局薬店で販売されている。'\n",
      " 'これらは第一世代の抗ヒスタミン薬であり、今日でもアレルギー疾患に有効である。'\n",
      " '数百ppmの濃度では肺から吸収されて循環器に回り、血液中のヘモグロビンや細胞内のミトコンドリアと結合して機能を停止させる血液剤として働くが、数千ppm以上の濃度では肺に直接作用し、肺の機能を麻痺させて呼吸ができなくなる窒息剤として働く。'\n",
      " 'また、低温で反応せず均一に発泡するため、ビスケット、パン、ドーナツなどの膨張剤として使用される。'\n",
      " 'トリスのpKaは温度依存性が高いため、緩衝液のpHは温度が1℃上昇するごとにおよそ0.028減少することに注意が必要である。'\n",
      " 'モキシフロキサシン (Moxifloxacin) は、第IIIa世代キノロン系抗菌薬のひとつ。'\n",
      " '無色またはわずかに黄色がかった液体であり、水や酢酸エチル、クロロホルム、ベンゼン、低級アルコールや低級ケトンといったさまざまな溶媒と混ざり合うことができる。'\n",
      " 'N-メチル-2-ピロリドン (N-methylpyrrolidone、NMP) はラクタム構造を含む 5員環の構造を持つ有機化合物で、極性溶媒のひとつである。'\n",
      " 'ピルビン酸からオキサロ酢酸になり糖新生に入るもの アラニン グリシン セリン トレオニン システイン トリプトファン プロピオン酸等からスクシニルCoA（コハク酸の誘導体）になりクエン酸回路のオキサロ酢酸から糖新生に入るもの イソロイシン メチオニン バリン オキサロ酢酸になり糖新生に入るもの アスパラギン酸 α-ケトグルタル酸になりクエン酸回路のオキサロ酢酸から糖新生に入るもの アルギニン グルタミン酸 ヒスチジン プロリン フマル酸になりクエン酸回路のオキサロ酢酸から糖新生に入るもの チロシン フェニルアラニン オキサロ酢酸はそのままではミトコンドリアの内膜を通過できないので、ミトコンドリアから細胞質へのホスホエノールピルビン酸の輸送は、リンゴ酸/ホスホエノールピルビン酸シャトルによって調停される。'\n",
      " 'クエン酸回路の中間体であるオキサロ酢酸から解糖系（糖新生系）を経由して、グルコースに転換されうるアミノ酸のことである。'\n",
      " 'しかしながら、アスタキサンチンを人間が摂取した場合の有効性を示す信頼できるデータはなく、サプリメントとしての安全性についても確実な情報は存在しない。'\n",
      " 'ルミノール (luminol) は、窒素含有複素環式化合物の一種で、科学捜査や、化学の演示実験に欠かせない試薬である。'\n",
      " 'またコールタールにも含まれる。'\n",
      " '固定液としての主要な反応は、タンパク質のリジン残基のε-アミノ基との間で起こるが、α-アミノ基やSH基との間でも起こり、分子間架橋を形成する。'\n",
      " '炭疽菌の芽胞にも有効であり、ホルムアルデヒド、次亜塩素酸ナトリウム、過酸化水素、過酢酸とともに WHO（世界保健機関）が炭疽菌の消毒薬として推奨する消毒薬の一つである。'\n",
      " '特に電子顕微鏡（透過型、走査型双方）観察用の標本調整では、固定力が強く、細胞の微細構造をよく保存するので基本的な固定液として重要である。'\n",
      " 'インジゴイド系の食用タール色素に分類される合成着色料である。'\n",
      " '多くのアミンと同じく N 上に孤立電子対を持つため塩基性を示し、求核剤としてハロゲン化アルキルやカルボン酸誘導体等と反応し、置換アミン、アンモニウム塩あるいは酸アミドを生成する。'\n",
      " '不眠症 麻酔前投薬 異型小発作群（点頭てんかん、ミオクロヌス発作、失立発作等） 焦点性発作（焦点性痙攣発作、精神運動発作、自律神経発作等） 錠 － 2mg / 5mg / 10mg 細粒 － 1% ふらふら感、倦怠感、眠気、残眠感、頭痛、頭重感、嘔気、嘔吐、口渇などが報告されているが、いずれも一過性かつ、軽度のものである。'\n",
      " '睡眠剤としては中期～長期作用型に分類される。' '向精神薬に関する条約のスケジュールIVに指定されている。'\n",
      " 'ニトラゼパム（Nitrazepam）は、ベンゾジアゼピン系の中間型作用時間を持つ睡眠薬である。'\n",
      " 'アダパレンはレチノイン酸受容体（RAR）に選択的に結合し、表皮角化細胞（英語版）の角化を制御することで面皰の形成を抑制するため、非炎症性皮疹と炎症性皮疹の数を共に減少させる。'\n",
      " '過酸化水素との包接化合物（尿素-過酸化水素付加体、略称 UHP）は、固体の形で取り扱える酸化剤として市販されている。'\n",
      " '日本国内においてはA型ボツリヌス毒素製剤（商品名：ボトックス注用50単位・100単位）が注射剤として、1996年に眼瞼痙攣、2000年に片側顔面痙攣、2001年に痙性斜頸、2009年に2歳以上の小児脳性麻痺患者における下肢痙縮に伴う尖足、2010年に上肢痙縮・下肢痙縮、2012年に重度の原発性腋窩多汗症の適応で承認されている。'\n",
      " 'また、2011年にB型ボツリヌス毒素（商品名：ナーブロック筋注2500単位）が痙性斜頸の適応で承認されている。'\n",
      " '米国においては、斜視、痙性斜頸、眼瞼痙攣、上肢痙縮、多汗症に加え、神経学的疾患による過活動性膀胱、慢性片頭痛の適応で承認されている。'\n",
      " '薬事法 厚生労働大臣が指定したものは規制対象から除外で、ボツリヌス毒素では 0.1mg以下のボツリヌス毒素、A型ボツリヌス毒素を含有する製剤500単位以下のもの、またはB型ボツリヌス毒素を含有する製剤10,000単位以下のもの。'\n",
      " '1960年代から1970年代には、ダイエットへの有効性が認識され、広く使われるようになった。'\n",
      " '1963年から発売開始されたコカ・コーラ社のタブなど、ダイエット飲料にも用いられている。'\n",
      " '微小管の細胞骨格に作用することによって腫瘍細胞の増殖を抑えることも示されている。'\n",
      " '例えばスーパーオキシドアニオンや一酸化窒素の発生を抑え、抗酸化剤として働くことが知られている。'\n",
      " '薬事法施行規則では、カンタリジン及びその化合物が毒薬に、カンタリスとこれを含有する製剤及びカンタリジン又はその化合物を含有する製剤（一部例外あり）が劇薬に指定されている。'\n",
      " 'その後、塩素を石灰水に溶かすと安全かつ漂白作用を維持できることに気づいたベルトレーは、1786年にジェームズ・ワットにこのことを教えた。'\n",
      " 'イノシン酸のナトリウム塩（イノシン酸ナトリウム）は、かつお節の旨味の主成分であり、うま味調味料として重要である。'\n",
      " '蕎麦に含まれるルチンは、毛細血管強化、高血圧予防、酸化防止などの生理活性を有する。'\n",
      " 'ルチンは毛細血管を強化することから[要出典]、血友病症状を低減することができる。' 'ルチンはアルドースレダクターゼ活性を阻害する[要出典]。'\n",
      " 'ルチンは一部の動物やin vitroモデル実験において抗炎症活性を示す。'\n",
      " 'ルチンは俗に「健康によい」として様々な効能が謳われており、抗炎症効果や血流改善効果については数多くの論文にて報告されている。'\n",
      " '過酢酸は、炭疽菌に代表される芽胞にも有効であり、グルタルアルデヒド、ホルムアルデヒド、次亜塩素酸ナトリウム、過酸化水素とともに世界保健機関 (WHO) が炭疽菌の消毒薬として推奨するもののひとつとなっている。'\n",
      " 'グルコン酸カルシウム(英: calcium gluconate)とはミネラルサプリメントの1つ。'\n",
      " 'グルコン酸カルシウムの1水和物はカルシウム補給薬として医薬品医療機器総合機構の承認を受けてカルチコール末という名称で市販されている。'\n",
      " '術後悪心嘔吐の制御には、オンダンセトロンを含む多くの医薬品が有効である。'\n",
      " 'オンダンセトロンは周期性嘔吐症候群（英語版）の嘔吐期に有効な薬剤の1つである。'\n",
      " 'グラニセトロンと異なり、放射線療法誘発性悪心嘔吐（RINV）には承認されていない。'\n",
      " '日本で承認されている適応は、抗悪性腫瘍剤（シスプラチン等）投与に伴う消化器症状（悪心、嘔吐）（化学療法誘発性悪心嘔吐（英語版）、CINV）である。'\n",
      " 'オンダンセトロンは高選択性セロトニン 5-HT3受容体拮抗薬であり、ドーパミン受容体への親和性は低い。'\n",
      " 'ヒトへの影響は強くなく、鎮静剤・鎮痙剤・解熱剤として弱い効果を持つのみであるが、多量に摂取すると嘔吐を起こす。'\n",
      " '昆虫へ作用することも知られており、ゴキブリやカには忌避剤として働くが、ハエには有毒であり、アブラムシにはフェロモンとなる。'\n",
      " '） 他、抗コリン作用を有する医薬品（第一世代、第二世代抗うつ薬等多数）との併用に関しても、リスクとベネフィットの見極めが問題となろうが、優先されるべきはドキシラミンによる催眠鎮静、抗アレルギー作用ではないとは思われる。'\n",
      " 'ドキシラミン（doxylamine）は鎮静作用のある抗ヒスタミン薬の一つである。'\n",
      " '医薬品として用いられるのはコハク酸塩（コハク酸ドキシラミン）である。'\n",
      " 'また、妊娠中の女性のつわりの諸症状を緩和するための薬としてビタミンB6（ピリドキシン）と組み合わせた商品がある。'\n",
      " '日本ではドキシラミンを有効成分として含有する医薬品は医療用、一般用共に販売されていない。'\n",
      " 'アメリカでは、風邪の諸症状を緩和する薬として店頭販売されているNyQuilの鎮静成分である。'\n",
      " 'カナダでは、つわりの諸症状を緩和する薬、商品名Diclectinは、ビタミンB6と共に配合されている。'\n",
      " '万能指示薬を構成する成分の一つである。' '水素化は立体的にはsyn付加で進行し、アルキンに適用するとcis-アルケンが生成する。'\n",
      " 'あるいは重要な反応としては水素化によりニトロ化合物はアミノ体に、ケトンはアルコール体へと変換されることが知られている。'\n",
      " '特にニトロ化合物のアミノ体に還元する場合はパラジウム触媒に比べて水素化分解が少ないことが知られている。'\n",
      " '半導体材料としての性質は、1.35eVのバンドギャップを持つIII-V族半導体であり、電子移動度は<0.54m2/Vs、ホール移動度は<0.02m2/Vsである。'\n",
      " 'こういった材料を組み合わせることで、光通信用の受発光デバイスや、超高速トランジスタ、共鳴トンネリングダイオードやそれらの集積回路の作成が可能となる。'\n",
      " 'インジウム燐材料の物性を活かしたデバイスとしては、ガンダイオードと呼ばれるミリ波で発振するデバイスがある。'\n",
      " 'テトラヒドロゾリン (tetrahydrozoline) は、塩酸テトラヒドロゾリンとして目薬や点鼻薬に含まれるイミダゾリンの誘導体である。'\n",
      " 'また、痔の出血・発赤を抑えるために、一部の坐剤（座薬）に配合されている。' '淡黄色固体の粉末で、硫化剤などとして工業的に重要である。'\n",
      " '科学的、医学的な根拠が示されていないにも関わらず、現在においても発癌性が盛んに主張される背景には、天然石鹸を販売する業者が市販の歯磨き粉や洗剤の中に含まれる危険な成分としてこの物質を紹介しているという事情がある。'\n",
      " 'ラウリル硫酸ナトリウム（ラウリルりゅうさんナトリウム、sodium lauryl sulfate, SLS）は陰イオン性界面活性剤の1つ。'\n",
      " '爆薬、推進薬として検討の対象となった。' '四塩化ケイ素と六塩化二ケイ素は有機ケイ素化合物の製造に非常に重要である。'\n",
      " '揮発性を持つ物質であり、接触および吸入剤として作用する。' '主な工業的用途として、熱可塑性を持つクマロン-インデン樹脂の原料となる。'\n",
      " '第三世代抗精神病薬に分類される。'\n",
      " 'セレノメチオニンをメチオニンの代わりにタンパク質に導入することによって、MAD法を用いたX線回折による構造解析に役立てることができる。'\n",
      " 'ジメチルグリオキシムはニッケルの重量分析においてキレート剤として利用される。'\n",
      " 'エテンザミド（英Ethenzamide）は、サリチル酸系の解熱鎮痛消炎剤の一種。'\n",
      " 'ケトプロフェン（ketoprofen）とは、抗炎症作用、鎮痛作用を有する、プロピオン酸系の酸性非ステロイド性抗炎症薬の1種で、(RS)-2-(3-ベンゾイルフェニル)プロパン酸のことである。'\n",
      " 'ケトプロフェンは他の非ステロイド性抗炎症薬と同様に、シクロオキシゲナーゼを阻害することによって、生体でのプロスタグランジン類の産生を抑制する。'\n",
      " 'しかし、プロスタグランジン類には例えば胃の粘膜保護など他の作用もあり、その作用まで抑制してしまうための副作用も起こり得るなど、副作用についでも他の非ステロイド性抗炎症薬と共通点も多い。'\n",
      " 'ケトプロフェンは1967年にフランスのローヌ・プーラン社（現 サノフィ・アベンティス社）で合成され、内服薬(日本では販売中止)の他、軟膏剤、ゲル剤、クリーム剤、液剤（セクター®ローション:久光製薬）、パップ剤（モーラス®）、テープ剤、注射剤（カピステン®:キッセイ薬品工業）等の様々な剤形で販売されている。'\n",
      " '過去には日本でも一般用医薬品としても販売されていたものの、光線過敏症が起こるなどの理由で一般用には販売されなくなった。'\n",
      " 'ちなみに、ケトプロフェンは腎排泄型の薬物として知られている。'\n",
      " '強誘電体であり、大きな圧電性を示すことから、ビスマス層状構造強誘電体やチタン酸ビスマスナトリウム(BNT)などと共にチタン酸ジルコン酸鉛(PZT)を代替する非鉛圧電セラミックスの有力候補として研究開発が進められている。'\n",
      " 'ベンゾイミダゾール系の広スペクトル駆虫薬に分類される。' '実験室レベルでのジシアンの合成法の1つは、シアン化水銀(II)の熱分解である。'\n",
      " 'クレンブテロールは喘息のような慢性呼吸障害を持つヒトに対して呼吸を楽にする目的で使用される。'\n",
      " '周期性嘔吐症（英語版）に対する有効性を確認する正式な臨床試験は実施されていない。'\n",
      " '急性・慢性内科的疾患や急性胃腸炎による悪心・嘔吐に有効性を示す。'\n",
      " 'グラニセトロンを含む多くの薬剤が、術後悪心嘔吐（英語版）（PONV）の治療に有効であるが、グラニセトロンは日本では適応外である。'\n",
      " 'カルバコール (英:carbachol) はコリンエステル類に属するコリン作動薬のひとつ。' 'ムスカリン様作用とニコチン様作用を有する。'\n",
      " 'ジモルホラミン（Dimorpholamine）とは呼吸興奮薬の1つ。'\n",
      " '直接ないし末梢化学受容器を介して延髄および橋の外側網様体に存在する呼吸中枢を興奮させる。'\n",
      " 'ピパンペロン（pipamperone）は、ブチロフェノン系の定型抗精神病薬の一種。'\n",
      " 'アミロライド（英:amiloride）とはカリウム保持性利尿薬のひとつ。'\n",
      " 'アミロライドは腎上皮ナトリウムイオンチャネルを阻害することにより利尿作用を示す。'\n",
      " 'グラム陽性菌、マイコプラズマ、クラミジア、レプトスピラに有効であり、タイロシンはマイコプラズマに対する活性が他のマクロライド系抗生物質よりも高い。'\n",
      " '静菌的に作用するが高濃度では殺菌的に作用する。' 'タイロシン（tylosin）とはマクロライド系抗生物質の1つ。'\n",
      " 'ペンタセンは潜在的な二色性を持つ染料として研究されている。'\n",
      " '他のモノテルペン香料物質の原料となるほか、ビタミンAやビタミンEの合成中間体でもある。'\n",
      " '着色料としては「D＆Cイエロー7」および「D＆Cイエロー8」（二ナトリウム塩）の名で知られている。'\n",
      " 'ハロタン(Halothane)とは吸入麻酔薬の一種である。'\n",
      " '睡眠作用・性欲増強作用を持つために、性犯罪への悪用が目立つとされ、日本における規制のきっかけとなった。' '中枢神経系の抑制効果を持つ。'\n",
      " 'ジベレリン酸には茎の加速の促進、細胞分裂の促進、種子の発芽の誘発の作用を持つ。'\n",
      " 'ナリジクス酸（ナリジクスさん、Nalidixic acid）とは、1962年にウィンスロップ・ラボラトリー社により開発（化学合成）された抗菌剤の一種である。'\n",
      " 'かつては酸化物である酸化トリブチルスズ、(n-C4H9)3Sn-O-Sn(n-C4H9)3 とともに貝やフジツボや海藻の付着を防ぐ目的で船底や魚網の塗料に加えられていたが、貝のオス化など海洋生物に悪影響を与えることが判明した。'\n",
      " 'TFEはまた、水素や酸素を含む化合物とともに多くの共重合体を作る。'\n",
      " 'TFEを含むプラスチックには、エチレンと1:1で混合したETFEやランダム共重合体のPFAなどがある。'\n",
      " 'このグリニャール試薬を中間体として、例えば二酸化炭素と反応させて安息香酸を作ったりできる。'\n",
      " '単一成分、またはコンドロイチン（コンドロイチン硫酸）との混合物として、栄養補給サプリメントや健康食品として販売されている。'\n",
      " 'ショートニングの原料となり、食品としての有用性が高い。' '天然に多く存在するフェルラ酸はバニリンの工業合成の原料となる。'\n",
      " '消毒用エタノール（別名：消毒用アルコール） 15℃でエタノールを76.9〜81.4v/v%含む。'\n",
      " '1977年にフォルクスワーゲン・ブラジリアを皮切りに導入され、既にブラジルでは年間に販売される新車の半数以上がエタノール燃料に対応した車となっている。'\n",
      " '容積比率で1 ％以上のエタノールを含む飲料は、酒税法により酒類と呼ばれ、この製造や販売には所轄税務署長の免許（製造免許や販売業免許）が必要である。'\n",
      " '他に消毒用エタノールの中には酒税の課税を回避するためにメタノールなどが意図的に混入されていることもあるものの、メタノールなどを含むものは人体に摂取すると重篤な症状を引き起こす危険がある。'\n",
      " 'なお、製造業者や輸入業者は省令で定められた加算額を含む価格で工業用アルコールを販売することができ、これを特定アルコールという。'\n",
      " 'なお、エタノールそれ自体もれっきとした有機溶媒の1種に数えられ、様々な物質を溶解させる能力を持つ。'\n",
      " '別名としてエチルアルコール(ethyl alcohol)やエチルハイドレート、また酒類の主成分であるため「酒精」とも呼ばれる。'\n",
      " '2007年現在、食欲抑制剤としては日本で唯一承認されており、サノレックスの商品名で、ノバルティスファーマから販売されている。'\n",
      " 'ジヒドロコデイン（英: Dihydrocodeine）は、麻薬性鎮咳薬の1つ。'\n",
      " 'ピクロトキシン（英:picrotoxin）はセスキテルペンに属する痙攣薬のひとつ。'\n",
      " 'メチセルジド（英:methysergide）、またはメチセルギドとは、5-HT受容体拮抗薬のひとつ。'\n",
      " '従来の抗コリン薬に比べて、ムスカリン受容体拮抗作用が膀胱選択的であるため、抗コリン薬特有の副作用は少なくなっているが、皆無ではないため、特に投与開始初期は注意が必要。'\n",
      " 'ソリフェナシン（Solifenacin）は、抗コリン薬に分類される膀胱平滑筋の収縮を抑制する薬物である。'\n",
      " 'アセチルコリンのM3受容体への結合を阻害することにより、ソリフェナシンは膀胱平滑筋の緊張を低下させ、膀胱が多くの尿を蓄えることを可能にして、排尿回数、尿意切迫感および尿失禁回数を減少させる。'\n",
      " '磁気インク文字認識 (MICR) は酸化鉄(III) 化合物をインキ中にをけん濁させ、特殊な機器により読み取ることができるようにしている。'\n",
      " '酸化第二鉄以外の研磨剤もRougeと呼ばれることもあるが、そのばあいは酸化鉄は含まれていない。'\n",
      " 'それは光ディスクや紙媒体の本あるいはマイクロフィルムなど、他の代替物のビット当たりコストに比べ鉄を基材とした磁気メディアのビット当たりコストがはるかに低い為である。'\n",
      " '消化作用を助けるほか、神経伝達物質としても作用する。' '諸外国ではサプリメント（健康食品の一種）として販売されていることもある。'\n",
      " 'アルキルリチウムの求核性が高いため、塩基としての反応は限られるが、活性プロトン（R−OH, R2NH の H など）を持つ化合物との反応によりリチウムアルコキシドおよびリチウムアミドが生成する。'\n",
      " 'アルキル部位の立体障害の違いは会合度や求核性へ影響を与え、立体障害が高く会合度が最も低い tert-ブチルリチウムが最も高い塩基性と最も低い求核性を示す。'\n",
      " 'アルキルリチウムはグリニャール試薬と同様に求核剤として用いられることもあるが、含ハロゲン化合物のリチオ化や塩基として用いられることも多い。'\n",
      " '向精神薬に関する条約の下では、カチンはスケジュールIIIに指定されている。' 'また、いくぶん弱いがドーパミンの遊離剤としての作用も持つ。'\n",
      " 'アンフェタミンや、カチノン、エフェドリン等、他のアンフェタミンと同様に、カチンはノルアドレナリンとアドレナリンの遊離剤として働く。'\n",
      " '精神刺激薬として作用する。'\n",
      " 'カチン(Cathine)またはd-ノルプソイドエフェドリン(d-norpseudoephedrine)は、フェネチルアミンおよびアンフェタミンに化学分類される向精神薬である。'\n",
      " 'いくつかの木の種では、形成組織および茎葉部の成長の抑制が見られる。'\n",
      " '植物ホルモンジベレリンの生合成を阻害することで、節間伸長の抑制による茎を太くする、根の生長、早期着果および結実などを、トマトやコショウにおいて引き起こす。'\n",
      " 'スルファメトキサゾール単剤では耐性獲得のために無効となりやすいため、日本ではトリメトプリムとの合剤としてしか販売されていない（2010年現在）。'\n",
      " 'スルホンアミド系薬剤はパラアミノ安息香酸（para-aminobenzoic acid; PABA）と構造が類似しており、競争的阻害薬として作用する。'\n",
      " 'トキソプラズマ症・ニューモシスチス感染症でも用いられる。'\n",
      " 'MRSAを含むブドウ球菌・大腸菌・インフルエンザ菌・嫌気性菌に感受性を持つことが多い。' '高血圧、心不全、糖尿病で腎保護作用を示す。'\n",
      " '日本で承認されているものは本態性高血圧症、腎性高血圧症、腎血管性高血圧症、悪性高血圧、慢性心不全（軽症～中等症）である。'\n",
      " 'シルニジピンは他のカルシウム拮抗薬同様にL-型カルシウム・チャネルを阻害する他に、交感神経終末にあるN-型カルシウム・チャネルを阻害する。'\n",
      " '血糖値の高い場合にのみインスリン分泌効果等を発揮し、臨床的に有意な血糖降下作用を示す。'\n",
      " '水酸基にシリルクロリドを作用させ、シリルエーテルとして保護する場合にも、イミダゾールを塩基兼触媒として加えるのが標準的処方となっている。'\n",
      " '医薬品としては、アゾール系抗真菌剤がイミダゾール構造を含む代表的な例として知られている。'\n",
      " 'また、置換基を有する広義のイミダゾール類としては、シメチジン（抗潰瘍剤）、ロサルタン（抗高血圧剤）、オザグレル（抗喘息剤）など多くの医薬が知られている。'\n",
      " 'また、神経幹細胞を増殖させ、そのアポトーシスを阻害することが報告されている。'\n",
      " 'プロトカテク酸の量と塗布する時間により、腫瘍の成長を減退もしくは増進させることができる。'\n",
      " '5q-症候群では2本ある第5染色体の一方の長腕の一部が欠失しており、カゼインキナーゼCSK1A1セリン/スレオニンキナーゼ5q32がハプロ不全（英語版）となっている。'\n",
      " 'また、レナリドミドは5q-症候群に対しても著効を示し、多くの患者が輸血依存から脱却できる可能性がある。'\n",
      " '再発もしくは難治性の多発性骨髄腫ではレナリドミドを25 mg程度/dayを3週間続け、1週間休薬する投薬が多いが、副作用、特に好中球数を見ながら投薬量を調整することが多い。'\n",
      " '5q-症候群以外の骨髄異形成症候群でも、一部では貧血の改善が見られることがある。'\n",
      " '5q-症候群では貧血が強く輸血依存になることが多かったが、レナリドミドの服用で多くの例で貧血が改善し輸血が不要となっている。'\n",
      " '欧米において輸血が不可欠な輸血依存性の5q-を持つMDS患者148人（そのうち厳密な5q-症候群は110人、38人はより不良な5q-併発例）にレナリドミドを10 mg/dayを3週間続け、1週間休薬する投薬を行う治験では148人中99人 (67%) が24週までに輸血が不要になり、保護観察中央値2年後にも53人は輸血が不要なままでいる。'\n",
      " '骨髄異形成症候群のうち5番染色体長腕部欠失を伴う骨髄異形成症候群（5q-症候群）ではレナリドミドを10 mg程度/dayを3週間続け、1週間休薬する投薬が多い。'\n",
      " 'しかし、サリンやVXガスなど神経ガスも有機リン剤の一種であるため、効果を発揮する。'\n",
      " 'また、ほ乳類細胞の脂質ラフト/カベオラエンドサイトーシス経路の阻害剤として細胞生物学で使用されている（3 µg/mL程度の濃度）。'\n",
      " 'ステロール依存性イオンチャネルを形成するアムホテリシンBおよびナイスタチンA1とは異なり、フィリピンは単純な膜破壊剤であると考えられている。'\n",
      " '臭化ストロンチウムは燃焼させると赤い強い光を出して燃えるため、フレアに利用される。'\n",
      " 'テアニンは、血液脳関門を通過でき、精神に影響を与える作用がある。'\n",
      " '月経前症候群（PMS）に関しては、PMS時のイライラ、憂鬱、集中力の低下等の精神的症状を改善することが報告されている。'\n",
      " 'テアニンは脳内のドーパミンレベルを上昇させ、グルタミン酸レセプタ（AMPA型NDMA型）、カイニン酸レセプタへの親和力性は低い。'\n",
      " '50mg摂取では不安傾向の低い人に、200mg摂取では不安傾向の高い人においてもリラックス効果が認められている。'\n",
      " '免疫系への効果について、テアニンはガンマ・デルタT細胞の防衛機能を増強することで、感染に対する生体の免疫反応を助けるかもしれない。'\n",
      " '日本国外の飲料メーカーではテアニンを含む飲料を販売しているが、その宣伝は精神集中を助けると謳うもの、リラックス・鎮静を謳うもの、まちまちである。'\n",
      " 'ガムやキャンディーなどの菓子類、ゼリー、アイスクリーム、ヨーグルトなどの冷菓、清涼飲料水やニアウォーターなどの飲料、およびサプリメントや美容食品などに応用されている。'\n",
      " '酸化セリウム(IV)は、500–650\\xa0°Cという中間的な温度において酸化物イオンの高いイオン伝導性をもち、ジルコニア系よりも生成エンタルピーが低いことから、固体酸化物形燃料電池(SOFC)の素材として注目されている。'\n",
      " '高温処理の際に、炭化水素を酸化する触媒として働く。' 'ミョウバンの原料とされ、またカリ肥料として重要である。'\n",
      " 'ヘミンは、ポルフィリン症、特に急性間欠性ポルフィリン症の発作の軽減に使用されている。'\n",
      " '酸化力が強く、第一級アルコールやアルデヒドをカルボン酸に変えるほか、第二級アルコールをケトンに変える。'\n",
      " 'シフルトリン (cyfluthrin) は、ピレスロイド系殺虫剤のひとつ。'\n",
      " 'アレスリン（allethrin、アレトリン）類は、殺虫剤として使用される一対の合成化合物である。' '媒染剤、なめし剤として用いられる。'\n",
      " 'これは、敵からの防衛のためであると共に、オスが放出する性フェロモンの原料ともなっていることが明らかとなっている。'\n",
      " '1級アミノ基のプレ・ポストラベル化試薬（高感度蛍光試薬）として、フルオレサミン（英語版）と共に広く使用される。'\n",
      " '日本では、高水準消毒薬（芽胞が多数存在する場合を除きすべての微生物を死滅させる）としての2001年の承認以降、0.55%のフタラール製剤（商標：「ディスオーパ」）が、ジョンソン・エンド・ジョンソン社から市販されている。'\n",
      " '過塩素酸マグネシウム（かえんそさんマグネシウム、英: Magnesium perchlorate）は化学式Mg(ClO4)2で表される無機化合物で、強力な酸化剤としての性質を持つ。'\n",
      " '反応性の高い試薬で、一例としてヒドロキシアセトンの前駆体となる。'\n",
      " '平衡混合物として、150℃で30.3%、180℃で25.3%のチオ尿素を含む。'\n",
      " 'CS2 + 2 NH3(水溶液) → NH2C(=S)SNH4 → NH4SCN + H2S 空気中では安定しているが、加熱によりチオ尿素を生じる。'\n",
      " 'クェルシトリンは染料のクエルシトロン（英語版）の成分である。'\n",
      " '18歳未満の注意欠陥多動性障害(ADHD)に対して承認されていたが、2012年に成人期のADHDに対しても承認された。'\n",
      " 'アトモキセチン（英語: Atomoxetine）はノルアドレナリン再取り込み阻害剤（英語版）の一種である。'\n",
      " 'スワインソニンは抗がん剤の補助薬やその他の化学療法の候補化合物となっている。'\n",
      " 'システアミンがシスチンのジスルフィド結合を開裂させることにより、シスチン蓄積症およびシスチン尿症に作用する。'\n",
      " '当初はキニーネと同じように解熱薬や抗炎症薬、抗マラリア薬として比較的少量の投与が行われていたが、人体に大量に投与すると尿中にブドウ糖が排出される腎性糖尿状態になることが、やがて知られるようになった。'\n",
      " '小腸や腎臓に存在する糖輸送体を強力に競争阻害する。'\n",
      " 'リン酸三カリウム（リンさんさんカリウム、英: Tripotassium phosphate）は化学式K3PO4で表される無機化合物。']\n"
     ]
    }
   ],
   "source": [
    "print(train.loc[FN_index, 'sentence'].values)"
   ]
  },
  {
   "cell_type": "code",
   "execution_count": null,
   "metadata": {},
   "outputs": [],
   "source": []
  }
 ],
 "metadata": {
  "kernelspec": {
   "display_name": "Python 3",
   "language": "python",
   "name": "python3"
  },
  "language_info": {
   "codemirror_mode": {
    "name": "ipython",
    "version": 3
   },
   "file_extension": ".py",
   "mimetype": "text/x-python",
   "name": "python",
   "nbconvert_exporter": "python",
   "pygments_lexer": "ipython3",
   "version": "3.6.1"
  }
 },
 "nbformat": 4,
 "nbformat_minor": 2
}
