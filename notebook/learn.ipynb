{
 "cells": [
  {
   "cell_type": "code",
   "execution_count": 1,
   "metadata": {},
   "outputs": [],
   "source": [
    "import numpy as np\n",
    "import pandas as pd\n",
    "import re\n",
    "import pickle\n",
    "import lightgbm as lgb\n",
    "from sklearn.model_selection import cross_validate, StratifiedKFold\n",
    "from hyperopt import hp, tpe\n",
    "from hyperopt.fmin import fmin\n",
    "import matplotlib.pyplot as plt\n",
    "from collections import Counter\n",
    "import MeCab\n",
    "\n",
    "import warnings\n",
    "warnings.filterwarnings('ignore')\n",
    "\n",
    "plt.rcParams['font.family'] = 'IPAGothic'"
   ]
  },
  {
   "cell_type": "code",
   "execution_count": 2,
   "metadata": {},
   "outputs": [],
   "source": [
    "train = pd.read_csv(\"../data/train_Youto_sentence_and_heading.csv\")\n",
    "\n",
    "with open(\"../dump/clue_words.pickle\", 'br') as f:\n",
    "    clue_word_by_BS = pickle.load(f)\n",
    "    \n",
    "clue_word_entropy = pd.read_csv(\"../data/clue_word_of_Sahen-setsuzoku_with_beta=0.1.csv\", names=['clue_word']).clue_word.values"
   ]
  },
  {
   "cell_type": "code",
   "execution_count": 3,
   "metadata": {},
   "outputs": [
    {
     "name": "stdout",
     "output_type": "stream",
     "text": [
      "train length : 6671\n",
      "label 1 : 1514 \tlabel 0 : 5157\n",
      "train length (filtering) : 3341\n",
      "label 1 : 1045 \tlabel 0 : 2296\n"
     ]
    }
   ],
   "source": [
    "# ブートストラップ法で得た手がかり語で学習データをフィルタリング\n",
    "print(\"train length :\", len(train))\n",
    "print(\"label 1 :\", len(train.loc[train.label == 1]), \"\\tlabel 0 :\", len(train.loc[train.label == 0]))\n",
    "\n",
    "train = train.loc[train.sentence.str.contains(\"|\".join(clue_word_by_BS))].reset_index(drop=True)\n",
    "print(\"train length (filtering) :\", len(train))\n",
    "print(\"label 1 :\", len(train.loc[train.label == 1]), \"\\tlabel 0 :\", len(train.loc[train.label == 0]))"
   ]
  },
  {
   "cell_type": "code",
   "execution_count": 4,
   "metadata": {},
   "outputs": [],
   "source": [
    "# 文中に各手がかり語が含まれているどうかの特徴量を作成\n",
    "\n",
    "feature_word_dict = {}\n",
    "\n",
    "for word in np.append(clue_word_entropy, ['用途', '効果', '目的', '用い', '使わ']):\n",
    "    feature_word_dict[word] = train.sentence.str.contains(fr'{word}').tolist()"
   ]
  },
  {
   "cell_type": "code",
   "execution_count": 5,
   "metadata": {},
   "outputs": [],
   "source": [
    "# サブタイトル名をもとにカテゴリ変数を作成する\n",
    "\n",
    "train = train.assign(heading_cat = np.nan)\n",
    "\n",
    "cat1 = r'NO_SUBTITLE'\n",
    "train.loc[train.heading.str.contains(cat1), 'heading_cat'] = 0\n",
    "\n",
    "cat2 = r'|'.join(np.append(clue_word_entropy, ['用途', '効果', '目的']))\n",
    "train.loc[train.heading.str.contains(cat2), 'heading_cat'] = 1\n",
    "\n",
    "train.loc[train.heading_cat.isna(), 'heading_cat'] = 2\n",
    "\n",
    "train.heading_cat = train.heading_cat.astype('category') "
   ]
  },
  {
   "cell_type": "code",
   "execution_count": null,
   "metadata": {},
   "outputs": [],
   "source": [
    "# 文中にカテゴリ名が含まれているどうか\n",
    "category_list = '|'.join(pd.read_csv(\"../data/category_in_noun_list.csv\").category.values)\n",
    "is_contain_cat = train.sentence.str.contains(category_list).tolist()"
   ]
  },
  {
   "cell_type": "code",
   "execution_count": 6,
   "metadata": {},
   "outputs": [],
   "source": [
    "# 文中にカテゴリ名・記事タイトル名と一致する名詞が含まれているどうか\n",
    "noun_list = '|'.join(pd.read_csv(\"../data/noun_list_in_category_and_title.csv\").noun.values)\n",
    "is_noun_cat = train.sentence.str.contains(noun_list).tolist()"
   ]
  },
  {
   "cell_type": "markdown",
   "metadata": {},
   "source": [
    "## 学習"
   ]
  },
  {
   "cell_type": "code",
   "execution_count": 7,
   "metadata": {},
   "outputs": [],
   "source": [
    "train_X = \\\n",
    "pd.DataFrame(feature_word_dict).assign(\n",
    "    heading_cat = train.heading_cat\n",
    "    , is_noun_cat = is_noun_cat\n",
    ")\n",
    "train_y = train.label.tolist()"
   ]
  },
  {
   "cell_type": "code",
   "execution_count": 8,
   "metadata": {},
   "outputs": [
    {
     "name": "stdout",
     "output_type": "stream",
     "text": [
      "f1:  0.6876232300899103\n",
      "precision:  0.6884738894617236\n",
      "recall:  0.6899521531100478\n"
     ]
    }
   ],
   "source": [
    "model = lgb.LGBMClassifier(is_unbalance=False)\n",
    "\n",
    "scores = cross_validate(model, train_X, train_y, scoring=['f1', 'precision', 'recall'], cv=5)\n",
    "\n",
    "print(\"f1: \", scores['test_f1'].mean())\n",
    "print(\"precision: \", scores['test_precision'].mean())\n",
    "print(\"recall: \", scores['test_recall'].mean())"
   ]
  },
  {
   "cell_type": "code",
   "execution_count": 37,
   "metadata": {},
   "outputs": [
    {
     "name": "stdout",
     "output_type": "stream",
     "text": [
      "f1 0.681 params {'num_leaves': 170, 'colsample_bytree': '0.632'}\n",
      "f1 0.681 params {'num_leaves': 130, 'colsample_bytree': '0.622'}\n",
      "f1 0.681 params {'num_leaves': 150, 'colsample_bytree': '0.548'}\n",
      "f1 0.686 params {'num_leaves': 60, 'colsample_bytree': '0.794'}\n",
      "f1 0.686 params {'num_leaves': 170, 'colsample_bytree': '0.747'}\n",
      "f1 0.685 params {'num_leaves': 140, 'colsample_bytree': '0.865'}\n",
      "f1 0.681 params {'num_leaves': 140, 'colsample_bytree': '0.502'}\n",
      "f1 0.686 params {'num_leaves': 170, 'colsample_bytree': '0.764'}\n",
      "f1 0.686 params {'num_leaves': 80, 'colsample_bytree': '0.780'}\n",
      "f1 0.685 params {'num_leaves': 160, 'colsample_bytree': '0.891'}\n",
      "f1 0.686 params {'num_leaves': 90, 'colsample_bytree': '0.771'}\n",
      "f1 0.683 params {'num_leaves': 80, 'colsample_bytree': '0.637'}\n",
      "f1 0.686 params {'num_leaves': 70, 'colsample_bytree': '0.803'}\n",
      "f1 0.687 params {'num_leaves': 160, 'colsample_bytree': '0.715'}\n",
      "f1 0.687 params {'num_leaves': 190, 'colsample_bytree': '0.668'}\n",
      "f1 0.685 params {'num_leaves': 140, 'colsample_bytree': '0.865'}\n",
      "f1 0.685 params {'num_leaves': 60, 'colsample_bytree': '0.869'}\n",
      "f1 0.681 params {'num_leaves': 160, 'colsample_bytree': '0.549'}\n",
      "f1 0.685 params {'num_leaves': 70, 'colsample_bytree': '0.847'}\n",
      "f1 0.687 params {'num_leaves': 200, 'colsample_bytree': '0.951'}\n",
      "f1 0.681 params {'num_leaves': 110, 'colsample_bytree': '0.626'}\n",
      "f1 0.681 params {'num_leaves': 190, 'colsample_bytree': '0.553'}\n",
      "f1 0.681 params {'num_leaves': 180, 'colsample_bytree': '0.571'}\n",
      "f1 0.687 params {'num_leaves': 100, 'colsample_bytree': '0.694'}\n",
      "f1 0.681 params {'num_leaves': 120, 'colsample_bytree': '0.607'}\n",
      "f1 0.681 params {'num_leaves': 180, 'colsample_bytree': '0.509'}\n",
      "f1 0.683 params {'num_leaves': 110, 'colsample_bytree': '0.663'}\n",
      "f1 0.681 params {'num_leaves': 130, 'colsample_bytree': '0.599'}\n",
      "f1 0.681 params {'num_leaves': 120, 'colsample_bytree': '0.599'}\n",
      "f1 0.687 params {'num_leaves': 120, 'colsample_bytree': '0.715'}\n",
      "f1 0.681 params {'num_leaves': 200, 'colsample_bytree': '0.527'}\n",
      "f1 0.683 params {'num_leaves': 150, 'colsample_bytree': '0.653'}\n",
      "f1 0.686 params {'num_leaves': 150, 'colsample_bytree': '0.730'}\n",
      "f1 0.687 params {'num_leaves': 170, 'colsample_bytree': '0.685'}\n",
      "f1 0.681 params {'num_leaves': 100, 'colsample_bytree': '0.629'}\n",
      "f1 0.681 params {'num_leaves': 130, 'colsample_bytree': '0.583'}\n",
      "f1 0.681 params {'num_leaves': 110, 'colsample_bytree': '0.502'}\n",
      "f1 0.686 params {'num_leaves': 140, 'colsample_bytree': '0.804'}\n",
      "f1 0.686 params {'num_leaves': 100, 'colsample_bytree': '0.748'}\n",
      "f1 0.681 params {'num_leaves': 180, 'colsample_bytree': '0.572'}\n",
      "f1 0.681 params {'num_leaves': 150, 'colsample_bytree': '0.585'}\n",
      "f1 0.687 params {'num_leaves': 130, 'colsample_bytree': '0.998'}\n",
      "f1 0.681 params {'num_leaves': 180, 'colsample_bytree': '0.520'}\n",
      "f1 0.687 params {'num_leaves': 160, 'colsample_bytree': '0.691'}\n",
      "f1 0.681 params {'num_leaves': 170, 'colsample_bytree': '0.534'}\n",
      "f1 0.683 params {'num_leaves': 150, 'colsample_bytree': '0.647'}\n",
      "f1 0.686 params {'num_leaves': 190, 'colsample_bytree': '0.833'}\n",
      "f1 0.681 params {'num_leaves': 90, 'colsample_bytree': '0.614'}\n",
      "f1 0.687 params {'num_leaves': 160, 'colsample_bytree': '0.930'}\n",
      "f1 0.687 params {'num_leaves': 170, 'colsample_bytree': '0.722'}\n"
     ]
    }
   ],
   "source": [
    "def objective(params):\n",
    "    params = {\n",
    "        'num_leaves': int(params['num_leaves']),\n",
    "        'colsample_bytree': '{:.3f}'.format(params['colsample_bytree']),\n",
    "    }\n",
    "    \n",
    "    clf = lgb.LGBMClassifier(\n",
    "        n_estimators=500,\n",
    "        **params\n",
    "    )\n",
    "    \n",
    "    score = cross_validate(clf, train_X, train_y, scoring='f1', cv=5)['test_score'].mean()\n",
    "    print(\"f1 {:.3f} params {}\".format(score, params))\n",
    "    return score\n",
    "\n",
    "space = {\n",
    "    'num_leaves': hp.quniform('num_leaves', 50, 200, 10),\n",
    "    'max_depth': hp.quniform('max_depth', 3, 10, 1),\n",
    "    'min_data_in_leaf': hp.quniform('min_data_in_leaf',  5, 25, 2),\n",
    "    'colsample_bytree': hp.uniform('colsample_bytree', 0.5, 1.0),\n",
    "    'learning_rate': hp.uniform('learning_rate', 0.03, 0.2),\n",
    "    'subsample': hp.uniform('subsample', 0.5, 1.0)\n",
    "}\n",
    "\n",
    "best = fmin(fn=objective\n",
    "            ,space=space\n",
    "            ,algo=tpe.suggest\n",
    "            ,max_evals=50\n",
    "           )"
   ]
  },
  {
   "cell_type": "code",
   "execution_count": 40,
   "metadata": {},
   "outputs": [
    {
     "data": {
      "text/plain": [
       "<matplotlib.axes._subplots.AxesSubplot at 0x144726b38>"
      ]
     },
     "execution_count": 40,
     "metadata": {},
     "output_type": "execute_result"
    },
    {
     "data": {
      "image/png": "[encoded data removed]",
      "text/plain": [
       "<Figure size 432x288 with 1 Axes>"
      ]
     },
     "metadata": {},
     "output_type": "display_data"
    }
   ],
   "source": [
    "model.fit(train_X, train_y)\n",
    "lgb.plot_importance(model)"
   ]
  },
  {
   "cell_type": "code",
   "execution_count": 44,
   "metadata": {},
   "outputs": [],
   "source": [
    "predict = model.predict(train_X)\n",
    "\n",
    "TP_index = np.where((predict == train_y) & (predict == 1))[0]\n",
    "TN_index = np.where((predict == train_y) & (predict == 0))[0]\n",
    "FP_index = np.where((predict != train_y) & (predict == 1))[0]\n",
    "FN_index = np.where((predict != train_y) & (predict == 0))[0]\n",
    "\n",
    "print(\"TP: \", len(TP_index))\n",
    "print(\"TN: \", len(TN_index))\n",
    "print(\"FP: \", len(FP_index))\n",
    "print(\"FN: \", len(FN_index))\n",
    "\n",
    "print(train.loc[TP_index, 'sentence'].values)"
   ]
  },
  {
   "cell_type": "code",
   "execution_count": 49,
   "metadata": {},
   "outputs": [],
   "source": [
    "train.loc[TP_index, ['_id', 'sentence']].to_csv(\"positive_sentence.csv\", index=False)"
   ]
  },
  {
   "cell_type": "code",
   "execution_count": null,
   "metadata": {},
   "outputs": [],
   "source": []
  }
 ],
 "metadata": {
  "kernelspec": {
   "display_name": "Python 3",
   "language": "python",
   "name": "python3"
  },
  "language_info": {
   "codemirror_mode": {
    "name": "ipython",
    "version": 3
   },
   "file_extension": ".py",
   "mimetype": "text/x-python",
   "name": "python",
   "nbconvert_exporter": "python",
   "pygments_lexer": "ipython3",
   "version": "3.6.1"
  }
 },
 "nbformat": 4,
 "nbformat_minor": 2
}
