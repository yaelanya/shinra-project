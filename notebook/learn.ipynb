{
 "cells": [
  {
   "cell_type": "code",
   "execution_count": 669,
   "metadata": {},
   "outputs": [],
   "source": [
    "import numpy as np\n",
    "import pandas as pd\n",
    "import re\n",
    "import pickle\n",
    "import lightgbm as lgb\n",
    "from sklearn.model_selection import cross_validate, KFold\n",
    "import matplotlib.pyplot as plt\n",
    "from collections import Counter\n",
    "\n",
    "import warnings\n",
    "warnings.filterwarnings('ignore')\n",
    "\n",
    "plt.rcParams['font.family'] = 'IPAGothic'"
   ]
  },
  {
   "cell_type": "code",
   "execution_count": 583,
   "metadata": {},
   "outputs": [],
   "source": [
    "train = pd.read_csv(\"../data/train_Youto_sentence_and_heading.csv\")\n",
    "\n",
    "with open(\"../dump/noun_list.pickle\", 'br') as f:\n",
    "    noun_list = pickle.load(f)\n",
    "\n",
    "with open(\"../dump/clue_words.pickle\", 'br') as f:\n",
    "    clue_word_by_BS = pickle.load(f)\n",
    "    \n",
    "clue_word_entropy = pd.read_csv(\"../data/clue_word_of_Sahen-setsuzoku_with_beta=0.1.csv\", names=['clue_word']).clue_word.values"
   ]
  },
  {
   "cell_type": "code",
   "execution_count": 584,
   "metadata": {},
   "outputs": [
    {
     "name": "stdout",
     "output_type": "stream",
     "text": [
      "train length : 6671\n",
      "label 1 : 1514 \tlabel 0 : 5157\n",
      "train length (filtering) : 4386\n",
      "label 1 : 1206 \tlabel 0 : 3180\n"
     ]
    }
   ],
   "source": [
    "# ブートストラップ法で得た手がかり語で学習データをフィルタリング\n",
    "print(\"train length :\", len(train))\n",
    "print(\"label 1 :\", len(train.loc[train.label == 1]), \"\\tlabel 0 :\", len(train.loc[train.label == 0]))\n",
    "\n",
    "train = train.loc[train.sentence.str.contains(\"|\".join(clue_word_by_BS))].reset_index(drop=True)\n",
    "print(\"train length (filtering) :\", len(train))\n",
    "print(\"label 1 :\", len(train.loc[train.label == 1]), \"\\tlabel 0 :\", len(train.loc[train.label == 0]))"
   ]
  },
  {
   "cell_type": "code",
   "execution_count": 670,
   "metadata": {},
   "outputs": [],
   "source": [
    "# 文中に各手がかり語が含まれているどうかの特徴量を作成\n",
    "\n",
    "feature_word_dict = {}\n",
    "\n",
    "for word in np.append(clue_word_entropy, ['用途', '用い', '使わ']):\n",
    "    feature_word_dict[word] = train.sentence.str.contains(fr'{word}').tolist()"
   ]
  },
  {
   "cell_type": "code",
   "execution_count": 671,
   "metadata": {},
   "outputs": [],
   "source": [
    "# サブタイトル名をもとにカテゴリ変数を作成する\n",
    "\n",
    "train = train.assign(heading_cat = np.nan)\n",
    "\n",
    "cat1 = r'NO_SUBTITLE'\n",
    "train.loc[train.heading.str.contains(cat1), 'heading_cat'] = 0\n",
    "\n",
    "cat2 = r'|'.join(np.append(clue_word_entropy, ['用途']))\n",
    "train.loc[train.heading.str.contains(cat2), 'heading_cat'] = 1\n",
    "\n",
    "train.loc[train.heading_cat.isna(), 'heading_cat'] = 2"
   ]
  },
  {
   "cell_type": "code",
   "execution_count": 672,
   "metadata": {},
   "outputs": [],
   "source": [
    "# 文中にカテゴリ名が含まれているどうか\n",
    "\n",
    "category_list = '|'.join(pd.read_csv(\"../data/category_in_noun_list.csv\").category.values)\n",
    "is_contain_cat = train.sentence.str.contains(category_list).tolist()"
   ]
  },
  {
   "cell_type": "code",
   "execution_count": 673,
   "metadata": {},
   "outputs": [],
   "source": [
    "train_X = \\\n",
    "pd.DataFrame(feature_word_dict).assign(\n",
    "    heading_cat = train.heading_cat\n",
    "    , is_contain_cat = is_contain_cat\n",
    ")\n",
    "train_X.heading_cat = train_X.heading_cat.astype('category') \n",
    "train_y = train.label.tolist()"
   ]
  },
  {
   "cell_type": "code",
   "execution_count": 674,
   "metadata": {},
   "outputs": [
    {
     "name": "stdout",
     "output_type": "stream",
     "text": [
      "f1:  0.6301469445985631\n",
      "precision:  0.6929705928934766\n",
      "recall:  0.581235211412503\n"
     ]
    }
   ],
   "source": [
    "model = lgb.LGBMClassifier(is_unbalance=False)\n",
    "\n",
    "scores = cross_validate(model, train_X, train_y, scoring=['f1', 'precision', 'recall'], cv=5)\n",
    "\n",
    "print(\"f1: \", scores['test_f1'].mean())\n",
    "print(\"precision: \", scores['test_precision'].mean())\n",
    "print(\"recall: \", scores['test_recall'].mean())"
   ]
  },
  {
   "cell_type": "code",
   "execution_count": 662,
   "metadata": {},
   "outputs": [
    {
     "data": {
      "text/plain": [
       "<matplotlib.axes._subplots.AxesSubplot at 0x129c6e208>"
      ]
     },
     "execution_count": 662,
     "metadata": {},
     "output_type": "execute_result"
    },
    {
     "data": {
      "image/png": "[encoded data removed]",
      "text/plain": [
       "<Figure size 432x288 with 1 Axes>"
      ]
     },
     "metadata": {},
     "output_type": "display_data"
    }
   ],
   "source": [
    "model.fit(train_X, train_y)\n",
    "lgb.plot_importance(model)"
   ]
  },
  {
   "cell_type": "code",
   "execution_count": 663,
   "metadata": {},
   "outputs": [],
   "source": [
    "predict = model.predict(train_X)"
   ]
  },
  {
   "cell_type": "code",
   "execution_count": 664,
   "metadata": {},
   "outputs": [],
   "source": [
    "TP_index = np.where((predict == train_y) & (predict == 1))[0]\n",
    "TN_index = np.where((predict == train_y) & (predict == 0))[0]\n",
    "FP_index = np.where((predict != train_y) & (predict == 1))[0]\n",
    "FN_index = np.where((predict != train_y) & (predict == 0))[0]"
   ]
  },
  {
   "cell_type": "code",
   "execution_count": 665,
   "metadata": {},
   "outputs": [
    {
     "name": "stdout",
     "output_type": "stream",
     "text": [
      "TP:  692\n",
      "TN:  2919\n",
      "FP:  261\n",
      "FN:  514\n"
     ]
    }
   ],
   "source": [
    "print(\"TP: \", len(TP_index))\n",
    "print(\"TN: \", len(TN_index))\n",
    "print(\"FP: \", len(FP_index))\n",
    "print(\"FN: \", len(FN_index))"
   ]
  },
  {
   "cell_type": "code",
   "execution_count": 667,
   "metadata": {},
   "outputs": [
    {
     "name": "stdout",
     "output_type": "stream",
     "text": [
      "['” スリランカ 韓国 ― PharmAsia News が2009年に報じた処に拠ると、 “OTC鎮痛剤の安全性に関する社会的関心の高まりに充分に対応できていない事から、食品医薬品安全庁はバイエル社のサリドンA等、計28品目を15歳未満の小児に用いることを禁止した。'\n",
      " '市販品には、重合禁止剤としてメキノールなどが添加される。'\n",
      " '2015年11月、優先審査保証（英語版）の後、米国FDAはオシメルチニブをEGFRチロシンキナーゼ阻害薬治療後に増悪したを転移性EGFRT790M（英語版） 変異陽性非小細胞肺癌（NSCLC）の治療薬として迅速承認（英語版）した。'\n",
      " 'オシメルチニブは第一選択治療薬としての早期臨床試験の段階にある。'\n",
      " 'なお、カフェインの排除能力の低いヒトの胎児では、CYP1A2による酸化とは全く別に、メチル化するという代謝経路も利用されることが知られている。'\n",
      " '金沢大学医学部整形外科では、独自に開発したカフェイン併用療法を抗がん剤治療の術前に用いて、骨肉腫や軟部腫瘍の治療に効果を上げたとして、厚生労働省から高度先進医療として承認されていたが、2010年に同療法を実施されていた患者の一人が死亡するという事態が発生し、さらに「臨床研究に関する倫理指針」違反などの疑いがあることが発覚、有効性と安全性に関する評価が確立されていない治療法であることがあらためて確認されたことから、先進医療から削除された。'\n",
      " '芳香族化合物である安息香酸ナトリウムカフェインは、清涼飲料等の保存料のほか、単体と同じく強心・興奮作用を期待して使われる。'\n",
      " '一部ではウイルス量が多い場合やCD4数が少ない場合の初期治療にネビラピンを用いる事に懸念が示されているが、これらの患者でもネビラピンが有効であるとの報告も有る。'\n",
      " '液体側（酸化剤）としては、亜酸化窒素（笑気とも呼ばれる）を用いたものがSpaceDev（英語版）社が開発したスペースシップツーなどで、地上での最高速度記録を目指して開発中の Bloodhound SSC やシエラ・ネヴァダ社が開発中の有人宇宙船ドリームチェイサーなどでは高濃度過酸化水素を用いている。'\n",
      " '同様の推進剤が APCP（過塩素酸アンモニウムコンポジット推進薬）と呼ばれてより大型のロケットでも利用されている。'\n",
      " 'HTPB を用いたポリウレタンは、高い可塑性を持たせたり、逆に硬く強固にするなど、望みの物理特性を持つように調製できる。'\n",
      " 'カルトロンで塩化ウラン(IV)が用いられたのは、他の濃縮法で使われる六フッ化ウランのような腐食性がなかったためであった。'\n",
      " 'アノナインを含むバンレイシ科の多くの植物は、長年の間、伝統医療に用いられてきた。'\n",
      " '例えば、アドレナリンβ2受容体刺激薬の1種であるビランテロールは、2015年現在、ビランテロールトリフェニル酢酸塩として利用されている 。'\n",
      " 'アレルギー反応が出た場合は緊急を要するので悪化を防ぐために直ちに治療を行うことが望ましい。'\n",
      " '通常、皮膚への刺激感は軽く、治療を必要とするものではない。'\n",
      " 'ドコサノールは特に12歳以下の小児の治療には適用されないが、成人に生じるもの以外の副作用が生じるとは考えられていない。'\n",
      " '2007年3月、Avanirおよびグラクソ・スミスクラインに対し、治療期間を半減するとの主張がミスリーディングだとしてアメリカ合衆国全土にわたる集団訴訟がカリフォルニア裁判所に提起され、和解が成立して「治療期間を半減する」という文言は製品宣伝に何年も使われていない。'\n",
      " 'ドコサノールによる治療中は化粧品の使用は避けることが望ましいが、主に未治癒部位からの感染拡大を防ぐためであって、薬物相互作用があるためではない。'\n",
      " '前躯体としては酸化ジスプロシウム(III)（英語版）もしくは塩化ジスプロシウム六水和物、オキシ塩化ジスプロシウムが用いられ、いずれの原料を用いても、塩化ジスプロシウムと塩化アンモニウムの複塩である(NH4)2[DyCl5]を経由する。'\n",
      " 'これは分子式C53H76N14O12を有し、高血圧治療薬として検討されている。'\n",
      " 'グルタミン酸の代謝を妨げ、グルタミン酸依存性の酵素合成を阻害し、そのため固形腫瘍の治療に役立つと期待されている。'\n",
      " 'また、ニトログアニジンは爆薬として用いられる。' '誘導体は、有機合成において強塩基として用いられる。'\n",
      " 'この混合物は、かつて熱貯蔵や熱伝導剤として用いられていたポリ塩化テルフェニルの製造の原料となる。'\n",
      " 'シュウ酸は鉄(III)イオン（英語版）と水に可溶な錯体を作るので、サビ取りに利用されている。'\n",
      " '[Co(NH3)6]3+は構造生物学で、特に陽イオンによってリン酸骨格の三次構造（英語版）が安定化されるDNAやRNAについて、X線やNMRででそれらの構造を解析するために用いられる。'\n",
      " 'メタノールに溶かしたアンモニアと酢酸アンモニウムを用いて、酢酸コバルト(II)を空気酸化することで、塩化物ではなく酢酸塩を作ることができる。'\n",
      " 'CoCl3は不安定であるため利用できない（Co3+が塩素を酸化してしまうほか、自身も不均化反応で分解してしまう)ので、[Co(NH3)6]Cl3は塩化コバルト(II)（英語版）を酸化して合成される。'\n",
      " 'もともとこの化合物はルテオ（luteo、ラテン語で黄色という意味) コバルト錯体と呼ばれていたが、近代になって化学が発展し、色が構造に比べあまり重要ではないことがわかってきてからこの名前は使われなくなった。'\n",
      " '例えば、ペンタミジンはペンタミジンイセチオン酸塩として、ヘキサミジンはヘキサミジンイセチオン酸塩として利用されている 。'\n",
      " '立体障害のため合成は非常に難しく、他の第三級アミンとは異なり、アルコールを用いたアンモニアのアルキル化によって合成することができない。'\n",
      " '獣医学領域で用いられるメデトミジンは光学異性体を含んでいるが、L体には活性が少なく、活性の強いD体のみを光学分割したものがデクスメデトミジンである。'\n",
      " 'デクスメデトミジンは1999年の米国食品医薬品局（FDA）により、短期間の鎮静、鎮痛(<24時間）として、人工呼吸器を必要とする重症疾患・外傷患者の 集中治療部 （ICU）での使用を承認された。'\n",
      " 'デクスメデトミジン塩酸塩は獣医学領域でも犬と猫に用いられる。' '両方の形態は、商業的に入手可能であり、医療および歯科用途で良く利用される。'\n",
      " 'ガリウム砒素リンを加えたり、単体で使用される。' '酸化モリブデン(VI)を高分子に担持するなどして抗菌剤に用いる研究がある。'\n",
      " 'ベンゼン環に存在している6つの水素のうちの1つがメトキシ基に置換された化合物の慣用名はアニソールと言い、これを利用した呼称も存在する。'\n",
      " '複雑な混合物（ブルーベリーやトマトなど）の個々の抗酸化成分を測定するのが困難なため、トロロックス当量はこういった混合物の抗酸化能のための基準として使われる。'\n",
      " 'トロロックス当量はABTS（英語版）脱色試験を用いてほとんどの場合測定される。'\n",
      " '例えばニトロ基をアミノ基に還元して芳香族アミンを合成する際に用いられる。'\n",
      " 'SnCl 2 ( aq ) + H 2 O ( l ) ⇆ Sn ( OH ) Cl ( s ) + HCl ( aq ) 同様の還元反応がHg2+の検出にも用いられる。'\n",
      " 'しかし、流動パラフィンの発がん性が議論されるようになり、現在では植物性オイルの使用が推奨されている。'\n",
      " '食品包装全般に使用されるワックスの品質をワックス業界が自ら管理することを目的に日本ワックス工業会が基準を制定している。'\n",
      " 'ただし、炭酸水素ナトリウムは葉を褐変させる薬害が起こりやすいため、より薄い濃度で高い殺菌効果を持つ炭酸水素カリウムの方が多く用いられる。'\n",
      " '一般的に土壌の中和は重曹ではなく、消石灰（水酸化カルシウム）が用いられる。' '）の治療に用いられることがある。'\n",
      " '過量服薬や乱用の危険性があるのに、なぜ現在でも用いられているか理解に苦しむという専門家のコメントがある。'\n",
      " '一般に中毒の診断に画像検査を用いることは少ないが、ブロムワレリル尿素はX線に不透過のためX線検査が利用できる。'\n",
      " '過去に自殺に用いられ、過量服薬や乱用の危険性があるのに、2009年現在でも日本でなぜ用いられているか理解に苦しむ、という専門家のコメントがある。'\n",
      " 'しかし、1970年代に致死的な乳酸アシドーシスを引き起こすこと分かり、1977年に米国で販売中止となり、その後、日本を含む多くの国で販売中止となり、現在では広く用いられていない。'\n",
      " '日本では1958年に認可され、テスパミン（大日本住友製薬）などの商品名で販売されたが、原薬メーカーの設備老朽化により2009年に出荷を終了した チオテパは他の化学療法と組み合わせて使用される。'\n",
      " 'また、がん悪液質、糖尿病、エイズ、火傷などいくつかの体重が減少する疾患においてHMBが症状改善につながらないか研究がなされつつある。'\n",
      " '新しく導入された官能基は、保護基として働くが、トリメチルシリル基の不安定性のため、その利用は制限される。'\n",
      " 'クロロトリメチルシラン (Trimethylsilyl chloride) は、化学において色々な目的で使われる有機ケイ素化合物である。'\n",
      " 'クロロトリメチルシランはまた、次のようなトリメチルシリルハロゲンや擬ハロゲンの合成の出発物質として用いられる。'\n",
      " 'さらに、毒性・価格などの問題により歯科・産科など短い手術に適用されることが多く、長い手術にはより優れた薬剤が用いられることが多かった。'\n",
      " '13C-15N-二重ラベルカダベリンを用いたトレーサー研究によって、3ユニットのカダベリンがスパルテインに取り込まれ、2ユニットのカダベリンからの2つのC-N結合がそのまま残っていることが示された。'\n",
      " '3ユニットのカダベリンがキノリジジン骨格を形成するために使われる。'\n",
      " 'ダウノルビシン（ダウノマイシン） ダウノルビシン（リポソーム製剤） ドキソルビシン（アドリアマイシン） ドキソルビシン（リポソーム製剤） エピルビシン イダルビシン バルルビシン（膀胱がん治療にのみ使用される） ミトキサントロン（アントラサイクリンアナログ） アントラサイクリンには3つの作用機序がある。'\n",
      " 'アルカノールアミンという用語は、小分類を表すのに用いられることもある幅広い用語である。'\n",
      " 'カルシウムイオンに対して最も多く用いられるが、銅、ニッケル、コバルト、トリウムや希土類元素に対しても用いられる。'\n",
      " 'このときに使われる補酵素はFAD。' '現在は食品産業で用いられる。'\n",
      " 'それでも、アジアとヨーロッパの幾つかの国では、フルフェナム酸が用いられる場合もある 。'\n",
      " '日本結核病学会治療委員会はこれを受けてデラマニドの使用ガイドラインを発表した。'\n",
      " 'しかし、2013年11月になって治療効果の持続性を裏付ける臨床試験の追加解析ならびに用法・用量の最適化に関する新規臨床試験の実施を条件に、一転して制限付きで販売承認勧告し、2014年4月にEMAが最終承認した。'\n",
      " '同じ系統の他薬（PA-824; プレトマニド（英語版））を用いた研究により、結核菌特異的なニトロ還元酵素（deazaflavin-dependent nitroreductase; Ddn）による代謝を受けて一酸化窒素を産生し、細胞傷害活性を示すことが示唆されていることから、デラマニドも同様の作用を有すものと考えられる。'\n",
      " 'この問題を解決法の一つとして、リチウムを含有するセラミック片を、ヘリウムガス冷却固体増殖ブランケット (Helium Cooled Breeder Blanket, HCPB) と呼ばれる要素に用いることによりトリチウムを生産することができると考えられている。'\n",
      " '計画中のITER熱核融合実験炉などの核融合炉は燃料としてトリチウムとデューテリウムを用いる。'\n",
      " 'この型の燃料電池は二層構造材料を用いて高出力化、高効率化することができる。'\n",
      " 'チタン酸リチウムは溶融炭酸塩型燃料電池（英語版）の二重層カソードを構成する一層として用いられる。'\n",
      " 'これにより痙縮の改善が得られるようであれば、その後にポンプとカテーテルの埋込術を施行する。'\n",
      " '特にHMTDは過酸化アセトンの代用として用いられることがある。'\n",
      " 'このため、アマチュア化学者や爆弾マニアによって合成されて事故が起こったり、時にはテロリストによって製造・使用されることがある。'\n",
      " '1996年のWHO方式がん疼痛治療法の3段階中の3段階目で用いられる強オピオイドである。'\n",
      " '医薬品医療機器総合機構からは、必要性を考え漫然とした長期使用を避ける、用量順守と類似薬の重複の確認、また慎重に少しずつ減量する旨の医薬品適正使用のお願いが出されている。'\n",
      " '日本では2017年3月に「重大な副作用」の項に、連用により依存症を生じることがあるので用量と使用期間に注意し慎重に投与し、急激な量の減少によって離脱症状が生じるため徐々に減量する旨が追加され、厚生労働省よりこのことの周知徹底のため関係機関に通達がなされた。'\n",
      " '治療効果があれば、耳鳴りの患者への福音となりうる。' 'グリニャール試薬、有機リチウムなどを取り扱う際によく用いられる。'\n",
      " 'プレバイオティクスの機能としては、分岐オリゴ糖同様に抗う蝕性効果が明らかになっている他、実験によって免疫賦活作用や生活の質(QOL)の改善に効果があるとされている。'\n",
      " 'プレバイオティクスの機能としては、ビフィズス菌、乳酸菌などに優先的に利用されることから、腸内菌の増加を助ける効果がある。'\n",
      " 'ゲンチオオリゴ糖 リンドウ属に由来するオリゴ糖で、特有のコクと苦味があることから野菜のエグ味やココア、チョコレートの苦味などをマスキングする分野で利用される。'\n",
      " 'プレバイオティクスの機能としては、ビフィズス菌、乳酸菌などに優先的に利用されることから、腸内菌の増加を助ける効果がある。'\n",
      " 'ラフィノースの高純度粉末品は医療用で移植臓器の保存性向上剤としても利用されている。'\n",
      " '一部臨床用にも用いられているが、感光性のために、皮膚炎等の皮膚疾患が副作用として現れることがある。'\n",
      " '最も単純な異性体は、ポリエチレンの共単量体として用いられるα-オレフィンの1-オクテンである。'\n",
      " 'ただし現在は、安全性が高いアゾジカルボン酸ジイソプロピル（英語版）（DIAD）が用いられることが多い。'\n",
      " '2 CH 3 CH 2 O 2 CCl + N 2 H 4 ⟶ CH 3 CH 2 O 2 CN ( H ) N ( H ) CO 2 CH 2 CH 3 + 2 HCl 2段階目の反応では、赤煙硝酸を用いることもできる。'\n",
      " '「可塑性爆薬の探知のための識別措置に関する条約」で爆薬に添加することが国際的に義務付けられている物質である。'\n",
      " '他に、デュポンが開発した製造法として、n-ブタンを酸化させることで粗無水マレイン酸を生成させ、次いでそれを水素化させることでTHFを得る方法も用いられる。'\n",
      " '最も広く用いられている工業的な生産方法には1,4-ブタンジオールの酸触媒脱水が含まれ、それはエタノールからのジエチルエーテルの製造と同種の方法である。'\n",
      " '内服または注射で用いられる。' '経口、静注のほか、点眼でも用いられうる。'\n",
      " '水酸化ナトリウムはエタノールに溶けにくく、反応速度も小さいので用いられず、鹸化価の定義には KOH の式量が含まれる。'\n",
      " '（例外：過マンガン酸ナトリウム等） 水酸化ナトリウムよりも水酸化カリウムの方が塩基性が強いので、加水分解などでより強い塩基性が必要とされる場合は、水酸化カリウムが使用される。'\n",
      " '日本では製造・使用・廃棄に関して、管理・届け出が必要な化学物質としてPRTR法の第一種-30 にて指定されている。'\n",
      " '三臭化リンを用いると臭化水素を用いた場合よりも高収率で得られることが多く、カルボカチオン転位も避けることができる。'\n",
      " '他には、カルボン酸のα位を臭素化する触媒として用いられる。'\n",
      " '捜査 フィプロニルは、農薬として農作物に適正に使用した結果残留する濃度であれば合法であるが、鶏舎に使用するのは違法であるため、すでに捜査が始まっている。'\n",
      " '室内の空気に塩素を含む有機性のガス、あるいは塩素と有機性のガスが存在する場合に、放電式の空気清浄機を使用すると、中毒事故が起こる可能性がある。'\n",
      " 'また、フロン類（クロロフルオロカーボン、ハイドロクロロフルオロカーボン）が加熱される事でも発生するので、特に冬季など暖房器具を使用する時期には中毒事故が発生しやすかった。'\n",
      " 'ホスゲンに比べて格段にハンドリングが容易なため、近年使用例が増えている。'\n",
      " 'ただし猛毒の気体であるホスゲンは実験室レベルでは使いにくく、近年では炭酸ビス（トリクロロメチル）（通称 トリホスゲン）が代用試薬として用いられるようになった。'\n",
      " '有機合成分野でもホスゲンはアルコールと反応して炭酸エステルを、アミンと反応して尿素あるいはイソシアネートを、カルボン酸と反応して酸塩化物を与えるなど用途が広い。'\n",
      " '防護措置としては、吸入をしないために、ガスマスクが用いられる。'\n",
      " '人の粘膜を刺激する：4mg/m3 以上 吸入人半数致死量：3,200mg/m3 吸入人半数不能量：1,600mg/m3 曝露濃度による症状 3 ppm：直ちに症状を伴うことはないが、通常24時間以内に遅発性の症状が出現する 3 ppm：上気道刺激、眼刺激 25 ppm：30分間以上の曝露で致死的 50 ppm：直ちに治療しなければ、短時間曝露でも致死的 解毒剤は存在しない。'\n",
      " 'クリオキノールはClk-1（英語版）と呼ばれる蛋白質に直接作用し、加齢を遅らせる可能性を持つとされ、有効性の根拠と推定されているが、患者の治療にはまだ用いるべきではないともされている。'\n",
      " 'ピクロトンオラミンは皮膚糸状菌（英語版）、酵母、カビに対しても殺菌効果がある。'\n",
      " '化粧品に界面活性剤として用いられる事もあるが、この場合溶液のpHを6〜7に保つ必要がある。'\n",
      " 'ピロクトンオラミンはグラム陽性菌にもグラム陰性菌にも殺菌活性を持つ。'\n",
      " 'すなわち、MEA洗浄液を加熱すると弱酸性ガスのみが遊離型になり放出されてMEA溶液は純度を復元し、スクラバ装置に戻され再利用される。'\n",
      " '例えば、排ガスから二酸化炭素(CO2)を除去するのにMEA水溶液が利用される。'\n",
      " '水酸化ルビジウムが一般的な工業ではめったに使われていないのにも関わらず、ほぼすべてのルビジウムの化合物の合成の中間体として現れる。'\n",
      " 'Rb 2 O ( s ) + H 2 O ( l ) ⟶ 2 RbOH ( aq ) 水酸化ルビジウムより刺激が少なく安全な水酸化カリウムや水酸化ナトリウムが似たような反応をするため、水酸化ルビジウムが工業で使われることは稀少である。'\n",
      " 'このため原子吸光分析で燃料ガスとしてシアン化水素ガスボンベを使用する事がある。'\n",
      " '杏仁豆腐に使用されるアンズの種子は、熟してエムルシン濃度が低下したものを粉に挽き、水に晒してアミグダリンを除去するなどの工程を経ている。'\n",
      " 'なお、アメリカ合衆国の一部の州ではガス室刑にシアン化水素を用いているが、処刑後の清掃などに大きなコストがかかることなどもあり、1999年以降行われていない。'\n",
      " '空気中のシアン化水素の検出には、ピクリン酸ソーダや塩化水銀(II)などを詰めたガス検知管が使われる。'\n",
      " 'この差はPUREX法においてプルトニウムをウランから分離するのに用いられている。'\n",
      " 'この場合は塩酸の中和熱・希釈熱によって溶液温度が上昇するため、pHの測定は温度補正を行うか、使用温度に放置してから行う必要がある。'\n",
      " 'トリスの水溶液（pH 10.5程度）に塩酸を滴下して望みのpHに調整して用いる。'\n",
      " '一級アミンがタンパク質と反応するため、様々な生化学反応を阻害することが知られており、また哺乳類細胞に対する毒性を示す。'\n",
      " '以降、組成は一般的なものを記すが、慣習や目的により若干異なる組成を用いることがある。'\n",
      " 'EDTAはヌクレアーゼの活性に必要なマグネシウムなどの2価陽イオンをキレートして、DNAやRNAの分解を防ぐ目的で添加されている。'\n",
      " '組成 Tris/Tris-acetate 40 mM EDTA 1mM pHは50倍ストック溶液の時点で8.3のものが多く用いられているが様々である。'\n",
      " '組成 Tris/Tris-HCl 10 mM NaCl 150mM 界面活性剤、加硫促進剤などを合成する中間物として、また滴定の標準として用いる。'\n",
      " 'リン酸緩衝生理食塩水（PBS）が使えないケースで代わりに用いられ、特に免疫学的な実験で多用されている。'\n",
      " '逆にTAEは安価であることから日常的に用いられる。'\n",
      " 'TAEとTBEはほぼ同じ目的に用いるが、TBEのほうが緩衝能が高く分離が良いという特徴がある。'\n",
      " '組成 Tris/Tris-borate 89 mM EDTA 2mM pHは8.3のものが多く用いられているが様々である。'\n",
      " '長いDNA断片の分離能が良くサザンブロッティングに用いられることが多い。'\n",
      " '多少の苦味はあったものの、一般的に使われていたが味のひどかった臭素系薬剤に比べればかなり改善されていた。'\n",
      " '神経興奮性の不眠症のために用いられ、カプセル剤、薬包の形で供給された。'\n",
      " '治療用量は中毒量よりも低かったが、長期にわたる使用によって耐性がつき、薬効を得るために必要な量が増加した。'\n",
      " '1904年には、ヘルマン・フォン・フーゼンが患者に試し、私立のクリニックで用いられるようになった。'\n",
      " '人気を博し広く用いられるようになり、バルビツール酸系の薬は数多く合成された。'\n",
      " 'バルビタールには酷い味がなく、当時の他の薬である臭化物などに比べ治療域が有毒域に近くないという点で新たな鎮静剤となり、バイエル社からベロナール、シェリング社からメジナルとして販売された。'\n",
      " 'カルボン酸と混合するだけで有用な反応中間体である酸アジドを生成するため、合成的な利用価値が高い。'\n",
      " 'これを利用して過酸化水素および触媒となる金属種の微量定量・定性試験を行う。'\n",
      " 'この反応は銅、コバルトなどの遷移金属およびその錯体（化学の実験室ではヘキサシアノ鉄(III) 酸カリウム（フェリシアン化カリウム） K3[Fe(CN)6] を用いる）、ある種の酵素によって触媒される。'\n",
      " '過酸化水素とともに用いると、血液の存在を強い発光で知らせる。'\n",
      " 'パーオキシターゼは大根だけでなく、セイヨウワサビやキュウリをはじめとする植物に含まれており、食品添加物としても使用されている。'\n",
      " '凝固点 -22.8℃ 発火点 250℃ 爆発熱 1700 Kcal/Kg 工業的には単体で使用されることはなく、ニトログリセリンと混合してダイナマイトなどに加工される。'\n",
      " 'そのため、ごく微量でもこの物質が含まれていると、本当に爆発するかどうかに関係なくプラスチック爆弾と見なされ拘束される危険があるが、毒性の強い第1種指定化学物質であるため爆薬以外への添加は行われていない。'\n",
      " 'そのため、しばしばこれらの2つのアルデヒドを併用して互いの欠点を補うような用い方をする。'\n",
      " '洗剤やポリエステル繊維など身近なものに使われるエチレングリコール、エタノールアミンなどの誘導品を製造する。' 'といった用途で用いられる。'\n",
      " '食品用途には、チョコレートや和菓子への使用が多い。' '旧厚生省は天然に存在しない添加物に分類している。'\n",
      " '医薬品医療機器総合機構からは、必要性を考え漫然とした長期使用を避ける、用量順守と類似薬の重複の確認、また慎重に少しずつ減量する旨の医薬品適正使用のお願いが出されている。'\n",
      " '日本では2017年3月に「重大な副作用」の項に、連用により依存症を生じることがあるので用量と使用期間に注意し慎重に投与し、急激な量の減少によって離脱症状が生じるため徐々に減量する旨が追加され、厚生労働省よりこのことの周知徹底のため関係機関に通達がなされた。'\n",
      " 'トレチノインとは異なりアダパレンは化学的に安定であるので、 過酸化ベンゾイルと同時に用いても失活しないと思われる。'\n",
      " 'アダパレンは局所使用したクリンダマイシンの効果を増強するが、その副作用も増加する。'\n",
      " '具体的には、尿素をディーゼルエンジンの排熱で分解し、放出されるアンモニアと排気中に含まれる窒素酸化物を化学反応させ、水と窒素に還元させる。'\n",
      " '1960年代に行われた動物実験で雄ラットに膀胱癌の発生が見られたため（雌では見られず）、サッカリンには弱い発癌性があると考えられ、一度は使用禁止になった。'\n",
      " '旧厚生省はサッカリン酸ナトリウムを天然に存在しない添加物に分類している。'\n",
      " '現在、アメリカ合衆国や中華人民共和国などにおいては大量に使用されているが、日本においては安全性維持のため、食品衛生法により各食品への使用量が制限されており、外装にその旨と使用量が記載されている。'\n",
      " 'スペルミジン (spermidine) はポリアミンに分類される有機化合物で、細胞代謝の際にRNAポリメラーゼの一種である酵素T7 RNAポリメラーゼを活性化するのに利用されることがある。'\n",
      " 'それどころか、サプリメントとして使用したために青酸中毒となり、健康障害を引き起こしたり、場合によっては死に至るなどおよそ健康とはかけ離れた結果となった例が多数報告されている。'\n",
      " '一方で幾つかの薬効に対して否定的な研究も存在する 例えば癌（悪性腫瘍）に効く成分とされる事があるが、米国国立癌研究所(NCI)によると、癌への治療や改善、延命などに対して効果が無く、逆に青酸中毒を起こし死に至る恐れがある事を指摘している。'\n",
      " 'アミグダリン分解産物のベンズアルデヒドが独特の芳香をもつため広く利用されている。'\n",
      " '最も安価で多用途に用いることができる3価リン源であるため、リンを含む製品の重要な出発物質である。'\n",
      " '1級および2級のアルコールを塩化アルキルに、カルボン酸を塩化アシルに変換できるが、一般的に塩化チオニルを用いた方が良い結果が得られる。'\n",
      " '抽出剤トリオクチルホスフィンオキシド (TOPO) の合成にも用いられるが、通常 TOPO はホスフィンから作られている。'\n",
      " 'H 2 S + NaOH ⟶ NaSH + H 2 O ほかに、ジスルフィドを水素化ホウ素ナトリウムやホスフィン類を用いて還元させたり、グリニャール試薬を硫黄分子で処理する方法も用いられる。'\n",
      " 'ルチン（Rutin、ルトサイド、クェルセチン-3-ルチノシドとも）は、薬草などとして用いられていたミカン科のヘンルーダ Ruta graveolensから発見された柑橘フラボノイド配糖体の一種。'\n",
      " 'キノリンは色素、高分子、農薬の製造において、合成中間体として用いられる。'\n",
      " '通常の目的には危険性の低いメタクロロ過安息香酸 (mCPBA) を用いるべきである。'\n",
      " '多くの場合は過酸化水素と無水酢酸から系中で発生させて用いるが、純度の高いものは潜在的に爆発性があるとされ、危険である。'\n",
      " '本プロセスでは、原料価格に応じて、エチレンの代わりにエタノールを用いることもできる。'\n",
      " 'また、価格の安いバイオエタノールを利用した酢酸エチルの輸入が2006年以降顕著となり、2009年度では輸入品のシェアが40%近くとなっている。'\n",
      " 'ただし、色彩が鮮やかな甲虫や甲虫以外の虫に使用すると変色などを招くことがあるため、現在では亜硫酸ガスや冷凍庫などを使う殺虫法も併用されることが多い。'\n",
      " 'XeO3 を得るための加水分解には水のほか、ジフルオロリン酸 (F2P(O)OH) も用いられる。'\n",
      " '通常、他の治療薬で効果が無かった場合に用いられる。' '経口（錠剤、口腔内崩壊錠、シロップ）のほか、静脈注射でも用いられる。'\n",
      " 'かつては、エチルベンゼンを塩素化したのちに脱塩化水素でオレフィンとする方法やエチルベンゼンを酸化したアセトフェノン、還元したフェニルカルビノールを経由して脱水反応オレフィンとする方法なども存在したが、今日では経済的な理由で触媒により脱水素する方法以外は利用されない。'\n",
      " '指示薬として用いる際には、通常、エタノールに溶解される。'\n",
      " '酸化物の状態では触媒としての活性は持たず、水素と処理して白金黒に変換したものが反応に利用される。'\n",
      " '生成したアダムス触媒はすぐに利用しても乾燥させてデシケーター中で保管して後日使用しても良い。'\n",
      " '反応系のpHは反応の進行に大きく影響するので、強い反応が必要な場合は酢酸溶液や、酢酸を添加した溶媒を用いて反応させる。'\n",
      " 'アダムス触媒は様々な利用方法が存在する。'\n",
      " 'インジウム燐にFe、Si、S、Znといった不純物を添加することで、高抵抗(抵抗率>10MΩcm)の半絶縁性基板、n型導電性、p型導電性の低抵抗基板が一般に用いられている。'\n",
      " 'リン化インジウムは単結晶基板として用いられるが、ヒ化ガリウムやリン化ガリウムに比べると大きな格子定数を有することで、この基板に格子整合する（格子定数が同じとなる）InGaAs、AlInAs、InGaAsP、AlGaInAsといった材料をエピタキシャル成長することが可能となる。'\n",
      " '現在でも、危険性の高さを印象づける名称として、プロレスの技（DDT (プロレス技)参照）、グループ名、諸団体の名称などに当て字で使われることが多い。'\n",
      " 'また、水に難溶性もしくは不溶性の二クロム酸塩は以前から顔料としても使用されておらず、水に難溶性もしくは不溶性のクロム酸塩も顔料以外の用途が極めて少ないため、重金属、ランタノイド、アルカリ土類金属のクロム酸塩および二クロム酸塩の有用性はほとんどなくなっている。'\n",
      " 'かつては水に難溶性もしくは不溶性のクロム酸塩は黄色顔料として使われていたが、毒性が強く耐光性に弱い上硫化水素により黒変するため、環境問題の観点上から製造・使用が制限されてきている。'\n",
      " 'ナトリウム、カリウム、アンモニウム塩は水溶性の粒状の固体で、化学実験において広く用いられる。'\n",
      " 'また、シクロペンタジエン同様にプロトンの引き抜きによりインデニルアニオンとなり、有機金属化学において配位子として利用される。'\n",
      " 'C 5 H 5 N + HCl + CrO 3 ⟶ ( C 5 H 5 NH ) + ClCrO 3 − ) が知られ、やはり上記の安全な酸化反応が開発されるまではアルコールからカルボニル化合物への酸化に用いられていた。'\n",
      " 'その性質から鉱石など金属が混じったサンプルからニッケルの定量に利用される。'\n",
      " '無水物の物性はよく研究されているものの、実用上ほとんど用いられる事はない。'\n",
      " 'ベンジルアミンの代わりにアンモニアを用いると、RX との反応で三級アミン R3N あるいは四級アンモニウム R4N+ の生成が起こる。'\n",
      " 'ケトプロフェン使用中はもちろんのこと、使用後も暫くは紫外線を避けることが望ましい。'\n",
      " '同じベンゾフェノン誘導体の、例えばオキシベンゾン（英語版）やジオキシベンゾンは日焼け止め防止のための薬品（紫外線吸収剤）として用いられることがある。'\n",
      " '脱保護は硝酸銀などの酸化剤を用いる。'\n",
      " '臭素を用いる手法、あるいはそこへさらに三臭化リンを加えるヘル・ボルハルト・ゼリンスキー反応が用いられる。'\n",
      " 'しかし、人体への副作用も大きいため、EUは1988年に、アメリカ合衆国は1991年に、中国は1997年に餌への添加を禁止した。'\n",
      " 'この事例においては、選手の食事にクレンブテロールを用いて飼育された牛肉か鶏肉が用いられたのではないかとの指摘も存在する。'\n",
      " 'シアン化カリウム、シアン化ナトリウムは、シアン化物イオンの源として有機合成で用いられる。'\n",
      " 'シトラールにアセトンを塩基触媒を用いたアルドール反応によって縮合させると、プソイドイオノンが生成する。'\n",
      " 'リン酸を用いると主としてα-イオノンが、硫酸の場合には主にβ-イオノンが得られる。'\n",
      " 'その後、ペンタセンの薄層を調製する必要が生じると、前駆体から小分子を脱離させる手法を用いて合成されるようになった。'\n",
      " '電子技術総合研究所で神経回路の伝達の研究に使用されていたヤリイカの飼育は当初困難だったが、松本元により、アンモニアを除去するために循環濾過フィルター内にアンモニアを酸化する細菌（亜硝酸菌）と、それを還元する細菌（嫌気呼吸菌、脱窒菌）の繁殖・保持により達成された。'\n",
      " 'フルオレセインの吸収極大は波長 494nm（青色光）、放出する蛍光の極大は 521nm（緑色光、水中）であり、励起にはアルゴンレーザーなどが利用できる。'\n",
      " '反応触媒としては、塩化亜鉛の他にスルホン酸も用いられる。'\n",
      " 'これらの誘導体はAlexa (Molecular Probes) や DyLight（ピアス社）といった新参の色素と共に、より高い光安定性、多彩なスペクトル特性・結合特性が要求される化学・生物学用のアプリケーションに仕立てられ、利用されている。'\n",
      " 'また、フルオレセイン骨格にスクシンイミジルエステルを付加したN-ヒドロキシスクシンイミド (N-hydroxysuccinimide; NHS) フルオレセインもアミンに対する結合性を持っており、良く用いられる化合物の一つである。'\n",
      " 'また現在商品化されている製剤はすべて添加物に緩衝剤としてグリシンが用いられており、直接脊髄周辺に投与すると神経伝達物質としての作用を発揮してしまうため、硬膜外腔・くも膜下腔への投与も適さない。'\n",
      " '通常は、0.01～10 mg/Lの濃度で使われる。' 'ジベレリン酸は成長の調節には超低濃度で使用される。'\n",
      " 'ジベレリン酸は少量で使われ、植物の分解・腐敗・成長に作用するが、いつかは植物に耐性が発現する。'\n",
      " '中枢神経系障害のある患者に用いてはならない。'\n",
      " 'アメリカでは、他に毒性が低く抗菌作用の高い薬があるという理由から、すでに臨床利用されていないが、日本でも2017年11月末をもって販売中止となる。'\n",
      " 'また、アルコールから調整できるキサントゲン酸エステルも同様の反応をし、ヒドロキシ基を除去するのに使われる (Barton-McCombie脱酸素化)。'\n",
      " 'このような理由で滑走路などで用いられるが、値段は高価である。' '通常は鉄の塩などの触媒が用いられる。'\n",
      " 'この経路の最終産物はウリジン二リン酸-N-アセチルグルコサミン (UDP-GlcNAc) であり、グリコサミノグリカンやプロテオグリカン、糖脂質の合成に使われる。'\n",
      " 'ジケトンとしてα-ケト酸、α-クロロケトン、α-アルデヒドアルコールそしてα-ケトンアルコールを用いると、置換基を導入したキノキサリン誘導体が得られる。'\n",
      " 'クラフトフーヅは、アセスルファムカリウムの苦みをマスキングするためフェルラ酸ナトリウムを用いる方法の特許を取得している。'\n",
      " 'アルコール類の中で、最も身近に使われる物質の1つである。'\n",
      " '米国では、1920年代にゼネラルモーターズが石油会社と共に（会社の利益となる）有鉛ガソリンを推進するようになったため、以降ほとんど使われなくなった。'\n",
      " '特定アルコールは許可を受けずに誰でも購入して自由に使用することができる。'\n",
      " '合成アルコールは、旧食品衛生法でいうところの化学的合成品にあたり、添加物としても食品に使用できないと定められている。'\n",
      " 'また傷口や粘膜に使用した場合は刺激が強く、痛みを感ずるために、基本的には正常な皮膚にしか使用しない。'\n",
      " 'ネコでの使用は禁忌であるとされる場合があるが統一的な見解はない。' '臨床的には用いられない。'\n",
      " '酸化鉄(III)（さんかてつ さん、Iron(III) oxide）は、 酸化第二鉄（さんかだいにてつ、ferric oxide）、ヘマタイト (Hematite)、 赤色酸化鉄（せきしょくさんかてつ、red iron oxide）、 合成磁赤鉄鉱（ごうせいじせきてっこう、maghemite）、弁柄（べんがら、colcothar）、 三酸化二鉄（さんさんかにてつ）、 あるいは単に錆として知られる、幾つか存在する鉄の酸化物の一つで、 常磁性を示し、組成式はFe2O3で示される化学物質である。'\n",
      " '脳卒中易発症性高血圧ラットにタウリンを添加した飼料を与えると、脳卒中の発症率の著しい低下と同時に有意な降圧作用がみられた。'\n",
      " 'メチルエチルケトンペルオキシドが主にこの用途に使われる。'\n",
      " 'n-ブチルリチウム、sec-ブチルリチウム、tert-ブチルリチウムは主に有機化合物のリチオ化に用いられる。'\n",
      " 'メチルリチウムは主に化合物のメチル化に用いられる。'\n",
      " 'R − X + 2 Li ⟶ R − Li + LiX 市販品として良く用いられるアルキルリチウム化合物としてはメチルリチウム、n-ブチルリチウム、sec-ブチルリチウム、tert-ブチルリチウムなどが挙げられる。'\n",
      " 'オリンピック等で用いられる世界アンチ・ドーピング機関の禁止物質のリストでは、尿1ml中に5μg以上の濃度のカチンを禁止している。'\n",
      " 'パクロブトラゾール（paclobutrazol, PBZ, IUPAC名: (2RS, 3RS)-1-(4-chlorophenyl)-4,4-dimethyl-2-(1H-1,2,4-triazol-1-yl)pentan-3-ol）は植物成長調整剤、トリアゾール系殺菌剤の一種。'\n",
      " '日本ではバターなどの油脂類に用いられることがある。'\n",
      " 'アメリカ合衆国では、通常トウモロコシのデンプンが用いられ、ヨーロッパでは小麦のデンプンが用いられる。'\n",
      " '厳密に乾燥した材料は、18-クラウン-6をTHFに溶解させた後、ナトリウムカリウム合金を添加することによって、アルカリ塩の[K(18-crown-6)]Naが得られる。'\n",
      " 'また、工業用無臭ガス以外では安全のためにエタンチオールが着臭剤として添加されていることが多い。'\n",
      " '都市ガスとは異なり供給時にはLPGボンベを用いることが多く、販売業者が定期的にLPGボンベを交換する。'\n",
      " 'また、LPガスは運輸部門でも用いられている。'\n",
      " '21世紀に入り、オゾンホール問題や地球温暖化対策の観点から、代替フロンを含めたフロン類の利用に規制が行われるようになっているが、プロパンなどもとから自然界にある物質を「自然冷媒」として活用しようという動きもある。'\n",
      " '2型糖尿病の治療薬としては、2009年7月に欧州医薬品庁（EMA）に承認された後、2010年1月にアメリカ食品医薬品局（FDA）に承認された。'\n",
      " '例えばイミダゾールをアシル化したアシルイミダゾールは求核反応を受けやすく、いわゆる活性アシル・シントンとしてカルボン酸誘導体合成に利用される。'\n",
      " 'ポルフィリン 動物においてはグリシンおよびスクシニルCoAからアミノレブリン酸合成酵素（EC 2.3.1.37）の作用でアミノレブリン酸が合成され、これを原料にポルフィリンが合成され、ヘムとして利用される。'\n",
      " 'また、武田薬品工業は、アリチアミンの製剤化に力を入れ（製品開発のきっかけは、旧陸軍から脚気の治療薬開発を依頼されたこと）、1954年（昭和29年）3月、アリチアミンの誘導体であるプロスルチアミンの内服薬「アリナミン錠」が発売され、従来のビタミンB1剤に見られない優れた効果を示した。'\n",
      " 'ブテンに水を付加して得られる2-ブタノールを原料に、銅亜鉛触媒を用いて脱水素することで生産される。'\n",
      " 'ポリエンマクロリド系抗生物質は強力な抗菌活性を示すにもかかわらず、アムホテリシンBおよびナイスタチンA1以外のほとんどは薬として使用する際に毒性も示す。'\n",
      " '製造過程では、チャノキ由来の原料は用いず、微生物(Pseudomonas nitroreducens)の作るグルタミナーゼ酵素を利用した発酵によって合成されている。'\n",
      " 'これは、酸化セリウム(IV)の低い溶解度と、その他の希土類元素が酸化されないことを利用した手法である。'\n",
      " '従来用いられていた酸化鉄、ジルコニアなどの酸化物は次々と酸化セリウム(IV)に置き換えられた。'\n",
      " 'メタ - イソフタルアルデヒド (m.p. 87–88\\xa0°C, CAS# 626-19-7) パラ - テレフタルアルデヒド (m.p. 114–116\\xa0°C, CAS# 623-27-8). ポリフタルアルデヒドは、フォトレジストで用いられるなどの用途がある。'\n",
      " '六価クロムの環境負荷の高さ、処理の煩雑さから、クロム酸混液より、こちらの方を洗浄液として選ぶ場合があるが、万が一の事故への対策もなしに用いるべきではない。'\n",
      " '安定剤として酸化マグネシウムが添加されている場合がある。' '酸または塩基の触媒を使用して、臭素とアセトンを反応させて生成できる 。'\n",
      " 'スワインソニンは神経膠腫や胃がんの治療薬候補となっている。' 'スワインソニンは抗がん治療による骨髄損傷からの回復を促進させる。'\n",
      " '塩酸塩（HSCH2CH2NH3Cl、CAS#[156-57-0]）としてしばしば用いられる。'\n",
      " 'フロリジンの分解産物であるフロレチンは脳内のグルコース濃度の低下をおこすことがラットの実験で知られており、今のところフロレチンは糖尿病の治療には用いられていない。'\n",
      " 'こいのためフロリジンをそのまま医薬品として使用するのは不適当とされる。']\n"
     ]
    }
   ],
   "source": [
    "print(train.loc[FP_index, 'sentence'].values)"
   ]
  },
  {
   "cell_type": "code",
   "execution_count": null,
   "metadata": {},
   "outputs": [],
   "source": []
  }
 ],
 "metadata": {
  "kernelspec": {
   "display_name": "Python 3",
   "language": "python",
   "name": "python3"
  },
  "language_info": {
   "codemirror_mode": {
    "name": "ipython",
    "version": 3
   },
   "file_extension": ".py",
   "mimetype": "text/x-python",
   "name": "python",
   "nbconvert_exporter": "python",
   "pygments_lexer": "ipython3",
   "version": "3.6.1"
  }
 },
 "nbformat": 4,
 "nbformat_minor": 2
}
