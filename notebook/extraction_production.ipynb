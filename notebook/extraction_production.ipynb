{
 "cells": [
  {
   "cell_type": "code",
   "execution_count": 2,
   "metadata": {},
   "outputs": [
    {
     "name": "stderr",
     "output_type": "stream",
     "text": [
      "/usr/local/var/pyenv/versions/3.6.1/lib/python3.6/importlib/_bootstrap.py:205: RuntimeWarning: numpy.dtype size changed, may indicate binary incompatibility. Expected 96, got 88\n",
      "  return f(*args, **kwds)\n",
      "/usr/local/var/pyenv/versions/3.6.1/lib/python3.6/importlib/_bootstrap.py:205: RuntimeWarning: numpy.dtype size changed, may indicate binary incompatibility. Expected 96, got 88\n",
      "  return f(*args, **kwds)\n"
     ]
    }
   ],
   "source": [
    "import numpy as np\n",
    "import pandas as pd\n",
    "import json\n",
    "import re\n",
    "import matplotlib.pyplot as plt\n",
    "import lightgbm as lgb\n",
    "from sklearn.model_selection import cross_validate, StratifiedKFold\n",
    "from hyperopt import hp, tpe\n",
    "from hyperopt.fmin import fmin\n",
    "\n",
    "import shinra_util as util\n",
    "import bootstrap as bs\n",
    "import word_entropy\n",
    "import feature\n",
    "\n",
    "import warnings\n",
    "warnings.filterwarnings('ignore')"
   ]
  },
  {
   "cell_type": "code",
   "execution_count": 3,
   "metadata": {},
   "outputs": [],
   "source": [
    "plt.rcParams['font.family'] = 'IPAGothic'"
   ]
  },
  {
   "cell_type": "code",
   "execution_count": 4,
   "metadata": {},
   "outputs": [],
   "source": [
    "%load_ext autoreload\n",
    "%autoreload 2"
   ]
  },
  {
   "cell_type": "code",
   "execution_count": 5,
   "metadata": {},
   "outputs": [],
   "source": [
    "with open(\"../data/compound_train.json\") as f:\n",
    "    train = json.load(f)['entry']"
   ]
  },
  {
   "cell_type": "code",
   "execution_count": 6,
   "metadata": {},
   "outputs": [],
   "source": [
    "train_production_dict = util.train2dict(train, attribute=\"製造方法\")"
   ]
  },
  {
   "cell_type": "code",
   "execution_count": 7,
   "metadata": {},
   "outputs": [],
   "source": [
    "wiki_sentence_df = pd.read_csv(\"../data/wikitext_split_sentence_with_subtitle.csv\")"
   ]
  },
  {
   "cell_type": "markdown",
   "metadata": {},
   "source": [
    "## Trainデータ作成"
   ]
  },
  {
   "cell_type": "code",
   "execution_count": 8,
   "metadata": {},
   "outputs": [
    {
     "data": {
      "text/html": [
       "<div>\n",
       "<style scoped>\n",
       "    .dataframe tbody tr th:only-of-type {\n",
       "        vertical-align: middle;\n",
       "    }\n",
       "\n",
       "    .dataframe tbody tr th {\n",
       "        vertical-align: top;\n",
       "    }\n",
       "\n",
       "    .dataframe thead th {\n",
       "        text-align: right;\n",
       "    }\n",
       "</style>\n",
       "<table border=\"1\" class=\"dataframe\">\n",
       "  <thead>\n",
       "    <tr style=\"text-align: right;\">\n",
       "      <th></th>\n",
       "      <th>_id</th>\n",
       "      <th>sentence</th>\n",
       "      <th>heading</th>\n",
       "      <th>label</th>\n",
       "    </tr>\n",
       "  </thead>\n",
       "  <tbody>\n",
       "    <tr>\n",
       "      <th>0</th>\n",
       "      <td>2662912</td>\n",
       "      <td>ハロン (halon) は、炭化水素の水素原子（一部または全て）がハロゲン原子で置換されたハ...</td>\n",
       "      <td>NO_SUBTITLE</td>\n",
       "      <td>False</td>\n",
       "    </tr>\n",
       "    <tr>\n",
       "      <th>1</th>\n",
       "      <td>2662912</td>\n",
       "      <td>ハロゲン化炭化水素 (halogenated hydrocarbon) が語源で、アメリカ陸...</td>\n",
       "      <td>NO_SUBTITLE</td>\n",
       "      <td>False</td>\n",
       "    </tr>\n",
       "    <tr>\n",
       "      <th>2</th>\n",
       "      <td>2662912</td>\n",
       "      <td>ハロン類 (halons)、ハロン化合物 (halon compounds) ともいう。</td>\n",
       "      <td>NO_SUBTITLE</td>\n",
       "      <td>False</td>\n",
       "    </tr>\n",
       "    <tr>\n",
       "      <th>3</th>\n",
       "      <td>2662912</td>\n",
       "      <td>ハロンに対し、臭素を含まず、ハロゲンがフッ素と塩素のみの化合物を、フロン（クロロフルオロカー...</td>\n",
       "      <td>NO_SUBTITLE</td>\n",
       "      <td>False</td>\n",
       "    </tr>\n",
       "    <tr>\n",
       "      <th>4</th>\n",
       "      <td>2662912</td>\n",
       "      <td>ただし、フロンが日本特有の語であるのに対し、ハロンは国際的に通用する名である。</td>\n",
       "      <td>NO_SUBTITLE</td>\n",
       "      <td>False</td>\n",
       "    </tr>\n",
       "  </tbody>\n",
       "</table>\n",
       "</div>"
      ],
      "text/plain": [
       "       _id                                           sentence      heading  \\\n",
       "0  2662912  ハロン (halon) は、炭化水素の水素原子（一部または全て）がハロゲン原子で置換されたハ...  NO_SUBTITLE   \n",
       "1  2662912  ハロゲン化炭化水素 (halogenated hydrocarbon) が語源で、アメリカ陸...  NO_SUBTITLE   \n",
       "2  2662912       ハロン類 (halons)、ハロン化合物 (halon compounds) ともいう。  NO_SUBTITLE   \n",
       "3  2662912  ハロンに対し、臭素を含まず、ハロゲンがフッ素と塩素のみの化合物を、フロン（クロロフルオロカー...  NO_SUBTITLE   \n",
       "4  2662912            ただし、フロンが日本特有の語であるのに対し、ハロンは国際的に通用する名である。  NO_SUBTITLE   \n",
       "\n",
       "   label  \n",
       "0  False  \n",
       "1  False  \n",
       "2  False  \n",
       "3  False  \n",
       "4  False  "
      ]
     },
     "execution_count": 8,
     "metadata": {},
     "output_type": "execute_result"
    }
   ],
   "source": [
    "train_sentence_df = wiki_sentence_df.loc[wiki_sentence_df._id.isin(train_production_dict.keys())].reset_index(drop=True)\n",
    "train_sentence_df._id = train_sentence_df._id.astype(str)\n",
    "train_sentence_df = util.labeling(train_sentence_df, train_production_dict)\n",
    "train_sentence_df.head()"
   ]
  },
  {
   "cell_type": "code",
   "execution_count": 9,
   "metadata": {},
   "outputs": [
    {
     "data": {
      "text/html": [
       "<div>\n",
       "<style scoped>\n",
       "    .dataframe tbody tr th:only-of-type {\n",
       "        vertical-align: middle;\n",
       "    }\n",
       "\n",
       "    .dataframe tbody tr th {\n",
       "        vertical-align: top;\n",
       "    }\n",
       "\n",
       "    .dataframe thead th {\n",
       "        text-align: right;\n",
       "    }\n",
       "</style>\n",
       "<table border=\"1\" class=\"dataframe\">\n",
       "  <thead>\n",
       "    <tr style=\"text-align: right;\">\n",
       "      <th></th>\n",
       "      <th>_id</th>\n",
       "      <th>sentence</th>\n",
       "      <th>heading</th>\n",
       "    </tr>\n",
       "    <tr>\n",
       "      <th>label</th>\n",
       "      <th></th>\n",
       "      <th></th>\n",
       "      <th></th>\n",
       "    </tr>\n",
       "  </thead>\n",
       "  <tbody>\n",
       "    <tr>\n",
       "      <th>False</th>\n",
       "      <td>7725</td>\n",
       "      <td>7725</td>\n",
       "      <td>7725</td>\n",
       "    </tr>\n",
       "    <tr>\n",
       "      <th>True</th>\n",
       "      <td>500</td>\n",
       "      <td>500</td>\n",
       "      <td>500</td>\n",
       "    </tr>\n",
       "  </tbody>\n",
       "</table>\n",
       "</div>"
      ],
      "text/plain": [
       "        _id  sentence  heading\n",
       "label                         \n",
       "False  7725      7725     7725\n",
       "True    500       500      500"
      ]
     },
     "execution_count": 9,
     "metadata": {},
     "output_type": "execute_result"
    }
   ],
   "source": [
    "train_sentence_df.groupby('label').count()"
   ]
  },
  {
   "cell_type": "markdown",
   "metadata": {},
   "source": [
    "## ブートストラップ法で手がかり語抽出→フィルタリング\n",
    "- いまいち…"
   ]
  },
  {
   "cell_type": "code",
   "execution_count": 130,
   "metadata": {},
   "outputs": [],
   "source": [
    "parsed_df = pd.read_pickle(\"../dump/parsed_df.pickle\")"
   ]
  },
  {
   "cell_type": "code",
   "execution_count": 157,
   "metadata": {},
   "outputs": [
    {
     "name": "stdout",
     "output_type": "stream",
     "text": [
      "loop:  1\n",
      "clue words count:  50\n",
      "loop:  2\n",
      "clue words count:  59\n",
      "loop:  3\n",
      "clue words count:  59\n"
     ]
    }
   ],
   "source": [
    "bs_model = bs.Bootstrap(parsed_df)\n",
    "bs_model.run(['得られる'])"
   ]
  },
  {
   "cell_type": "code",
   "execution_count": 137,
   "metadata": {},
   "outputs": [
    {
     "data": {
      "text/plain": [
       "['見られる',\n",
       " '行う',\n",
       " 'ない',\n",
       " '変換される',\n",
       " '合成される',\n",
       " '高い',\n",
       " '一つ',\n",
       " '示す',\n",
       " 'できる',\n",
       " '呼ばれる',\n",
       " 'ある',\n",
       " '阻害する',\n",
       " '使用される',\n",
       " 'した',\n",
       " '引き起こす',\n",
       " '化合物である',\n",
       " '利用される',\n",
       " '生成する',\n",
       " '多い',\n",
       " '用いられる',\n",
       " 'なった',\n",
       " 'なっている',\n",
       " '一種である',\n",
       " '用いられている',\n",
       " 'ことが',\n",
       " '表される',\n",
       " 'あり',\n",
       " '指定されている',\n",
       " '得られる',\n",
       " '発生する',\n",
       " 'ことで',\n",
       " '存在する',\n",
       " '用いる',\n",
       " 'なる',\n",
       " '与える',\n",
       " '作る',\n",
       " '持つ',\n",
       " 'されている',\n",
       " 'ため',\n",
       " '含む',\n",
       " '有する',\n",
       " '含まれる',\n",
       " '分解する',\n",
       " '生成される',\n",
       " 'する',\n",
       " '生じる',\n",
       " '一種',\n",
       " '分類される',\n",
       " '得る',\n",
       " '該当する',\n",
       " 'ために',\n",
       " '承認された',\n",
       " '知られている',\n",
       " '形成する',\n",
       " '使われる',\n",
       " 'なり',\n",
       " '合成する',\n",
       " '報告されている',\n",
       " '一つである']"
      ]
     },
     "execution_count": 137,
     "metadata": {},
     "output_type": "execute_result"
    }
   ],
   "source": [
    "bs_model.clue_words"
   ]
  },
  {
   "cell_type": "code",
   "execution_count": 158,
   "metadata": {},
   "outputs": [
    {
     "data": {
      "text/plain": [
       "<matplotlib.axes._subplots.AxesSubplot at 0x191680278>"
      ]
     },
     "execution_count": 158,
     "metadata": {},
     "output_type": "execute_result"
    },
    {
     "data": {
      "image/png": "[encoded data removed]",
      "text/plain": [
       "<Figure size 1080x576 with 1 Axes>"
      ]
     },
     "metadata": {},
     "output_type": "display_data"
    }
   ],
   "source": [
    "feature_word_dict = {}\n",
    "for word in bs_model.clue_words:\n",
    "    feature_word_dict[word] = wiki_sentence_df.sentence.str.contains(util.contains_patt(word)).tolist()\n",
    "\n",
    "pd.DataFrame(feature_word_dict).T.apply(lambda x: sum(x), axis=1).plot(kind='bar', figsize=(15, 8))"
   ]
  },
  {
   "cell_type": "code",
   "execution_count": 159,
   "metadata": {},
   "outputs": [
    {
     "data": {
      "text/plain": [
       "[None, None, None, None, None, None, None, None, None, None, None, None, None]"
      ]
     },
     "execution_count": 159,
     "metadata": {},
     "output_type": "execute_result"
    }
   ],
   "source": [
    "BS_clue_words = bs_model.clue_words.copy()\n",
    "remove_words = [\"ない\", \"できる\", \"ある\", \"した\", \"ことが\", \"あり\", \"ことで\", \"なる\", \"されている\", \"ため\", \"する\", \"ために\", \"なり\"]\n",
    "[BS_clue_words.remove(v) for v in remove_words]"
   ]
  },
  {
   "cell_type": "code",
   "execution_count": 160,
   "metadata": {},
   "outputs": [
    {
     "name": "stdout",
     "output_type": "stream",
     "text": [
      "train length : 8929\n",
      "label 1 : 500 \tlabel 0 : 8429\n",
      "train length (filtering) : 3561\n",
      "label 1 : 306 \tlabel 0 : 3255\n"
     ]
    }
   ],
   "source": [
    "# ブートストラップ法で得た手がかり語で学習データをフィルタリング\n",
    "print(\"train length :\", len(train_sentence_df))\n",
    "print(\"label 1 :\", len(train_sentence_df.loc[train_sentence_df.label == 1]), \"\\tlabel 0 :\", len(train_sentence_df.loc[train_sentence_df.label == 0]))\n",
    "\n",
    "filtering_train_sentence_df = train_sentence_df.loc[train_sentence_df.sentence.str.contains(util.contains_patt(BS_clue_words))].reset_index(drop=True)\n",
    "print(\"train length (filtering) :\", len(filtering_train_sentence_df))\n",
    "print(\"label 1 :\", len(filtering_train_sentence_df.loc[filtering_train_sentence_df.label == 1]), \"\\tlabel 0 :\", len(filtering_train_sentence_df.loc[filtering_train_sentence_df.label == 0]))"
   ]
  },
  {
   "cell_type": "markdown",
   "metadata": {},
   "source": [
    "## Entropyを用いた手がかり語抽出"
   ]
  },
  {
   "cell_type": "code",
   "execution_count": 10,
   "metadata": {},
   "outputs": [],
   "source": [
    "is_clue_word = lambda hinshi: (hinshi[0] == \"名詞\" and hinshi[1] == \"サ変接続\") or (hinshi[0] == \"動詞\" and hinshi[1] == \"自立\")"
   ]
  },
  {
   "cell_type": "code",
   "execution_count": 11,
   "metadata": {},
   "outputs": [],
   "source": [
    "clue_word_df = \\\n",
    "train_sentence_df.assign(\n",
    "    clue_word = \n",
    "    train_sentence_df.apply(\n",
    "        lambda x: util.get_word_list(x.sentence, is_clue_word)\n",
    "        , axis=1\n",
    "    )\n",
    ")[[\"clue_word\", \"label\"]]"
   ]
  },
  {
   "cell_type": "code",
   "execution_count": 12,
   "metadata": {},
   "outputs": [],
   "source": [
    "clue_word_entropy = word_entropy.word_entropy(clue_word_df)"
   ]
  },
  {
   "cell_type": "code",
   "execution_count": 14,
   "metadata": {},
   "outputs": [
    {
     "data": {
      "text/plain": [
       "['合成',\n",
       " '析出',\n",
       " '作ら',\n",
       " '生成',\n",
       " '還元',\n",
       " '熱',\n",
       " '抽出',\n",
       " '溶かし',\n",
       " '通じ',\n",
       " '脱',\n",
       " '加熱',\n",
       " '合さ',\n",
       " '中和',\n",
       " '濃縮',\n",
       " '加える',\n",
       " '蒸発',\n",
       " '冷却',\n",
       " '改良',\n",
       " '通す',\n",
       " '反応',\n",
       " '得る',\n",
       " '得',\n",
       " '沈殿',\n",
       " '発酵']"
      ]
     },
     "execution_count": 14,
     "metadata": {},
     "output_type": "execute_result"
    }
   ],
   "source": [
    "alpha = 1.1\n",
    "entropy_clue_words = \\\n",
    "clue_word_entropy[\n",
    "    (clue_word_entropy.entropy_positive > alpha * clue_word_entropy.entropy_negative) & (clue_word_entropy.entropy_negative > 0)\n",
    "].clue_word.tolist()\n",
    "entropy_clue_words"
   ]
  },
  {
   "cell_type": "markdown",
   "metadata": {},
   "source": [
    "## 特徴量作成"
   ]
  },
  {
   "cell_type": "code",
   "execution_count": 15,
   "metadata": {},
   "outputs": [],
   "source": [
    "train_y = train_sentence_df.label.values"
   ]
  },
  {
   "cell_type": "code",
   "execution_count": 16,
   "metadata": {},
   "outputs": [],
   "source": [
    "# Entropyで得た手がかり語が文中に含まれているかどうか\n",
    "train_X = feature.contains_clue_word(train_sentence_df, entropy_clue_words + ['製造'])\n",
    "\n",
    "# サブタイトル中にEntropyで得た手がかり語が含まれているかどうか\n",
    "train_X[\"subtitle_cat\"] = feature.subtitle_cat(train_sentence_df, entropy_clue_words + ['製造'])"
   ]
  },
  {
   "cell_type": "code",
   "execution_count": 17,
   "metadata": {},
   "outputs": [],
   "source": [
    "category_in_NITE_df = pd.read_csv(\"../data/NITE_existence_list.csv\")\n",
    "category_in_NITE_list = category_in_NITE_df.loc[category_in_NITE_df.label == True].category.tolist()\n",
    "compound_list = pd.read_csv(\"../data/compound_list.csv\").rename(columns={\"compound\": \"name\"}).name.tolist()\n",
    "element_list = pd.read_csv(\"../data/element_list.csv\").name.tolist()\n",
    "\n",
    "train_X[\"n_NITE\"] = train_sentence_df.sentence.str.findall(util.contains_patt(category_in_NITE_list)).apply(lambda x: len(x))\n",
    "train_X[\"n_compound\"] = train_sentence_df.sentence.str.findall(util.contains_patt(compound_list)).apply(lambda x: len(x))\n",
    "train_X[\"n_element\"] = train_sentence_df.sentence.str.findall(util.contains_patt(element_list)).apply(lambda x: len(x))"
   ]
  },
  {
   "cell_type": "markdown",
   "metadata": {},
   "source": [
    "## 学習"
   ]
  },
  {
   "cell_type": "code",
   "execution_count": 18,
   "metadata": {},
   "outputs": [
    {
     "name": "stdout",
     "output_type": "stream",
     "text": [
      "f1:  0.4704503510037938\n",
      "precision:  0.6329223319053827\n",
      "recall:  0.378\n"
     ]
    }
   ],
   "source": [
    "model = lgb.LGBMClassifier(is_unbalance=False)\n",
    "\n",
    "scores = cross_validate(model, train_X, train_y, scoring=['f1', 'precision', 'recall'], cv=5)\n",
    "\n",
    "print(\"f1: \", scores['test_f1'].mean())\n",
    "print(\"precision: \", scores['test_precision'].mean())\n",
    "print(\"recall: \", scores['test_recall'].mean())"
   ]
  },
  {
   "cell_type": "code",
   "execution_count": 18,
   "metadata": {},
   "outputs": [
    {
     "data": {
      "text/plain": [
       "<matplotlib.axes._subplots.AxesSubplot at 0x111ee9b00>"
      ]
     },
     "execution_count": 18,
     "metadata": {},
     "output_type": "execute_result"
    },
    {
     "data": {
      "image/png": "[encoded data removed]",
      "text/plain": [
       "<Figure size 432x288 with 1 Axes>"
      ]
     },
     "metadata": {},
     "output_type": "display_data"
    }
   ],
   "source": [
    "model.fit(train_X, train_y)\n",
    "lgb.plot_importance(model)"
   ]
  },
  {
   "cell_type": "code",
   "execution_count": 19,
   "metadata": {},
   "outputs": [
    {
     "name": "stdout",
     "output_type": "stream",
     "text": [
      "TP:  300\n",
      "TN:  4336\n",
      "FP:  45\n",
      "FN:  200\n"
     ]
    }
   ],
   "source": [
    "predict = model.predict(train_X)\n",
    "\n",
    "TP_index = np.where((predict == train_y) & (predict == 1))[0]\n",
    "TN_index = np.where((predict == train_y) & (predict == 0))[0]\n",
    "FP_index = np.where((predict != train_y) & (predict == 1))[0]\n",
    "FN_index = np.where((predict != train_y) & (predict == 0))[0]\n",
    "\n",
    "print(\"TP: \", len(TP_index))\n",
    "print(\"TN: \", len(TN_index))\n",
    "print(\"FP: \", len(FP_index))\n",
    "print(\"FN: \", len(FN_index))"
   ]
  },
  {
   "cell_type": "code",
   "execution_count": 20,
   "metadata": {},
   "outputs": [
    {
     "name": "stdout",
     "output_type": "stream",
     "text": [
      "['6 SCl2 ＋ 16 NH3 → N4S4 ＋ 2 S ＋ 12 NH4Cl 二塩化硫黄の四塩化炭素溶液に塩素を加え、アンモニアを通しても生ずる。'\n",
      " '4 SCl2 ＋ 16 NH3 ＋ 2 Cl2 → S4N4 ＋ 12 NH4Cl 二塩化二硫黄の二硫化炭素溶液にアンモニアを作用させてもできる。'\n",
      " '四硫化四窒素を真空中で 300 ℃ に加熱すると生じる。'\n",
      " '四硫化四窒素を硫黄とともに二硫化炭素中で混合させてオートクレーブ中 110 ℃ に加熱すると生じる。'\n",
      " '1,2-グリコール合成を工業的に合成する場合は、アルケンを空気酸化してオキシラン（エポキシド）とし、酸性条件下においてH2O で開環させてジオールとする。'\n",
      " '実験室的にはアルケンを四酸化オスミウムで酸化するか、アルケンを低温下で過マンガン酸カリウムと反応させてジオールを得る。'\n",
      " '製法は氷冷したフッ化水素酸にアンモニアを通じて析出させるか、塩化アンモニウムとフッ化ナトリウムの混合物または硫酸アンモニウムとフッ化カルシウムの混合物を加熱し，昇華させて得る。'\n",
      " '製法は直接アンモニアとフッ化水素の反応生成物を加熱固化するか、同酸、塩基水溶液を混合し蒸発濃縮すると得られる。'\n",
      " 'クロロホルムはフッ化水素と反応してクロロジフルオロメタンとなり、クロロジフルオロメタンが熱分解してTFEが生成する。'\n",
      " '亜塩素酸ナトリウムは塩素酸ナトリウムから間接的に合成される。'\n",
      " '始めに爆発性で不安定な二酸化塩素ガスを強酸性溶液中で適当な還元剤（例えば塩化ナトリウム、二酸化硫黄もしくは塩酸）を用いて塩素酸ナトリウムから合成する。'\n",
      " '二酸化塩素はそのとき塩基性溶液を吸収し、過酸化水素を還元して亜塩素酸ナトリウムが生じる。'\n",
      " 'テトラヒドロピランの古典的な有機合成法には、ラネー合金によるジヒドロピランへの水素化がある。'\n",
      " '1-プロパノール、プロピオンアルデヒドの酸化によって得られる。'\n",
      " '語源は「最初の脂肪酸」という意味で、油脂の加水分解により得られる脂肪酸のうち、最も炭素数の少ないものであったことによる。'\n",
      " '炭素数が奇数の脂肪酸はβ酸化により反応が進み、2個ずつの炭素がアセチルCoAとして生成し、最後に炭素数3個のプロピオニルCoAを生じる。'\n",
      " '雷酸塩は銀や水銀のような金属を硝酸に溶かし、エタノールと反応させることで合成される。'\n",
      " 'アルキルリチウムの合成は主にハロゲン化アルキルと金属リチウムとの反応により行われる。' 'アルミニウムと臭化水素または臭素との反応で得られる。'\n",
      " 'ジメチルグリオキシムの合成ではまずメチルエチルケトンと亜硝酸エステルからモノオキシムを作り、さらにヒドロキシルアミン硫酸ナトリウムを反応させて目的物を得る。'\n",
      " 'すなわち、さらし粉は消石灰（水酸化カルシウム、Ca(OH)2）に塩素を吸収させて製造する。'\n",
      " '工業的にはソハイオ法によるアクリロニトリル製造の際の副産物として得られるほか、メタン、アンモニア、空気の混合ガスを高温下白金触媒に通すことによって作られる（アンドルソフ法）。'\n",
      " 'そして熱分解や溶液からの沈殿により容易に製造することができる。'\n",
      " 'ヘマタイトを炭素で還元したり、塩化鉄(III) 溶液や硫化鉄(III) を熱分解して得ることができる。'\n",
      " 'γ-オキシ水酸化鉄の熱脱水素化や、酸化鉄(II,III) を慎重に酸化することにより得ることができる。'\n",
      " '高純度粒子を得るにはシュウ酸鉄(III) の熱分解で製造する。'\n",
      " 'クロロエタンは、エチレンと塩化水素を、塩化アルミニウムの触媒下に 130–250 ℃ の温度範囲で反応させて作られていた。'\n",
      " 'ポリ塩化ビニル製造の副生物として、クロロエタンが産する。'\n",
      " 'Al(C2H5)3 + 6 C2H4 → Al(C6H13)3 Al(C6H13)3 + 3 O + 3 H2O → 3 HOC6H13 + Al(OH)3 代替法では、1-ペンテンをヒドロホルミル化して得られるヘキサナールを水素化して 1-ヘキサノールとする。'\n",
      " '塩化ベンゾイルは、安息香酸を塩化チオニル、五塩化リン、ホスゲンなどで塩素化すると得られる。'\n",
      " 'ベンズアルデヒドと塩素の作用で得ることもできる。' '塩化カリウムの水溶液を電解して得られる。'\n",
      " 'マグネシウム塩の水溶液に炭酸塩を含まない水酸化ナトリウムなど塩基水溶液を反応させると無色のコロイド状沈殿として析出する。'\n",
      " 'アンモニア (英: ammonia) は分子式が NH 3 ルテニウム触媒（Ru-活性炭-K） 尾崎、秋鹿らによるハーバー法よりも温和な条件でアンモニアを合成できるルテニウム触媒を用いた合成法。'\n",
      " 'モリブデン錯体 2010年にはレンゲの酵素構造を参考にして、モリブデンを含む触媒により常温常圧でアンモニアを合成する手法が発表された。'\n",
      " 'コーリーらの報告の中では、酸化クロム(VI) の濃塩酸溶液に等モル量のピリジンを加える方法で PCC を得ている。'\n",
      " '塩素酸塩水溶液の電解酸化および、過塩素酸に金属酸化物を溶解することにより製造される。'\n",
      " '工業的にはエチルベンゼンを鉄触媒等で脱水素してスチレンが製造される。'\n",
      " 'かつては、エチルベンゼンを塩素化したのちに脱塩化水素でオレフィンとする方法やエチルベンゼンを酸化したアセトフェノン、還元したフェニルカルビノールを経由して脱水反応オレフィンとする方法なども存在したが、今日では経済的な理由で触媒により脱水素する方法以外は利用されない。'\n",
      " '植物・細菌・菌類の一部の種において、ケイ皮酸脱炭酸酵素によってケイ皮酸から合成される。'\n",
      " '工業的にはソハイオ法により、プロピレンとアンモニアと酸素からアクリロニトリルを製造する際の副産物として得られる。'\n",
      " '実験室的にはアセトアミドCH3CONH2を五酸化二リンP2O5で脱水したり、硫酸ジメチルとシアン化カリウムを反応させたり、ハロゲン化メチルにシアン化ナトリウムを反応させれば（下式）アセトニトリルが得られるが、通常は市販品を入手する。'\n",
      " '酸素中で水銀を 350 ℃ に加熱すると生成するが、さらに加熱すると、400 ℃ で黒変し 500 ℃ で水銀と酸素とに分解する。'\n",
      " '酸化水銀(II)を得るには硝酸水銀(II)の熱分解、水銀の陽極酸化、水銀(II)塩水溶液に塩基または炭酸塩を加えても製造できる。'\n",
      " 'すなわち、硝酸水銀(II)の熱分解や水銀の直接酸化では、赤色酸化水銀(II)が生成するのに対して Hg2+ の水溶液に OH- を加えると黄色酸化水銀(II)が沈殿する。'\n",
      " 'C H 3 C O O C H 2 C H 3 + O H − ⟶ C H 3 C O O − + C H 3 C H 2 O H ティシチェンコ反応 アセトアルデヒドを塩基触媒により酢酸エチルに転換する。'\n",
      " 'エチレンと酢酸からの直接合成 最近、昭和電工により、シリカ担持ヘテロポリ酸触媒によるエチレンと酢酸からの合成法が開発された。'\n",
      " '無水酢酸、塩化アセチル、ケテンなどとエタノールが反応しても酢酸エチルを与えるが、合成法としての価値はない（下図）。'\n",
      " 'ベンジルアミンはベンゾニトリルの水素化によって得られる。'\n",
      " '外観 黒褐色 分子式 C37H42Cl2N2O6 分子量 681.66 比重 1.089 致死量 皮下LD50：640μg/kg ツボクラリンの生合成は、2つの鏡像異性体テトラヒドロベンジルイソキノリン、特にN-メチル-コクラウリンのラジカルカップリングを含んでいる。'\n",
      " 'N-メチル-コクラウリンのR体およびS体は、ノルコクラリン合成酵素 (NCS) によるドーパミンと4-ヒドロキシフェニルアセトアルデヒドのマンニッヒ様反応によって生成する。'\n",
      " 'マルトデキストリン(Maltodextrin)は、デンプンの部分的な加水分解によって作られ、クリーム色の吸湿性の粉末となる多糖である。'\n",
      " 'フルオレセインの合成は無水フタル酸とレソルシノールを反応物とし、塩化亜鉛の存在下でフリーデル・クラフツ反応を経て行われる。'\n",
      " 'ソルビトール (sorbitol) はグルコースを還元し、アルデヒド基をヒドロキシ基に変換して得られる糖アルコールの一種。'\n",
      " 'バラ科の植物は、光合成産物のデンプンを篩管を通じて転流するときに、デンプンの加水分解で生じたグルコースをソルビトールに変換する。'\n",
      " '融点は-70℃、沸点は57.6℃で、ケイ素と塩素または塩化水素を加熱するか、ケイ化カルシウムなどを塩素化することによって製造される。'\n",
      " '湿った条件下で酸素、二酸化炭素および水分が金属銅または銅合金と反応すると、金属表面上に生成する。'\n",
      " 'ベンズイソオキサゾールまたはアントラニル酸にクロロギ酸エチルを反応させるか、アントラニル酸ナトリウムにホスゲンを反応させることによって得られる。'\n",
      " 'クロロベンゼンとクロラールを酸性条件下で加熱することによって製造される。'\n",
      " '5-ホスホメバロン酸はメバロン酸経路でメバロン酸からメバロン酸キナーゼによって合成され、さらに5-ホスホメバロン酸キナーゼによって次の5-ジホスホメバロン酸に変換される。'\n",
      " 'イセチオン酸は、三酸化硫黄とエタノールとが反応すると生成することが、1833年にハインリヒ・グスタフ・マグヌスによって報告された 。'\n",
      " 'エチレンオキシドと亜硫酸水素ナトリウムとを反応させることで、イセチオン酸を得る方法。'\n",
      " 'まず、エチレンと三酸化硫黄とを反応させて、Carbyl sulfateを合成する。'\n",
      " '続いて、Carbyl sulfateを加水分解することによってイセチオン酸を得る方法。'\n",
      " '水酸化ベリリウムを水に懸濁させて二酸化炭素を通じながら、二酸化炭素中で濃縮すると四水和物の結晶が析出する。'\n",
      " '炭酸ルビジウムとヨウ化水素酸との反応で得られる。'\n",
      " 'ある報告によれば、65% の三酸化硫黄 (SO3) を含む発煙硫酸にヒ素の粉末を懸濁させ、そこへペルオキソ二硫酸カリウム (K2S2O8) を加えると、ゆっくりと二硫酸の無色結晶が生じてくる。'\n",
      " 'ベンゼンジアゾニウムカチオンに対しアジ化物イオンを作用させると、窒素ガスを放出してアジ化ベンゼンが生成することが知られていた。'\n",
      " 'アリールペンタゾールはジアゾニウム塩とアジ化物イオンの低温下での反応で合成できる。'\n",
      " '対称エーテルは、酸触媒の存在下にアルコールの分子間脱水縮合で得られる。'\n",
      " '細胞膜に存在するリン脂質であるホスファチジルイノシトール4,5-ビスリン酸がホスホリパーゼCによって加水分解されると、 IP3とジアシルグリセロールが生成する。'\n",
      " 'GDP-フコースはGDP-マンノースからの4, 6位脱水素反応、C3位のエピマー化、O-4位の還元反応を経て合成される。'\n",
      " 'ヨウ素酸に炭酸コバルト(II)を加えた溶液から水和物が得られる。'\n",
      " '無水物は水和物を165~200℃で長時間加熱するか、硝酸コバルト(II)とヨウ素酸カリウムを密閉状態で2〜3時間120℃に加熱、または硝酸コバルト(II)とヨウ化カリウムと硝酸の混合液を80〜90℃で濃縮すると得られる。'\n",
      " '強い塩基性を持つ結晶性の固体で、グアニンの分解によって得られる。'\n",
      " 'その生合成にはいくつかの潜在的ルートがあるが、もっともよく特徴付けられているのは、オートタキシンと呼ばれるリゾホスホリパーゼDによるものであり、リゾホスファチジルコリンからコリンを除去する。'\n",
      " '非対称アシロインの合成法にはアルデヒドをシアノヒドリン等のアシルアニオン等価体に誘導して（極性反転）アルデヒドに求核付加させる方法、 ケトンをエノラートやその等価体に変換した後、酸化してα位にヒドロキシ基を導入する方法などがある。'\n",
      " 'ハロゲン化アルキルをアルカリの存在下に硫化水素と反応させると生成する。'\n",
      " 'H 2 S + NaOH ⟶ NaSH + H 2 O ほかに、ジスルフィドを水素化ホウ素ナトリウムやホスフィン類を用いて還元させたり、グリニャール試薬を硫黄分子で処理する方法も用いられる。'\n",
      " 'セレンとフッ素、または三フッ化臭素 BrF3 と二酸化セレン SeO2 によって合成することができる。'\n",
      " '2-アミノフェノールからスクラウプのキノリン合成によって得られる。'\n",
      " '実験室では、通常ナトリウムやカリウムのマンガン酸塩は、濃厚な水酸化物溶液 (5-10 M) と過マンガン酸塩を混合したものを24時間攪拌するか、加熱することによって合成されている。'\n",
      " 'アダムス触媒は塩化白金酸(H2PtCl6)または塩化白金酸アンモニウム((NH4)2PtCl6)を硝酸ナトリウムに溶融させて製造される。'\n",
      " '金属セシウムを少量の空気と反応させ、過剰の未反応の金属セシウムを蒸留により除いて合成する。'\n",
      " 'シリルエノールエーテルは、求核共役付加反応で作られたエノラートを取り込むことで形成することができる。'\n",
      " '1950年にアントラニル酸に亜硝酸・二酸化硫黄・塩素・アンモニアを順次作用させる改良合成法が報告された。'\n",
      " 'カリウムとリン酸との反応で得られる。' '塩化ヒ素(III)とヨウ化物塩との反応で得られる。'\n",
      " '炭酸アンモニウムと水酸化ルビジウムとを反応させることによって合成される。' 'ピナコールからピナコール転位により合成される。'\n",
      " '塩化金(III)をフッ素ガスまたは三フッ化臭素でフッ素化することによって得られる。'\n",
      " '−50℃で液体アンモニア中に溶解した金属カリウムに溶液が濃青色から無色になるまで酸素を吹き込み反応させると、オレンジ色沈殿として得られる。'\n",
      " 'グラブス触媒を用いたオレフィンメタセシスによる閉環反応を鍵反応とし、13個の連結したエーテル環構造を効率的に合成する手法を確立し、以後の天然物合成における可能性を広げた。'\n",
      " '工業的には1-ペンテンをヒドロホルミル化してヘキサナールを得、さらに水素化して可塑剤原料の1-ヘキサノールを製造することがある。'\n",
      " 'サリチルアルコール (Salicyl alcohol) またはサリゲニン (Saligenine) は、フェノール配糖体のサリシンのアグリコンで、1860年にサリシンの加水分解によって得られた有機化合物である。'\n",
      " 'フェノールとジクロロメタンに水酸化ナトリウムの水溶液を作用させるとサリチルアルコールが得られる。'\n",
      " '硫酸亜鉛などの水溶液に2倍モル量の水酸化ナトリウム水溶液を加えると無定形コロイド状の白色沈殿が得られる。'\n",
      " 'その留分を金属ナトリウムと加熱して sodio-indene として沈殿させる。'\n",
      " 'ベンジル酸は、ベンジルとアルコールと水酸化カリウムの混合物を熱することで作られる。'\n",
      " 'ルビジウムを主とする天然鉱物はほとんど見出されず、リチア雲母などの鉱物に少量含まれ、リチウム塩あるいはセシウム塩製造の際、不純物から副産物として得られる。'\n",
      " '金(I)イオンを含む物質の水溶液に過剰の塩基を反応させると沈殿する。'\n",
      " 'NF3 を初めて合成したのはオットー・ラフ（英語版）であり、ラフは1903年に始めた最初の取り組みから25年後の1928年に、フッ化アンモニウムとフッ化水素の溶融混合物を電気分解するという方法を使って NF3 を得ることができた。'\n",
      " '臭素とフッ素を、10℃で反応させることにより得られる。'\n",
      " '酸化テクネチウム(VII)は450〜500 °Cでテクネチウムを酸化することによって得られる。'\n",
      " 'イソプレンは植物の葉緑体内で2-C-メチル-D-エリトリトール-4-リン酸経路（MEP経路、非メバロン酸経路）によって作られる。'\n",
      " '水酸化カリウムや炭酸カリウムなどカリウムを含む塩基と酢酸を反応させ、 2 CH 3 COOH + K 2 CO 3 ⟶ 2 CH 3 COOK + CO 2 + H 2 O という中和反応によって生成される。'\n",
      " 'アンモニア態窒素の生成は、生物の死骸や糞尿などを由来とした有機窒素（タンパク質、アミノ酸）あるいは尿酸、尿素が分解したときにアンモニアとなることによる（これをアンモニア化成という）。'\n",
      " '酸化コバルト(III)(Cobalt(III) oxide, Co2O3)は、次亜塩素酸ナトリウム水溶液に硝酸コバルト(II)を加えることによって生成する潮解性の黒色固体である。'\n",
      " 'メチレンテトラヒドロ葉酸レダクターゼ(EC 1.5.1.20)によって5,10-メチレンテトラヒドロ葉酸から合成され、5-メチルテトラヒドロ葉酸-ホモシステインメチルトランスフェラーゼ(EC 2.1.1.13)（またはメチオニンシンターゼと呼ぶ）によるホモシステインからのメチオニンの再生に使われる。'\n",
      " 'イソブタノールの酸化によって得られるが、酪酸と異なり発酵では生成しない。'\n",
      " '工業的にはn-ブタノール製造時の副生成物として得られ、生産量はn-ブタノールの1/10以下。'\n",
      " '多くの場合下式のように、塩化スルホニルとアミンを塩基の存在下に反応させて合成する。'\n",
      " '炭酸リチウムあるいは水酸化リチウムと臭化水素酸を反応させると水溶液が得られる。'\n",
      " '1835年にフランスの化学者ジャン＝バティスト・デュマとウジェーヌ＝メルシオール・ペリゴー（フランス語版）がメタノール、硫酸、塩化ナトリウムを加熱することにより得られることを発見した。'\n",
      " 'グリニャール試薬のtert-ブチルマグネシウムブロミドと臭化エチルとの反応、またはマンガン(II)イオンの存在下で臭化エチルマグネシウムとtert-ブチルブロミドとの反応で得られる。'\n",
      " 'フタラジンは、w-テトラブロモオルトキシレンとヒドラジンの縮合反応またはリンとヨウ化水素を用いたクロルフタラジンの還元によって生成される。'\n",
      " 'フタルアルデヒドをシクロヘキサン-1,4-ジオンを脱水縮合させてペンタセンキノンとし、これをアルミニウムアマルガムで還元することにより、ペンタセンを得る。'\n",
      " 'その後、ペンタセンの薄層を調製する必要が生じると、前駆体から小分子を脱離させる手法を用いて合成されるようになった。'\n",
      " '下に150°Cに加熱して一酸化炭素を脱離させ、ペンタセンを得る反応を示す。'\n",
      " 'このような大規模合成では、インドール（および置換誘導体）は触媒存在下、アニリンとエチレングリコールの気相反応によって形成される。'\n",
      " 'レイングルーバー・バッチョ インドール合成（英語版）はインドールおよび置換インドールを合成する効率的な方法である。'\n",
      " 'フェニルヒドラジンとアセトアルデヒドを反応させて酸で処理するインドール自身の合成は、フィッシャーのインドール合成では問題があるが、この方法は2および3位に置換基を有するインドール誘導体の合成に頻繁に用いられている。'\n",
      " 'フィッシャーのインドール合成を用いても、フェニルヒドラジンとピルビン酸を反応させ、その後生成したインドール-2-酢酸の脱炭酸を行うことでインドール自身を合成することができる。'\n",
      " 'バルトリのインドール合成（英語版） ビシュラー・メーラウのインドール合成（英語版） 福山インドール合成 ガスマンのインドール合成（英語版） ヘメツバーガーのインドール合成（英語版） ラロックのインドール合成（英語版） マーデルング合成（英語版） ネニチェスクのインドール合成 ライセルトのインドール合成 （英語版） バイヤー・エマーリングのインドール合成（英語版） ディールス・レーゼ反応（英語版）では、アセチレンジカルボン酸ジメチルがジフェニルヒドラジンと反応し付加体を形成する。'\n",
      " 'この反応では、溶媒及び還元剤としてのギ酸中で、グリシンを含水ホルムアルデヒドで処理される。' 'その後塩酸を加えて塩酸塩を得る。'\n",
      " '遊離アミノ酸は、酸化銀(I)等の酸塩で中和することにより得られる。' 'DPPAは、クロロりん酸とアジ化ナトリウムとの反応によって得られる。'\n",
      " 'ヒドラジンをクロロギ酸エチルでアルキル化し、続いて塩素と反応させることで得られる。'\n",
      " '塩化ナトリウム溶液の電気分解で得られた水酸化ナトリウム溶液に二酸化炭素を反応させて製造する。'\n",
      " '工業的には、MoO3はモリブデンの主要な鉱物である二硫化モリブデン（輝水鉛鉱）の焙焼によって生産される。'\n",
      " 'テトラヒドロフランを開環重合して合成され、弾性繊維のスパンデックスや、熱可塑性エラストマーなど、ポリウレタンの原料となる。'\n",
      " '臭素を用いる手法、あるいはそこへさらに三臭化リンを加えるヘル・ボルハルト・ゼリンスキー反応が用いられる。'\n",
      " 'パラホルムアルデヒドと塩化アンモニウムから、トリメチルアミン塩酸塩を経てトリメチルアミンを得る合成法が報告されている。'\n",
      " 'カルシウム塩の水溶液に、希硫酸または硫酸塩水溶液を加えると、徐々に結晶性沈殿が析出する。'\n",
      " '実験室的には水酸化カリウム水溶液などに塩素を通じたりして調整した次亜塩素酸塩水溶液を硫酸で中和し、水蒸気蒸留して遊離酸の水溶液を得る。'\n",
      " 'また、酸化水銀(II) の四塩化炭素懸濁液に塩素を通じた後に水で抽出したり、あるいは酸化ビスマス（Bismuth Oxide）を水懸濁液中に塩素を通じることで遊離酸の水溶液を得る方法も知られている。'\n",
      " 'ブテンに水を付加して得られる2-ブタノールを原料に、銅亜鉛触媒を用いて脱水素することで生産される。'\n",
      " '化学的には、インドールとグリコール酸から250℃の環境で合成することができる。' 'o-ベンゾキノンの還元によって生成する。'\n",
      " '以下にフルオランテン誘導体からの求核置換-脱離反応による合成例を示す。'\n",
      " 'DXPシンターゼによってピルビン酸とグリセルアルデヒド-3-リン酸から合成される。'\n",
      " '2-メチルフランは産業的には化学合成の中間原料となり、通常はフルフリルアルコールの接触水素化分解、または気相中のフルフラールから水素化 - 水素化分解を経て製造される。'\n",
      " 'VBr3 は、塩化バナジウム(IV) (VCl4) を臭化水素 (HBr) と反応させて得る。'\n",
      " '植物の精油から得られるが、主に化学合成によって製造される。'\n",
      " 'プソイドイオノンに希酸を加えて暖めると環化がおこり、α-イオノンとβ-イオノンの混合物が得られる。'\n",
      " 'リン酸を用いると主としてα-イオノンが、硫酸の場合には主にβ-イオノンが得られる。'\n",
      " 'アセトアルデヒドとホルムアルデヒドを塩基性環境下で縮合して合成することができる。'\n",
      " '選鉱したセレスタイトから製造した可溶性ストロンチウム塩の水溶液に、炭酸塩を加えるか、水酸化ストロンチウムの水溶液に二酸化炭素を吹き込むと炭酸ストロンチウムが沈殿する。'\n",
      " 'N-フェニルアントラニル酸を酸で処理して分子内環化させるとアクリドンが得られる。'\n",
      " '現在では 3% 次亜塩素酸ナトリウム溶液とフッ素ガスを反応させることによって作られる。'\n",
      " 'コバルトセンはTHF中でシクロペンタジエニドナトリウムと無水塩化コバルト(II)とを反応させて合成された。'\n",
      " '鉄酸バリウム（無水和物）は鉄酸カリウムと塩化バリウムを含む溶液から溶解しないBaFeO4の沈殿によって得られる。'\n",
      " '酸化ニッケル(II)または水酸化ニッケル(II)を希硝酸に溶解し、溶液を濃縮すると六水和物が析出する。'\n",
      " 'C 6 H 5 C H 3 + 3 H 2 ⇋ C 6 H 11 C H 3 トルエンの水素化により生じ、触媒による脱水素化で水素を取り出せることから、有機ハイドライドの一種として水素の安定的な貯蔵・輸送手段としての研究もすすめられている。'\n",
      " '過酸化水素とアセトンとが酸触媒の存在下で反応すると、ケタールあるいはヘミケタールである過酸化アセトンは容易に生成する。'\n",
      " '二硫化炭素とアンモニア水から、中間体であるアンモニウムジチオカルバメートを経て、チオシアン酸アンモニウムと硫化水素が得られる。'\n",
      " '固体のGeCl2は、四塩化ゲルマニウムGeCl4を650℃でゲルマニウム金属に通すことによって生成される。'\n",
      " 'Davalian らは、1,3-ブタジエンとマレイン酸ジエチルのディールス・アルダー反応から出発して、6段階でロケッテンを得た。'\n",
      " '1,5-ヘキサジインと 3-（トリメチルシリロキシ）-1-（トリブチルスタンニル）プロピンをコバルト錯体により環化させ、n-ブチルリチウムによる脱離反応でロケッテンが得られる。'\n",
      " 'エチレンテトラカルボン酸の熱分解による生成は、1981年にジョン・パターソンらによって報告された。'\n",
      " '2009年には、Taherpourによって、固体のメルドラム酸のマイクロ波熱分解によって得られた。'\n",
      " '臭化水銀(I)は、水銀元素を臭素元素とともに酸化するか、硝酸水銀(I)の水溶液に臭化ナトリウムを加えることによって生成される。'\n",
      " '四塩化ケイ素の3つの塩素原子をメチルリチウム等の求核性のメチル源で求核置換反応することで得られる。'\n",
      " '炭酸カルシウムを825°C以上に加熱すると二酸化炭素を放出して生ずる。'\n",
      " '有機合成化学ではシスタミンの酸化、システアミンの酸化のほか、ブロモエタンスルホン酸とアンモニアなどから誘導される。'\n",
      " '合成経路においてはまず、タンパク質の構成成分にもなる含硫アミノ酸であるシステインからシステインジオキシゲナーゼによりシステインスルフィン酸が合成される。'\n",
      " '具体的には、冷やした水酸化ナトリウム水溶液中で、グアヤコールとグリオキシル酸の縮合を引き起こすことで製造する。'\n",
      " 'このとき生じたヒドロキシ基を、ジラクトン化16したのち、塩化トシルを用いて求核置換反応により塩素に置換して17を得る。'\n",
      " '新たに形成されたケト基は、光化学的ノリッシュ反応によるさらなるC-C結合生成反応を受け19となり、生じたヒドロキシ基はTsOHによって脱離しアルケン20を得る。'\n",
      " '二重結合をヒドラジンと水素化ジイソブチルアルミニウムにより還元し21、クロロクロム酸ピリジニウムで酸化してアルデヒド22を得る。'\n",
      " 'まず、バーチ還元によりジオール24を得たのち、クロロクロム酸ピリジニウムを用いた酸化によりケトアルデヒド25を得る。'\n",
      " 'さらに逆クライゼン縮合によりケトン26を得る。'\n",
      " '3回目のノリッシュ反応によりアルコール27が得られ、2回目の脱水反応により28、さらに還元して29を得る。'\n",
      " 'セラミックスや触媒、高純度酸化マンガンの製造に用いられる 炭酸マンガン(II)を硝酸に溶解することにより得られる。'\n",
      " 'MnCO 3 + 2 HNO 3 ⟶ Mn ( NO 3 ) 2 + H 2 O + CO 2 また、二酸化マンガンと二酸化窒素の反応により製造することもできる。'\n",
      " '塩化ウラン(IV)は一般的には酸化ウラン(VI)とヘキサクロロプロペンを反応させて生成する。'\n",
      " '塩化ウラン(IV)は商業的には純粋な酸化ウラン(IV)と四塩化炭素を370 ℃で反応させることで生産されており、電磁的同位体分離（electromagnetic isotope separation、EMIS)によるウラン濃縮に利用されている。'\n",
      " '塩化ジスプロシウムは他の希土類塩化物と同様、塩化剤に塩化アンモニウムを用いた方法によって合成される。'\n",
      " '工業的な製造方法では、ホルムアルデヒドとシアン化水素とアンモニアからアミノアセトニトリル（グリシノニトリル）を合成し、これを水酸化ナトリウム等で加水分解してグリシンの金属塩を製造した後、硫酸等の酸で中和するストレッカー法、ホルムアルデヒドとシアン化水素からグリコロニトリルを合成し、これとアンモニアと二酸化炭素とを水の存在下にて反応させることによりヒダントインを製造した後、加水分解により製造するヒダントイン法が知られている。'\n",
      " 'Combes 合成 アニリンと 1,3-ジケトンから生じるイミンを酸で環化させる。'\n",
      " 'Skraup 合成 ニトロベンゼンと硫酸のもとに、グリセロールとアニリンに硫酸鉄(II)を作用させる。'\n",
      " 'Povarov 合成 アニリン、ベンズアルデヒドと活性アルケンを用いる。'\n",
      " 'Knorr 合成 β-ケトアニリドから酸のもとで (1H)-キノリン-2-オンを得る。'\n",
      " 'Gould-Jacobs 反応 アニリンとエトキシメチレンマロン酸エステルとの縮合環化。'\n",
      " '空気を遮断し、酸素を含まない塩化マンガン(II) の希薄水溶液に、炭酸塩や酸素を含まない過剰の水酸化カリウム水溶液を加え、水素を通じながら加熱したあと、冷却すると結晶が析出する。'\n",
      " 'ベリリウム塩水溶液にアンモニア水を加えてできる沈殿を、アンモニア水の存在下で長時間加熱するとα型の結晶が生成する。'\n",
      " 'グリコーゲンは肝臓と骨格筋で主に合成され、余剰のグルコースを一時的に貯蔵しておく意義がある。'\n",
      " 'フッ化テトラメチルアンモニウムと四フッ化キセノンの反応によって合成される。'\n",
      " 'ベンゾピナコールは、ベンゾフェノンと2-プロパノールから製造することができる。'\n",
      " 'この化合物はギュウシンリの幹を乾燥焙煎し、メタノールで抽出することにより得られる。'\n",
      " 'グルシン酸（glucic acid）は、甘蔗糖を酸処理またはグルコースをアルカリ処理して合成される酸である。'\n",
      " '水酸化ルビジウムは酸化ルビジウムを水に溶かすことによって合成される。'\n",
      " '1998年に物質工学工業技術研究所の研究グループにより、窒素を含む炭素粉末を熱プラズマで処理したところ立方晶窒化炭素の微粒子が得られたとの報告がなされた。'\n",
      " 'グリオキサール (HCO-CHO) とアンモニアから合成された為、グリオキサリンとも呼ばれる。'\n",
      " 'グリオキサールにアンモニアとホルムアルデヒドを反応させて初めて合成された（Debus、1858年）。'\n",
      " 'デキストリン (dextrin) は、デンプンまたはグリコーゲンの加水分解で得られる低分子量の炭水化物の総称である。'\n",
      " '塩化アリルとチオシアン酸カリウムの反応により合成される。'\n",
      " 'スルファニル酸を炭酸ナトリウムで中和させながら塩酸と亜硝酸ナトリウムでジアゾ化し、塩化ベンゼンスルホン酸ジアゾニウムを得る。'\n",
      " '最も広く用いられている工業的な生産方法には1,4-ブタンジオールの酸触媒脱水が含まれ、それはエタノールからのジエチルエーテルの製造と同種の方法である。'\n",
      " '他に、デュポンが開発した製造法として、n-ブタンを酸化させることで粗無水マレイン酸を生成させ、次いでそれを水素化させることでTHFを得る方法も用いられる。'\n",
      " '塩基性水溶液に抽出したのち、酸化剤を加え、pHを調節してセリウムを分離する。'\n",
      " '酸化セリウム(IV)はシュウ酸セリウムまたは水酸化セリウムの焙焼で得られる。' '1-アミノナフタレンと濃硫酸の反応で合成する。'\n",
      " 'β-テルピネンは分離可能な天然物質はなく、サビネンから合成される。'\n",
      " 'γ-テルピネンとδ-テルピネンは、コリアンダー (Coriandrum sativum)、レモン (Citrus limon)、 クミン (Cuminum cyminum）ティーツリー (Melaleuca alternifolia）などの多くの植物の精油から抽出され、δ-テルピネンは、テルピノレンとしても知られている。'\n",
      " '1,4-ジオキシンは、フランと無水マレイン酸からディールス・アルダー反応と呼ばれる環化付加反応によって生成する。'\n",
      " 'よって、1-メトキシ-2-プロパノールを合成するためには、酸化プロピレンにメタノールを反応させれば良い 。'\n",
      " '金属テルル上に 150 ℃でフッ素ガスを流すのが最も一般的な合成法である。'\n",
      " '三酸化テルル (TeO3) とフッ素ガスの反応や、二酸化テルル (TeO2) と四フッ化セレン (SeF4) の反応で得られる TeF4 を 200 ℃ 以上に加熱して TeF6 と単体テルルに不均化させることによっても合成できる。'\n",
      " '塩化チタン(II) の合成法として代表的なものは、熱による塩化チタン(III) の不均化反応である。'\n",
      " '90℃の五フッ化ヨウ素（液体）にフッ素を通し、蒸気を270℃まで熱することにより合成する。'\n",
      " 'イリジウムの酸化数が最高値の+6である数少ない化合物のうちの1つで、イリジウムとフッ素を直接反応させることによって得られるが、熱的に非常に不安定で、分解を避けるために反応混合物を冷却しながら反応させなければならない。'\n",
      " 'ベンゼンと四塩化炭素からフリーデル・クラフツ反応によりクロロトリフェニルメタンを得て、これを塩化水素/エーテルで還元してトリフェニルメタンとする。'\n",
      " 'モノエタノールアミンは酸化エチレンとアンモニアを反応させて製造される。'\n",
      " '18-クラウン-6はまた、不溶性の複合体を形成するアセトニトリルとの沈殿によって精製できる。'\n",
      " 'アセトニトリルは減圧下で除去され、目的の化合物が得られる。'\n",
      " '工業的な製法では、アンモニアを酸化して得た一酸化窒素を冷却して過酸化窒素を発生させ、炭酸ナトリウムないし水酸化ナトリウムに吸収させて合成する。'\n",
      " '[3]デンドラレン誘導体の合成経路はいくつか報告されており、アレンを用いたもの、ホーナー・ワズワース・エモンズ反応を用いたもの、クロスカップリング反応を用いたもの、炭酸アリルエステルを用いたもの等がある。'\n",
      " 'クロロプレンをマグネシウムと反応させグリニャール試薬とし、これを塩化銅(I)と反応させて有機銅中間体とする。'\n",
      " '工業的には塩化カリウムを電気分解して水酸化カリウムを得、これに二酸化炭素を吸収させている。'\n",
      " '一酸化炭素と塩素から多孔質の炭素を触媒として合成される。' '亜セレン酸と水酸化ナトリウムから合成される。'\n",
      " '炭酸ジエチルまたはクロロギ酸エチルとアンモニアの反応によって得られる。'\n",
      " 'スワインソニンは商業的にはメタリジウム(Metarhizium anisopliaeなどいくつかの植物および菌から抽出される他、全合成も多数報告されている。'\n",
      " '水素化ホウ素ナトリウムと塩化アンモニウムを反応させて合成できる。'\n",
      " '無色ないし淡い灰色の結晶で、三酸化アンチモンとフッ化水素との直接反応により生成される。'\n",
      " 'リボース-5-リン酸イソメラーゼによってリブロース-5-リン酸から作られ、 トランスケトラーゼによってセドヘプツロース-7-リン酸とグリセルアルデヒド-3-リン酸、フルクトース-6-リン酸に変換される。'\n",
      " 'マロン酸のジエチルエステルと尿素をナトリウムエトキシドの存在下に縮合させるか、ヨードエタンをマロニル尿素の銀塩に付加させて合成される。'\n",
      " '5-ニトロフタルヒドラジドの水酸化ナトリウム水溶液に、亜二チオン酸ナトリウム (Na2S2O4) を加えて加熱し、酢酸で中和後、ニトロ基がアミノ基へと還元されたルミノールの沈殿を得る。'\n",
      " 'ラムソン (Allium ursinum) の精油から得たジビニルスルフィドと酸化銀(I)を反応させることで得られた。'\n",
      " '1899年、KnorrとMatthesはモルホリンのメチル化に続くホフマン脱離による合成を試みたが、ごく少量しか合成できなかった。'\n",
      " \"これは2,2'-ジクロロジエチルエーテルと水酸化ナトリウムを加熱する方法で、39\\xa0°Cで沸騰する液体が得られた。\"\n",
      " '二フッ化酸素は他のハロゲン化酸素と同様に水とフッ素との反応で生成するが、それ以外のフッ化酸素は低温下で二酸素 O2 と二フッ素 F2 の混合物に放電もしくは紫外線を照射することで生成する。'\n",
      " '五硫化二リンは液体の白リンを300°Cで硫黄と反応させることで得られる。'\n",
      " 'また、硫黄もしくは黄鉄鉱（硫化鉄(II) FeS からなる鉱物）とリン化鉄（Fe2P、燐灰石から白リンを作るときの副生成物）との反応でも得られる。'\n",
      " '塩化イットリウム(III)は塩酸と酸化イットリウム(III)の反応で得られる。' 'フッ化水素と三酸化二ヒ素の反応により生成される。'\n",
      " '没食子酸 1-β-グルコシルトランスフェラーゼ（UDP-グルコース: 没食子酸グルコシルトランスフェラーゼ；EC 2.4.1.136）により、UDP-グルコースと没食子酸から生合成される。'\n",
      " '工業的には、アルミナまたはシリカを酸触媒とした脱水反応で、アンモニアとメタノールとから製造される。'\n",
      " 'ピペロニルブトキシドは中程度に安定であり、サフロールを原料とした半合成によって供給される。'\n",
      " 'ジシアンジアミドと水酸化アンモニウムを160−170℃に加熱するか、濃硫酸とメラムを190℃で短時間加熱することで合成できる。'\n",
      " 'リボース-5-リン酸からリボースリン酸ジホスホキナーゼによって作られる。'\n",
      " 'そこではまず 1,3-ジエンとジクロロホスフィンからジヒドロホスホール環を作り、その後脱水素化によりホスホール環を得る。'\n",
      " 'ArX + CF3I → Ar-CF3 + CuXI (X = I, Br, Cl) 巨大なスケールでは、ベンゾトリクロリドにフッ化水素を加圧下で処理することにより得られる。'\n",
      " '板谷らは、マグネタイト（Fe3O4）の一酸化炭素（CO）-二酸化炭素（CO2）-窒素（N2）混合ガス系での還元法でyの値を得ているが、杉浦＆中野義夫らは、同様の実験を水素（H2）-水蒸気（H2O）混合ガス系で行い、y＝0.05という値を得ている。'\n",
      " '2H-アジリンは、アジ化ビニルの熱分解によって得られる。'\n",
      " 'カルボニル化合物をルイス酸触媒のもと 1,2-エタンジチオールと縮合させると 1,3-ジチオランとすることができ、酸や塩基、還元剤や求核剤に対して耐性を持たせられる。'\n",
      " '粉末ロジウムを塩素ガス中で400℃で加熱反応させる。'\n",
      " 'イノシン酸は、リボース5-リン酸から出発してプリンヌクレオチド（アデノシン一リン酸 (AMP)、グアノシン一リン酸 (GMP)）へ至るプリンヌクレオチド生合成において、分岐点にあたる中間体である。'\n",
      " 'また、アデノシン一リン酸を分解して尿酸とする経路の中では、アデノシン一リン酸に脱アミノ酵素（デアミナーゼ）が作用してイノシン酸が生じる。'\n",
      " 'S-アデノシルメチオニンと6-ヒドロキシメレインから6-ヒドロキシメレイン-O-メチルトランスフェラーゼにより、S-アデノシルホモシステインの二次生成物として生合成される。'\n",
      " '七酸化二マンガンは冷濃硫酸に固体の過マンガン酸塩（代表的な物としては過マンガン酸カリウム）を少量ずつ注意深く加えることで濃緑色油状液体として生成する。'\n",
      " '常磁性の固体で、バナジウム粉末とヨウ素を 500 ℃ 程度に加熱することにより得られる。'\n",
      " '金属バナジウムとヨウ素によりヨウ化バナジウム(III)が生じる反応は可逆反応のため、化学輸送法で純度の高い金属バナジウムを得ることができる。'\n",
      " '酢酸セシウムは、水酸化セシウムまたは酸化セシウムと酢酸との反応により製造することができる。'\n",
      " 'アンブロキシドはクラリセージの精油の成分であるスクラレオールから合成される。' '得られた化合物の脱水によりアンブロキシドが形成される。'\n",
      " 'トリフェニル酢酸は、トリクロロ酢酸とベンゼンとを、塩化アルミニウムを加えて加熱することで得られる 。'\n",
      " '炭酸ストロンチウムをヨウ化水素酸に溶かし、濃縮したのち冷却するとヨウ化ストロンチウムの六水和物が得られる。'\n",
      " '無水物は、ヨウ化ストロンチウム水和物とヨウ化アンモニウムの混合物を真空中で加熱するか、炭酸ストロンチウムとヨウ化アンモニウムの混合物の加熱により得られる。'\n",
      " 'シアノ酢酸に発煙硝酸と発煙硫酸を順次作用させて合成した例が報告されている。' 'ヨウ化水銀(I)は、水銀とヨウ素から直接合成することができる。'\n",
      " '亜リン酸トリメチルとハロメタン（ヨードメタン等）を用いたミカエリス・アルブーゾフ反応により製造が可能である。'\n",
      " '他に、1-メトキシ-4-ニトロベンゼンを、硫化ナトリウムで還元することでも合成できる。'\n",
      " '金属ニッケルは室温で一酸化炭素 CO と反応してテトラカルボニル錯体を与える。'\n",
      " '塩化ナトリウムと塩化カリウムを670 – 710 ℃で融解し、塩化ウラン(IV)と金属ウランを加える。'\n",
      " 'シクロデカン-1,6-ジオンが持つ2つのカルボニル基を還元することによってシクロデカンを得る。'\n",
      " 'かつてはアミドと五硫化二リン (P2S5) を加熱する方法が取られていたが、近年ではより穏和な条件で反応が進行するローソン試薬を用いるケースが増えている。'\n",
      " '無置換体であるキノキサリンはo-フェニレンジアミンとグリオキサールを反応させると生成する。'\n",
      " '2-ヨードキシ安息香酸（IBX）を触媒として、o-フェニレンジアミンとベンジルからキノキサリン誘導体を簡便に合成する反応が開発されている。'\n",
      " 'これをアセチル化するとアリル転位を起こして酢酸リナリルが得られるので、加水分解してリナロールとする。'\n",
      " 'これにアセチレンを付加させてデヒドロリナロールとし、再びリンドラー触媒で部分還元することでリナロールが得られる。'\n",
      " 'α-ピネンを水素化してピナンとし、これを空気酸化でヒドロペルオキシドとしたあと、還元して得られるピナノールを熱分解するとリナロールが得られる。'\n",
      " 'ヨウ素を白リンの二硫化炭素溶液に加えて合成する。' '発光性を持たない硫化ストロンチウムは硫酸ストロンチウムを還元することで得られる。'\n",
      " '発光性の硫化ストロンチウムは、水酸化ストロンチウムと硫黄とを加熱することにより製造できる。'\n",
      " '蜜蝋石を炭酸アンモニウムと共に加熱し、過剰のアンモニウム塩を蒸発させて除き、アンモニアを加えるとメリト酸アンモニウムが得られる。'\n",
      " '次に酢酸鉛(II) を加えて鉛塩とし、さらに硫化水素で分解すると、遊離のメリト酸が得られる。'\n",
      " '純粋な炭素、あるいはヘキサメチルベンゼンを過マンガン酸カリウムの冷アルカリ性溶液や熱濃硝酸で酸化することによっても合成できる。'\n",
      " 'ケリダム酸は、4-ピロン-2,6-ジカルボン酸（別名、ケリドン酸）をアンモニアと共に加熱することによって合成できる 。'\n",
      " 'Li2TiO3粉末は、炭酸リチウム、硝酸チタン水溶液、クエン酸を混合したのち焼成、圧縮、焼結することによって合成する方法が一般的である。'\n",
      " 'ジアリジンは、グラハム反応によって、対応するアミジンから、またはジアジリジンの酸化によって合成される。'\n",
      " 'また、四フッ化塩素カリウム(KClF4)や四フッ化塩素ルビジウム(RbClF4), 四フッ化塩素セシウム(CsClF4)などとフッ素との反応により五フッ化塩素とフッ化カリウム・フッ化ルビジウム・フッ化セシウムが生成する。'\n",
      " '気体アンモニア中でアロキサンチンを100℃以上に加熱するか、酸化水銀中で5-アミノバルビツール酸を加熱することによって生成する。'\n",
      " 'また、アルコール性アンモニア中で約75℃でアロキサンを昇華することによっても得られる。'\n",
      " '熱分解の反応式は、 4 Hg(SCN)2 → 4 HgS + 2 CS2 + 3 (CN)2 + N2 塩化水銀(II)などの二価の水銀化合物を、チオシアン酸カリウムなどのチオシアン酸塩溶液に混ぜるとチオシアン酸水銀(II)の沈殿を生じる。'\n",
      " 'コバルトまたはコバルトの酸化物、水酸化物、炭酸塩は硝酸に反応し硝酸コバルト(II)を生成する。'\n",
      " '無水物は六水和物に五酸化二窒素を反応させるか、液体アンモニア中で硝酸銀と微粉末状のコバルトを反応させることにより合成される。'\n",
      " 'ヒ素と臭素の直接反応により作られ、この2つの物質からなる二元化合物としては唯一知られている。'\n",
      " 'フッ化アメリシウム(IV)はフッ化アメリシウム(III)をフッ化することで得られる。'\n",
      " 'アホエンは、アリシンを食用油などの溶媒に溶かした際に生成する。'\n",
      " 'ジヒドロキシアセトンリン酸は、グリセルアルデヒド-3-リン酸とともに、解糖系でフルクトース-1,6-ビスリン酸が分解されて生成する2つの化合物のうちの1つである。'\n",
      " 'フルクトース-1,6-ビスリン酸 ⇄ グリセルアルデヒド-3-リン酸 + ジヒドロキシアセトンリン酸 ジヒドロキシアセトンリン酸 ⇄ グリセルアルデヒド-3-リン酸 カルビン回路では、ジヒドロキシアセトンリン酸は1,3-ビスホスホグリセリン酸がNADPHにより6度の還元を受けて生成する。'\n",
      " 'ジヒドロキシアセトンリン酸は、グリセリンが解糖系に入る際の出発物質となるL-3-ホスホグリセリン酸の脱水素化によっても作られる。'\n",
      " '臭素とベンゼンの芳香族求電子置換反応によって生成し、このとき臭化水素を副産物とする。'\n",
      " 'マグネシウムを空気中で燃焼させた際にも、主生成物である酸化マグネシウムに加えて、いくらかの窒化マグネシウムも形成される。'\n",
      " '塩素と一酸化炭素を4:1とした雰囲気下で、ルテニウム粉末を700 °Cにまで加熱し冷却することで得られる。'\n",
      " '強酸が弱酸に変換される特徴的反応により、塩化チオニルに臭化水素を作用させて得られる。'\n",
      " '触媒存在下でグリセリンやグリセリン酸を酸素などの酸化剤などで接触酸化して得られる。']\n"
     ]
    }
   ],
   "source": [
    "print(train_sentence_df.loc[TP_index, 'sentence'].values)"
   ]
  },
  {
   "cell_type": "markdown",
   "metadata": {},
   "source": [
    "## 原材料の抽出"
   ]
  },
  {
   "cell_type": "code",
   "execution_count": 21,
   "metadata": {},
   "outputs": [],
   "source": [
    "noun_list = pd.read_csv(\"../data/noun_list_in_category_and_title.csv\")\n",
    "compound_list = pd.read_csv(\"../data/compound_list.csv\")\n",
    "material_like_list = list(set(compound_list['compound'].tolist() + noun_list['noun'].tolist()))\n",
    "wiki_data = util.read_jasonl(\"../data/ENE_compound_name.txt\")"
   ]
  },
  {
   "cell_type": "code",
   "execution_count": 22,
   "metadata": {},
   "outputs": [],
   "source": [
    "entry_dict = dict([[str(entry['pageid']), entry['title']] for entry in wiki_data])"
   ]
  },
  {
   "cell_type": "code",
   "execution_count": 23,
   "metadata": {},
   "outputs": [],
   "source": [
    "train_material_dict = util.train2dict(train, '原材料')"
   ]
  },
  {
   "cell_type": "code",
   "execution_count": 28,
   "metadata": {},
   "outputs": [],
   "source": [
    "def get_material_list(_id: str, sentence: str):\n",
    "    material_list = util.get_compound_list(sentence)\n",
    "    material_list = list(set(material_list) - set(entry_dict[str(_id)]))\n",
    "    return material_list\n",
    "\n",
    "def get_material_df(predicted: pd.DataFrame):\n",
    "    material_df = pd.DataFrame()\n",
    "    for _, row in predicted.iterrows():\n",
    "        material_df = material_df.append(pd.DataFrame({\"_id\": row._id, \"material\": get_material_list(row._id, row.sentence)}))\n",
    "    \n",
    "    # 原材料っぽい名詞だけ抽出\n",
    "    material_df = material_df[material_df['material'].str.contains(util.contains_patt(material_like_list))]\n",
    "    \n",
    "    return material_df\n",
    "    \n",
    "def df2dict(result: pd.DataFrame, value_column: str):\n",
    "    return result.groupby('_id')[value_column].apply(lambda x: x.tolist()).to_dict()\n",
    "\n",
    "def extract_from_dict(train: dict, ids: list):\n",
    "    return dict([[_id, train[_id]] for _id in ids])"
   ]
  },
  {
   "cell_type": "code",
   "execution_count": 233,
   "metadata": {},
   "outputs": [
    {
     "name": "stdout",
     "output_type": "stream",
     "text": [
      "f1:  0.4872099554008491\n",
      "precision:  0.5462549048416492\n",
      "recall:  0.44754239545182245\n"
     ]
    }
   ],
   "source": [
    "precision = []\n",
    "recall = []\n",
    "f1 = []\n",
    "dsa = []\n",
    "for train_index, test_index in StratifiedKFold(n_splits=5).split(train_X, train_y):\n",
    "    X_train, X_test = train_X.loc[train_index], train_X.loc[test_index]\n",
    "    y_train, y_test = train_y[train_index], train_y[test_index]\n",
    "    \n",
    "    model.fit(train_X, train_y)\n",
    "    predict = model.predict(X_test)\n",
    "    \n",
    "    predict_true_df = train_sentence_df.loc[test_index][predict]\n",
    "    material = get_material_df(predict_true_df)\n",
    "    result = df2dict(material, 'material')\n",
    "    \n",
    "    test_ids = train_sentence_df.loc[test_index, '_id'].unique()\n",
    "    dsa += test_ids.tolist()\n",
    "    score = util.validation(result, extract_from_dict(train_material_dict, test_ids))\n",
    "    \n",
    "    precision.append(score['precision'])\n",
    "    recall.append(score['recall'])\n",
    "    f1.append(score['f1'])\n",
    "    \n",
    "print(\"f1: \", np.mean(f1))\n",
    "print(\"precision: \", np.mean(precision))\n",
    "print(\"recall: \", np.mean(recall))"
   ]
  },
  {
   "cell_type": "markdown",
   "metadata": {},
   "source": [
    "## 出力"
   ]
  },
  {
   "cell_type": "code",
   "execution_count": 19,
   "metadata": {},
   "outputs": [
    {
     "data": {
      "text/plain": [
       "LGBMClassifier(boosting_type='gbdt', class_weight=None, colsample_bytree=1.0,\n",
       "        is_unbalance=False, learning_rate=0.1, max_depth=-1,\n",
       "        min_child_samples=20, min_child_weight=0.001, min_split_gain=0.0,\n",
       "        n_estimators=100, n_jobs=-1, num_leaves=31, objective=None,\n",
       "        random_state=None, reg_alpha=0.0, reg_lambda=0.0, silent=True,\n",
       "        subsample=1.0, subsample_for_bin=200000, subsample_freq=0)"
      ]
     },
     "execution_count": 19,
     "metadata": {},
     "output_type": "execute_result"
    }
   ],
   "source": [
    "model = lgb.LGBMClassifier(is_unbalance=False)\n",
    "model.fit(train_X, train_y)"
   ]
  },
  {
   "cell_type": "code",
   "execution_count": 20,
   "metadata": {},
   "outputs": [],
   "source": [
    "# Entropyで得た手がかり語が文中に含まれているかどうか\n",
    "X = feature.contains_clue_word(wiki_sentence_df, entropy_clue_words + ['製造'])\n",
    "\n",
    "# サブタイトル中にEntropyで得た手がかり語が含まれているかどうか\n",
    "X[\"subtitle_cat\"] = feature.subtitle_cat(wiki_sentence_df, entropy_clue_words + ['製造'])\n",
    "\n",
    "X[\"n_NITE\"] = wiki_sentence_df.sentence.str.findall(util.contains_patt(category_in_NITE_list)).apply(lambda x: len(x))\n",
    "X[\"n_compound\"] = wiki_sentence_df.sentence.str.findall(util.contains_patt(compound_list)).apply(lambda x: len(x))\n",
    "X[\"n_element\"] = wiki_sentence_df.sentence.str.findall(util.contains_patt(element_list)).apply(lambda x: len(x))"
   ]
  },
  {
   "cell_type": "code",
   "execution_count": 29,
   "metadata": {},
   "outputs": [],
   "source": [
    "predict = model.predict(X)\n",
    "predict_true_df = wiki_sentence_df[predict]\n",
    "material = get_material_df(predict_true_df)\n",
    "result = df2dict(material, 'material')    "
   ]
  },
  {
   "cell_type": "code",
   "execution_count": 30,
   "metadata": {},
   "outputs": [],
   "source": [
    "with open(\"../output/material.json\", 'w') as f:\n",
    "    json.dump(result, f)"
   ]
  },
  {
   "cell_type": "code",
   "execution_count": 34,
   "metadata": {},
   "outputs": [],
   "source": [
    "result_production = df2dict(predict_true_df.rename(columns={\"sentence\": \"production\"}), 'production')"
   ]
  },
  {
   "cell_type": "code",
   "execution_count": 36,
   "metadata": {},
   "outputs": [],
   "source": [
    "with open(\"../output/production.json\", 'w') as f:\n",
    "    json.dump(result_production, f)"
   ]
  },
  {
   "cell_type": "code",
   "execution_count": null,
   "metadata": {},
   "outputs": [],
   "source": []
  }
 ],
 "metadata": {
  "kernelspec": {
   "display_name": "Python 3",
   "language": "python",
   "name": "python3"
  },
  "language_info": {
   "codemirror_mode": {
    "name": "ipython",
    "version": 3
   },
   "file_extension": ".py",
   "mimetype": "text/x-python",
   "name": "python",
   "nbconvert_exporter": "python",
   "pygments_lexer": "ipython3",
   "version": "3.6.1"
  }
 },
 "nbformat": 4,
 "nbformat_minor": 2
}
