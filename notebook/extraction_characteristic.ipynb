{
 "cells": [
  {
   "cell_type": "code",
   "execution_count": 1,
   "metadata": {},
   "outputs": [
    {
     "name": "stderr",
     "output_type": "stream",
     "text": [
      "/usr/local/var/pyenv/versions/3.6.1/lib/python3.6/importlib/_bootstrap.py:205: RuntimeWarning: numpy.dtype size changed, may indicate binary incompatibility. Expected 96, got 88\n",
      "  return f(*args, **kwds)\n",
      "/usr/local/var/pyenv/versions/3.6.1/lib/python3.6/importlib/_bootstrap.py:205: RuntimeWarning: numpy.dtype size changed, may indicate binary incompatibility. Expected 96, got 88\n",
      "  return f(*args, **kwds)\n"
     ]
    }
   ],
   "source": [
    "import numpy as np\n",
    "import pandas as pd\n",
    "import MeCab\n",
    "import json\n",
    "import re\n",
    "from collections import Counter\n",
    "\n",
    "import shinra_util as util"
   ]
  },
  {
   "cell_type": "code",
   "execution_count": 2,
   "metadata": {},
   "outputs": [],
   "source": [
    "%load_ext autoreload\n",
    "%autoreload 2"
   ]
  },
  {
   "cell_type": "code",
   "execution_count": 141,
   "metadata": {},
   "outputs": [],
   "source": [
    "# 名詞・複合名詞のリストを返す\n",
    "def get_noun_list(doc, join=True):\n",
    "    mecab_param = MeCab.Tagger(\"-Ochasen -d /usr/local/lib/mecab/dic/mecab-ipadic-neologd\")\n",
    "    mecab_param.parse(\"\")\n",
    "    node = mecab_param.parseToNode(doc)\n",
    "    \n",
    "    noun_list = []\n",
    "    noun = []\n",
    "    while node:\n",
    "        if len(node.surface) == 0:\n",
    "            node = node.next\n",
    "            continue\n",
    "\n",
    "        hinshi = node.feature.split(',')\n",
    "        if hinshi[0] in ['名詞', '接頭詞']:\n",
    "            if join:\n",
    "                noun.append(node.surface)\n",
    "            else:\n",
    "                noun_list.append(node.surface)\n",
    "        elif (len(noun) > 0) and join:            \n",
    "            noun_list.append(''.join(noun))\n",
    "            noun = []\n",
    "        \n",
    "        node = node.next\n",
    "    \n",
    "    if (len(noun) > 0) and join:\n",
    "        noun_list.append(''.join(noun))\n",
    "\n",
    "    return noun_list"
   ]
  },
  {
   "cell_type": "code",
   "execution_count": 4,
   "metadata": {},
   "outputs": [],
   "source": [
    "def read_jasonl(filename):\n",
    "    with open(filename) as f:\n",
    "        return [json.loads(line.rstrip('\\r\\n')) for line in f.readlines()]"
   ]
  },
  {
   "cell_type": "code",
   "execution_count": 2,
   "metadata": {},
   "outputs": [],
   "source": [
    "flatten = lambda l: [item for sublist in l for item in sublist if len(item) is not 0]"
   ]
  },
  {
   "cell_type": "code",
   "execution_count": 4,
   "metadata": {},
   "outputs": [],
   "source": [
    "wiki_data = util.read_jasonl(\"../data/jawiki-cirrussearch-dump_of_Compound.jsonl\")"
   ]
  },
  {
   "cell_type": "code",
   "execution_count": 7,
   "metadata": {},
   "outputs": [],
   "source": [
    "with open(\"../data/compound_train.json\") as f:\n",
    "    train = json.load(f)['entry']\n",
    "    \n",
    "train_char_dict = dict([[str(entry['WikipediaID']), entry['Attributes']['特性']] for entry in train])"
   ]
  },
  {
   "cell_type": "code",
   "execution_count": 210,
   "metadata": {},
   "outputs": [],
   "source": [
    "train_char_dict = util.train2dict(train, '特性')"
   ]
  },
  {
   "cell_type": "code",
   "execution_count": 140,
   "metadata": {},
   "outputs": [],
   "source": [
    "train_wiki_doc_df = \\\n",
    "pd.DataFrame({\n",
    "    \"_id\": [entry['index']['_id'] for entry in wiki_data]\n",
    "    , \"document\": [entry['opening_text'] if ('opening_text' in entry.keys() and entry['opening_text'] != None) else entry['text'] for entry in wiki_data]\n",
    "    , \"auxiliary_text\": [' '.join(text['auxiliary_text']) for text in wiki_data]\n",
    "}).pipe(\n",
    "    lambda x: x.loc[x._id.isin(train_char_dict.keys())]\n",
    ").reset_index(drop=True)"
   ]
  },
  {
   "cell_type": "code",
   "execution_count": null,
   "metadata": {},
   "outputs": [],
   "source": [
    "Counter(flatten(train_char_dict.values())).most_common()"
   ]
  },
  {
   "cell_type": "code",
   "execution_count": 3,
   "metadata": {},
   "outputs": [],
   "source": [
    "def extract_characteristic(noun_list):\n",
    "    result_char = [noun for noun in noun_list \\\n",
    "                   if (is_characteristic(noun) or is_color(noun) or is_status(noun) or is_smell(noun) or is_taste(noun))]\n",
    "    \n",
    "    return list(set(result_char))\n",
    "\n",
    "def is_characteristic(word):\n",
    "    patt = r'[^特|危険|男|女]+性$'\n",
    "    return re.match(patt, word)\n",
    "\n",
    "def is_color(word):\n",
    "    patt = r'[^着|染]+色$'\n",
    "    return re.match(patt, word)\n",
    "\n",
    "def is_status(word):\n",
    "    patt = r'(気体|液体|個体|結晶|粉末)$'\n",
    "    return re.match(patt, word)\n",
    "\n",
    "def is_smell(word):\n",
    "    patt = r'\\w+臭$'\n",
    "    return re.match(patt, word)\n",
    "\n",
    "def is_taste(word):\n",
    "    patt = r'[^意]+味$'\n",
    "    return re.match(patt, word)"
   ]
  },
  {
   "cell_type": "code",
   "execution_count": 211,
   "metadata": {},
   "outputs": [],
   "source": [
    "train_wiki_doc_df[\"extracted_char\"] = \\\n",
    "train_wiki_doc_df.apply(\n",
    "    lambda x: extract_characteristic(util.get_noun_list(x.document)) + extract_characteristic(util.get_noun_list(x.auxiliary_text, join=False))\n",
    "    , axis=1\n",
    ")"
   ]
  },
  {
   "cell_type": "code",
   "execution_count": 212,
   "metadata": {},
   "outputs": [],
   "source": [
    "predict_df = pd.DataFrame()\n",
    "for _id, group in train_wiki_doc_df.groupby('_id'):\n",
    "    if (not train_char_dict.get(_id)) or (len(group.extracted_char.values[0]) == 0):\n",
    "        continue\n",
    "    \n",
    "    tmp_df = pd.DataFrame({\"_id\": _id, \"extracted_char\": group.extracted_char.values[0]})\n",
    "    predict_df = predict_df.append(tmp_df)\n",
    "    \n",
    "extracted_dict = util.df2dict(predict_df, 'extracted_char')"
   ]
  },
  {
   "cell_type": "code",
   "execution_count": 213,
   "metadata": {},
   "outputs": [
    {
     "data": {
      "text/plain": [
       "{'precision': 0.8076923076923077,\n",
       " 'recall': 0.43005181347150256,\n",
       " 'f1': 0.5612622766060216}"
      ]
     },
     "execution_count": 213,
     "metadata": {},
     "output_type": "execute_result"
    }
   ],
   "source": [
    "util.validation(extracted_dict, train_char_dict)"
   ]
  },
  {
   "cell_type": "markdown",
   "metadata": {},
   "source": [
    "## 出力"
   ]
  },
  {
   "cell_type": "code",
   "execution_count": 5,
   "metadata": {},
   "outputs": [],
   "source": [
    "wiki_doc_df = \\\n",
    "pd.DataFrame({\n",
    "    \"_id\": [entry['index']['_id'] for entry in wiki_data]\n",
    "    , \"document\": [entry['opening_text'] if ('opening_text' in entry.keys() and entry['opening_text'] != None) else entry['text'] for entry in wiki_data]\n",
    "    , \"auxiliary_text\": [' '.join(text['auxiliary_text']) for text in wiki_data]\n",
    "}).reset_index(drop=True)"
   ]
  },
  {
   "cell_type": "code",
   "execution_count": 6,
   "metadata": {},
   "outputs": [
    {
     "ename": "NameError",
     "evalue": "name 'train_char_dict' is not defined",
     "output_type": "error",
     "traceback": [
      "\u001b[0;31m---------------------------------------------------------------------------\u001b[0m",
      "\u001b[0;31mNameError\u001b[0m                                 Traceback (most recent call last)",
      "\u001b[0;32m<ipython-input-6-beb650b552b9>\u001b[0m in \u001b[0;36m<module>\u001b[0;34m()\u001b[0m\n\u001b[1;32m      6\u001b[0m \u001b[0mpredict_df\u001b[0m \u001b[0;34m=\u001b[0m \u001b[0mpd\u001b[0m\u001b[0;34m.\u001b[0m\u001b[0mDataFrame\u001b[0m\u001b[0;34m(\u001b[0m\u001b[0;34m)\u001b[0m\u001b[0;34m\u001b[0m\u001b[0m\n\u001b[1;32m      7\u001b[0m \u001b[0;32mfor\u001b[0m \u001b[0m_id\u001b[0m\u001b[0;34m,\u001b[0m \u001b[0mgroup\u001b[0m \u001b[0;32min\u001b[0m \u001b[0mwiki_doc_df\u001b[0m\u001b[0;34m.\u001b[0m\u001b[0mgroupby\u001b[0m\u001b[0;34m(\u001b[0m\u001b[0;34m'_id'\u001b[0m\u001b[0;34m)\u001b[0m\u001b[0;34m:\u001b[0m\u001b[0;34m\u001b[0m\u001b[0m\n\u001b[0;32m----> 8\u001b[0;31m     \u001b[0;32mif\u001b[0m \u001b[0;34m(\u001b[0m\u001b[0;32mnot\u001b[0m \u001b[0mtrain_char_dict\u001b[0m\u001b[0;34m.\u001b[0m\u001b[0mget\u001b[0m\u001b[0;34m(\u001b[0m\u001b[0m_id\u001b[0m\u001b[0;34m)\u001b[0m\u001b[0;34m)\u001b[0m \u001b[0;32mor\u001b[0m \u001b[0;34m(\u001b[0m\u001b[0mlen\u001b[0m\u001b[0;34m(\u001b[0m\u001b[0mgroup\u001b[0m\u001b[0;34m.\u001b[0m\u001b[0mextracted_char\u001b[0m\u001b[0;34m.\u001b[0m\u001b[0mvalues\u001b[0m\u001b[0;34m[\u001b[0m\u001b[0;36m0\u001b[0m\u001b[0;34m]\u001b[0m\u001b[0;34m)\u001b[0m \u001b[0;34m==\u001b[0m \u001b[0;36m0\u001b[0m\u001b[0;34m)\u001b[0m\u001b[0;34m:\u001b[0m\u001b[0;34m\u001b[0m\u001b[0m\n\u001b[0m\u001b[1;32m      9\u001b[0m         \u001b[0;32mcontinue\u001b[0m\u001b[0;34m\u001b[0m\u001b[0m\n\u001b[1;32m     10\u001b[0m \u001b[0;34m\u001b[0m\u001b[0m\n",
      "\u001b[0;31mNameError\u001b[0m: name 'train_char_dict' is not defined"
     ]
    }
   ],
   "source": [
    "wiki_doc_df[\"extracted_char\"] = \\\n",
    "wiki_doc_df.apply(\n",
    "    lambda x: extract_characteristic(util.get_noun_list(x.document)) + extract_characteristic(util.get_noun_list(x.auxiliary_text, join=False))\n",
    "    , axis=1\n",
    ")"
   ]
  },
  {
   "cell_type": "code",
   "execution_count": 11,
   "metadata": {},
   "outputs": [],
   "source": [
    "predict_df = pd.DataFrame()\n",
    "for _id, group in wiki_doc_df.groupby('_id'):\n",
    "    tmp_df = pd.DataFrame({\"_id\": _id, \"extracted_char\": group.extracted_char.values[0]})\n",
    "    predict_df = predict_df.append(tmp_df)\n",
    "    \n",
    "extracted_dict = util.df2dict(predict_df, 'extracted_char')"
   ]
  },
  {
   "cell_type": "code",
   "execution_count": 14,
   "metadata": {},
   "outputs": [],
   "source": [
    "with open(\"../output/characteristic.json\", 'w') as f:\n",
    "    json.dump(extracted_dict, f)"
   ]
  },
  {
   "cell_type": "code",
   "execution_count": null,
   "metadata": {},
   "outputs": [],
   "source": []
  }
 ],
 "metadata": {
  "kernelspec": {
   "display_name": "Python 3",
   "language": "python",
   "name": "python3"
  },
  "language_info": {
   "codemirror_mode": {
    "name": "ipython",
    "version": 3
   },
   "file_extension": ".py",
   "mimetype": "text/x-python",
   "name": "python",
   "nbconvert_exporter": "python",
   "pygments_lexer": "ipython3",
   "version": "3.6.1"
  }
 },
 "nbformat": 4,
 "nbformat_minor": 2
}
