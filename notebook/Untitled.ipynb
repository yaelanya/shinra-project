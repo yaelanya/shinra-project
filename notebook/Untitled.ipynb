{
 "cells": [
  {
   "cell_type": "code",
   "execution_count": 28,
   "metadata": {},
   "outputs": [],
   "source": [
    "import pandas as pd\n",
    "import numpy as np\n",
    "import re\n",
    "import json\n",
    "import MeCab\n",
    "import pycrfsuite\n",
    "\n",
    "import shinra_util as util"
   ]
  },
  {
   "cell_type": "code",
   "execution_count": 31,
   "metadata": {},
   "outputs": [
    {
     "data": {
      "text/html": [
       "<div>\n",
       "<style scoped>\n",
       "    .dataframe tbody tr th:only-of-type {\n",
       "        vertical-align: middle;\n",
       "    }\n",
       "\n",
       "    .dataframe tbody tr th {\n",
       "        vertical-align: top;\n",
       "    }\n",
       "\n",
       "    .dataframe thead th {\n",
       "        text-align: right;\n",
       "    }\n",
       "</style>\n",
       "<table border=\"1\" class=\"dataframe\">\n",
       "  <thead>\n",
       "    <tr style=\"text-align: right;\">\n",
       "      <th></th>\n",
       "      <th>_id</th>\n",
       "      <th>sentence</th>\n",
       "      <th>heading</th>\n",
       "    </tr>\n",
       "  </thead>\n",
       "  <tbody>\n",
       "    <tr>\n",
       "      <th>0</th>\n",
       "      <td>1300364</td>\n",
       "      <td>イソチオシアネート（Isothiocyanate）とは、-N=C=Sという構造を持つ物質の総...</td>\n",
       "      <td>NO_SUBTITLE</td>\n",
       "    </tr>\n",
       "    <tr>\n",
       "      <th>1</th>\n",
       "      <td>1300364</td>\n",
       "      <td>アブラナ科の植物にしばしば含まれるアリルイソチオシアネートはカラシ油に含まれ、辛味の原因とな...</td>\n",
       "      <td>NO_SUBTITLE</td>\n",
       "    </tr>\n",
       "    <tr>\n",
       "      <th>2</th>\n",
       "      <td>1300364</td>\n",
       "      <td>エドマン分解ではアミノ酸の配列の解析に用いられる。</td>\n",
       "      <td>NO_SUBTITLE</td>\n",
       "    </tr>\n",
       "    <tr>\n",
       "      <th>3</th>\n",
       "      <td>1300364</td>\n",
       "      <td>イソチオシアネートは常に炭素原子を求電子中心とする求電子剤として働く。</td>\n",
       "      <td>NO_SUBTITLE</td>\n",
       "    </tr>\n",
       "    <tr>\n",
       "      <th>4</th>\n",
       "      <td>1300364</td>\n",
       "      <td>フェニチルイソチオシアネートやスルフォラファンなどのイソチオシアネートは発癌や腫瘍化を防ぎ、...</td>\n",
       "      <td>生理活性 ,</td>\n",
       "    </tr>\n",
       "  </tbody>\n",
       "</table>\n",
       "</div>"
      ],
      "text/plain": [
       "       _id                                           sentence      heading\n",
       "0  1300364  イソチオシアネート（Isothiocyanate）とは、-N=C=Sという構造を持つ物質の総...  NO_SUBTITLE\n",
       "1  1300364  アブラナ科の植物にしばしば含まれるアリルイソチオシアネートはカラシ油に含まれ、辛味の原因とな...  NO_SUBTITLE\n",
       "2  1300364                          エドマン分解ではアミノ酸の配列の解析に用いられる。  NO_SUBTITLE\n",
       "3  1300364                イソチオシアネートは常に炭素原子を求電子中心とする求電子剤として働く。  NO_SUBTITLE\n",
       "4  1300364  フェニチルイソチオシアネートやスルフォラファンなどのイソチオシアネートは発癌や腫瘍化を防ぎ、...       生理活性 ,"
      ]
     },
     "execution_count": 31,
     "metadata": {},
     "output_type": "execute_result"
    }
   ],
   "source": [
    "sentences_df = pd.read_csv(\"../data/wikitext_split_sentence_with_subtitle.csv\")\n",
    "sentences_df.head()"
   ]
  },
  {
   "cell_type": "code",
   "execution_count": 35,
   "metadata": {},
   "outputs": [],
   "source": [
    "with open(\"../data/compound_train.json\", 'r') as f:\n",
    "    train_raw = json.load(f)['entry']"
   ]
  },
  {
   "cell_type": "code",
   "execution_count": 36,
   "metadata": {},
   "outputs": [],
   "source": [
    "train_uses_list = util.train2dict(train_raw, '用途')"
   ]
  },
  {
   "cell_type": "code",
   "execution_count": 37,
   "metadata": {},
   "outputs": [
    {
     "data": {
      "text/html": [
       "<div>\n",
       "<style scoped>\n",
       "    .dataframe tbody tr th:only-of-type {\n",
       "        vertical-align: middle;\n",
       "    }\n",
       "\n",
       "    .dataframe tbody tr th {\n",
       "        vertical-align: top;\n",
       "    }\n",
       "\n",
       "    .dataframe thead th {\n",
       "        text-align: right;\n",
       "    }\n",
       "</style>\n",
       "<table border=\"1\" class=\"dataframe\">\n",
       "  <thead>\n",
       "    <tr style=\"text-align: right;\">\n",
       "      <th></th>\n",
       "      <th>_id</th>\n",
       "      <th>sentence</th>\n",
       "      <th>heading</th>\n",
       "    </tr>\n",
       "  </thead>\n",
       "  <tbody>\n",
       "    <tr>\n",
       "      <th>37757</th>\n",
       "      <td>1052083</td>\n",
       "      <td>三ヨウ化窒素（さんヨウかちっそ、英: nitrogen triiodide）は、化学式 NI...</td>\n",
       "      <td>NO_SUBTITLE</td>\n",
       "    </tr>\n",
       "    <tr>\n",
       "      <th>37758</th>\n",
       "      <td>1052083</td>\n",
       "      <td>衝撃に敏感で爆発を起こす。</td>\n",
       "      <td>NO_SUBTITLE</td>\n",
       "    </tr>\n",
       "    <tr>\n",
       "      <th>37759</th>\n",
       "      <td>1052083</td>\n",
       "      <td>少量に軽く触れただけでも黒色火薬のような破裂音とともに爆発し、紫色のヨウ素蒸気を発生する。</td>\n",
       "      <td>NO_SUBTITLE</td>\n",
       "    </tr>\n",
       "    <tr>\n",
       "      <th>37760</th>\n",
       "      <td>1052083</td>\n",
       "      <td>三ヨウ化窒素やその誘導体は不安定なため構造を決定するのが難しく、その構造化学は複雑である。</td>\n",
       "      <td>NO_SUBTITLE</td>\n",
       "    </tr>\n",
       "    <tr>\n",
       "      <th>37761</th>\n",
       "      <td>1052083</td>\n",
       "      <td>三ヨウ化窒素の分解は以下のような反応式で表される。</td>\n",
       "      <td>NO_SUBTITLE</td>\n",
       "    </tr>\n",
       "    <tr>\n",
       "      <th>37762</th>\n",
       "      <td>1052083</td>\n",
       "      <td>2 NI 3 ( s ) ⟶ N 2 ( g ) + 3 I 2 ( g ) の不安定性は、...</td>\n",
       "      <td>NO_SUBTITLE</td>\n",
       "    </tr>\n",
       "    <tr>\n",
       "      <th>37763</th>\n",
       "      <td>1052083</td>\n",
       "      <td>高校の化学実験の授業で少量の合成が行われることがある。</td>\n",
       "      <td>演示実験と文化 ,</td>\n",
       "    </tr>\n",
       "    <tr>\n",
       "      <th>37764</th>\n",
       "      <td>1052083</td>\n",
       "      <td>三ヨウ化窒素が衝撃に敏感であることを示すため、羽の先で触れることによって爆発を起こさせること...</td>\n",
       "      <td>演示実験と文化 ,</td>\n",
       "    </tr>\n",
       "    <tr>\n",
       "      <th>37765</th>\n",
       "      <td>1052083</td>\n",
       "      <td>また、三ヨウ化窒素はα線や中性子線にさらすことによって爆発する唯一の化合物であるとされている。</td>\n",
       "      <td>演示実験と文化 ,</td>\n",
       "    </tr>\n",
       "    <tr>\n",
       "      <th>37766</th>\n",
       "      <td>1052083</td>\n",
       "      <td>NI3•NH3 が爆発するとオレンジから紫色のしみが残る。</td>\n",
       "      <td>演示実験と文化 ,</td>\n",
       "    </tr>\n",
       "    <tr>\n",
       "      <th>37767</th>\n",
       "      <td>1052083</td>\n",
       "      <td>これはチオ硫酸ナトリウムの溶液で取り除くことができる。</td>\n",
       "      <td>演示実験と文化 ,</td>\n",
       "    </tr>\n",
       "    <tr>\n",
       "      <th>37768</th>\n",
       "      <td>1052083</td>\n",
       "      <td>Brainiac: Science Abuse（化学を主題としたイギリスの娯楽番組）で「ピー...</td>\n",
       "      <td>演示実験と文化 ,</td>\n",
       "    </tr>\n",
       "    <tr>\n",
       "      <th>37769</th>\n",
       "      <td>1052083</td>\n",
       "      <td>安全のため詳しい製法は紹介されなかった。</td>\n",
       "      <td>演示実験と文化 ,</td>\n",
       "    </tr>\n",
       "    <tr>\n",
       "      <th>37770</th>\n",
       "      <td>1052083</td>\n",
       "      <td>ロバート・A・ハインラインの小説『自由未来 (Farnham's Freehold)』では、...</td>\n",
       "      <td>演示実験と文化 ,</td>\n",
       "    </tr>\n",
       "  </tbody>\n",
       "</table>\n",
       "</div>"
      ],
      "text/plain": [
       "           _id                                           sentence      heading\n",
       "37757  1052083  三ヨウ化窒素（さんヨウかちっそ、英: nitrogen triiodide）は、化学式 NI...  NO_SUBTITLE\n",
       "37758  1052083                                      衝撃に敏感で爆発を起こす。  NO_SUBTITLE\n",
       "37759  1052083      少量に軽く触れただけでも黒色火薬のような破裂音とともに爆発し、紫色のヨウ素蒸気を発生する。  NO_SUBTITLE\n",
       "37760  1052083      三ヨウ化窒素やその誘導体は不安定なため構造を決定するのが難しく、その構造化学は複雑である。  NO_SUBTITLE\n",
       "37761  1052083                          三ヨウ化窒素の分解は以下のような反応式で表される。  NO_SUBTITLE\n",
       "37762  1052083  2 NI 3 ( s ) ⟶ N 2 ( g ) + 3 I 2 ( g ) の不安定性は、...  NO_SUBTITLE\n",
       "37763  1052083                        高校の化学実験の授業で少量の合成が行われることがある。    演示実験と文化 ,\n",
       "37764  1052083  三ヨウ化窒素が衝撃に敏感であることを示すため、羽の先で触れることによって爆発を起こさせること...    演示実験と文化 ,\n",
       "37765  1052083    また、三ヨウ化窒素はα線や中性子線にさらすことによって爆発する唯一の化合物であるとされている。    演示実験と文化 ,\n",
       "37766  1052083                      NI3•NH3 が爆発するとオレンジから紫色のしみが残る。    演示実験と文化 ,\n",
       "37767  1052083                        これはチオ硫酸ナトリウムの溶液で取り除くことができる。    演示実験と文化 ,\n",
       "37768  1052083  Brainiac: Science Abuse（化学を主題としたイギリスの娯楽番組）で「ピー...    演示実験と文化 ,\n",
       "37769  1052083                               安全のため詳しい製法は紹介されなかった。    演示実験と文化 ,\n",
       "37770  1052083  ロバート・A・ハインラインの小説『自由未来 (Farnham's Freehold)』では、...    演示実験と文化 ,"
      ]
     },
     "execution_count": 37,
     "metadata": {},
     "output_type": "execute_result"
    }
   ],
   "source": [
    "sentences_df[sentences_df._id == train_raw[0]['WikipediaID']]"
   ]
  },
  {
   "cell_type": "code",
   "execution_count": 42,
   "metadata": {},
   "outputs": [],
   "source": [
    "s = \"三ヨウ化窒素の分解は以下のような反応式で表される。                                     2                                   NI                            3                                                                                         (             s             )                      ⟶                        N                            2                                                                                         (             g             )                                  +           3                                   I                            2                                                                                         (             g             )                                     {\\\\displaystyle {\\\\ce {2 NI3(s) -> N2(g)\\\\ + 3I2(g)}}}                                                   Δ             H             =             −             290             k             J                            /                          m             o             l                                     {\\\\displaystyle {\\\\rm {\\\\Delta H=-290kJ/mol}}}    暗赤色の固体である。1990年にアンモニアを用いない経路で合成され、X線結晶構造解析が行われた。窒化ホウ素とフッ化ヨウ素をトリクロロフルオロメタン中、−30°Cで反応させることによって、低収率ながら NI3 を得ている。NI3 は C3v の対称性を持つ三角錐形の構造を持ち、これは他の三ハロゲン化窒素やアンモニアと同様である。 一般的な合成法としてはヨウ素とアンモニアによるものが知られている。この反応を無水アンモニア中低温で行った場合、最初に生成するのは NI3•(NH3)5 である。加温するとこの化合物からアンモニアが失われて NI3•NH3 となる。この付加物はベルナール・クールトアによって1812年に最初に報告され、その後シルベラード (Silberrad) が1905年に組成を決定した。固体状態では −NI2−I−NI2−I−NI2−I··· という形の鎖状構造をなしており、アンモニア分子は鎖の間に位置する。暗所中・低温・アンモニア雰囲気下であれば                                                 NI                            3                                                                            ⋅                        NH                            3                                                                                           {\\\\displaystyle {\\\\ce {NI3\\\\cdot NH3}}}    は安定である。しかしながらアンモニアを取り除くと以下の反応式に示すような分解を起こす。                                     8                                   NI                            3                                                                            ⋅                        NH                            3                                                                            ⟶           5                                   N                            2                                                                                        +           6                                   NH                            4                                                                            I                       +           9                                   I                            2                                                                                           {\\\\displaystyle {\\\\ce {8NI3\\\\cdot NH3->5N2\\\\ +6NH4I\\\\ +9I2}}}                                                                  NI                                3                                                                                                                {\\\\displaystyle {{\\\\ce {NI3}}}}    や                                                 NI                            3                                                                            ⋅                        NH                            3                                                                                           {\\\\displaystyle {\\\\ce {NI3\\\\cdot NH3}}}    の不安定性は、\""
   ]
  },
  {
   "cell_type": "code",
   "execution_count": 45,
   "metadata": {},
   "outputs": [],
   "source": [
    "import regex"
   ]
  },
  {
   "cell_type": "code",
   "execution_count": 47,
   "metadata": {},
   "outputs": [
    {
     "data": {
      "text/plain": [
       "'三ヨウ化窒素の分解は以下のような反応式で表される。 2 NI 3 ( s ) ⟶ N 2 ( g ) + 3 I 2 ( g ) Δ H = − 290 k J / m o l 暗赤色の固体である。1990年にアンモニアを用いない経路で合成され、X線結晶構造解析が行われた。窒化ホウ素とフッ化ヨウ素をトリクロロフルオロメタン中、−30°Cで反応させることによって、低収率ながら NI3 を得ている。NI3 は C3v の対称性を持つ三角錐形の構造を持ち、これは他の三ハロゲン化窒素やアンモニアと同様である。 一般的な合成法としてはヨウ素とアンモニアによるものが知られている。この反応を無水アンモニア中低温で行った場合、最初に生成するのは NI3•(NH3)5 である。加温するとこの化合物からアンモニアが失われて NI3•NH3 となる。この付加物はベルナール・クールトアによって1812年に最初に報告され、その後シルベラード (Silberrad) が1905年に組成を決定した。固体状態では −NI2−I−NI2−I−NI2−I··· という形の鎖状構造をなしており、アンモニア分子は鎖の間に位置する。暗所中・低温・アンモニア雰囲気下であれば NI 3 ⋅ NH 3 は安定である。しかしながらアンモニアを取り除くと以下の反応式に示すような分解を起こす。 8 NI 3 ⋅ NH 3 ⟶ 5 N 2 + 6 NH 4 I + 9 I 2 NI 3 や NI 3 ⋅ NH 3 の不安定性は、'"
      ]
     },
     "execution_count": 47,
     "metadata": {},
     "output_type": "execute_result"
    }
   ],
   "source": [
    "clean_text(s)"
   ]
  },
  {
   "cell_type": "code",
   "execution_count": null,
   "metadata": {},
   "outputs": [],
   "source": []
  }
 ],
 "metadata": {
  "kernelspec": {
   "display_name": "Python 3",
   "language": "python",
   "name": "python3"
  },
  "language_info": {
   "codemirror_mode": {
    "name": "ipython",
    "version": 3
   },
   "file_extension": ".py",
   "mimetype": "text/x-python",
   "name": "python",
   "nbconvert_exporter": "python",
   "pygments_lexer": "ipython3",
   "version": "3.6.1"
  }
 },
 "nbformat": 4,
 "nbformat_minor": 2
}
