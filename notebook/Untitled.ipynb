{
 "cells": [
  {
   "cell_type": "code",
   "execution_count": 41,
   "metadata": {},
   "outputs": [],
   "source": [
    "import pandas as pd\n",
    "import re\n",
    "import json\n",
    "\n",
    "import shinra_util as util"
   ]
  },
  {
   "cell_type": "code",
   "execution_count": 2,
   "metadata": {},
   "outputs": [],
   "source": [
    "%load_ext autoreload\n",
    "%autoreload 2"
   ]
  },
  {
   "cell_type": "code",
   "execution_count": 30,
   "metadata": {},
   "outputs": [],
   "source": [
    "s = \"次に酢酸鉛(II) を加えて鉛塩とし、さらに硫化水素で分解すると、遊離のメリト酸が得られる。\""
   ]
  },
  {
   "cell_type": "code",
   "execution_count": 38,
   "metadata": {},
   "outputs": [
    {
     "data": {
      "text/plain": [
       "['酢酸鉛(II)', '鉛塩', '硫化水素', '分解', '遊離', 'メリト酸']"
      ]
     },
     "execution_count": 38,
     "metadata": {},
     "output_type": "execute_result"
    }
   ],
   "source": [
    "util.get_compound_list(s)"
   ]
  },
  {
   "cell_type": "code",
   "execution_count": 31,
   "metadata": {},
   "outputs": [],
   "source": [
    "extract_df = pd.DataFrame({\"material\": util.get_compound_list(s)})"
   ]
  },
  {
   "cell_type": "code",
   "execution_count": 27,
   "metadata": {},
   "outputs": [],
   "source": [
    "noun_list = pd.read_csv(\"../data/noun_list_in_category_and_title.csv\")\n",
    "compound_list = pd.read_csv(\"../data/compound_list.csv\")\n",
    "NITE_list = pd.read_csv(\"../data/NITE_existence_list.csv\").pipe(lambda x: x[x.label == 1])"
   ]
  },
  {
   "cell_type": "code",
   "execution_count": 34,
   "metadata": {},
   "outputs": [],
   "source": [
    "compound_like_list = list(set(compound_list['compound'].tolist() + noun_list['noun'].tolist()))"
   ]
  },
  {
   "cell_type": "code",
   "execution_count": 39,
   "metadata": {},
   "outputs": [
    {
     "data": {
      "text/html": [
       "<div>\n",
       "<style scoped>\n",
       "    .dataframe tbody tr th:only-of-type {\n",
       "        vertical-align: middle;\n",
       "    }\n",
       "\n",
       "    .dataframe tbody tr th {\n",
       "        vertical-align: top;\n",
       "    }\n",
       "\n",
       "    .dataframe thead th {\n",
       "        text-align: right;\n",
       "    }\n",
       "</style>\n",
       "<table border=\"1\" class=\"dataframe\">\n",
       "  <thead>\n",
       "    <tr style=\"text-align: right;\">\n",
       "      <th></th>\n",
       "      <th>material</th>\n",
       "    </tr>\n",
       "  </thead>\n",
       "  <tbody>\n",
       "    <tr>\n",
       "      <th>0</th>\n",
       "      <td>酢酸鉛(II)</td>\n",
       "    </tr>\n",
       "    <tr>\n",
       "      <th>1</th>\n",
       "      <td>鉛塩</td>\n",
       "    </tr>\n",
       "    <tr>\n",
       "      <th>2</th>\n",
       "      <td>硫化水素</td>\n",
       "    </tr>\n",
       "    <tr>\n",
       "      <th>5</th>\n",
       "      <td>メリト酸</td>\n",
       "    </tr>\n",
       "  </tbody>\n",
       "</table>\n",
       "</div>"
      ],
      "text/plain": [
       "  material\n",
       "0  酢酸鉛(II)\n",
       "1       鉛塩\n",
       "2     硫化水素\n",
       "5     メリト酸"
      ]
     },
     "execution_count": 39,
     "metadata": {},
     "output_type": "execute_result"
    }
   ],
   "source": [
    "extract_df[extract_df['material'].str.contains(util.contains_patt(compound_like_list))]"
   ]
  },
  {
   "cell_type": "code",
   "execution_count": 42,
   "metadata": {},
   "outputs": [],
   "source": [
    "with open(\"../data/compound_train.json\") as f:\n",
    "    train = json.load(f)['entry']\n",
    "train_dict = util.train2dict(train, attribute=\"原材料\")"
   ]
  },
  {
   "cell_type": "code",
   "execution_count": null,
   "metadata": {},
   "outputs": [],
   "source": [
    "def is_contains_in_tain_data():\n",
    "    use_str = ','.join(true_use_list)\n",
    "    result1 = group.apply(lambda x: True if re.search(x.use, use_str) else False, axis=1).tolist()\n",
    "    is_contain_list1 += result1   \n",
    "\n",
    "def is_contains_in_extraction_data(true: [list, str]):\n",
    "    return df[0].str.contains(util.contains_patt(true)).tolist()\n",
    "    \n",
    "def validation(extraction: dict, train: dict):\n",
    "    precision_list = extraction_df.extraction.str.contains(util.contains_patt(true)).tolist() \\\n",
    "                    +extraction_df.apply(lambda x: True if re.search(x.extraction, ','.join(true_use_list)) else False, axis=1).tolist()\n",
    "    "
   ]
  },
  {
   "cell_type": "code",
   "execution_count": null,
   "metadata": {},
   "outputs": [],
   "source": []
  },
  {
   "cell_type": "code",
   "execution_count": null,
   "metadata": {},
   "outputs": [],
   "source": [
    "is_contain_list1 = []\n",
    "is_contain_list2 = []\n",
    "predict_df = pd.DataFrame()\n",
    "for _id, group in use_df.groupby('_id'):\n",
    "    if not train_use_dict.get(_id):\n",
    "        continue\n",
    "    \n",
    "    group = group[~group.duplicated('use')]\n",
    "    true_use_list = train_use_dict[_id]\n",
    "    \n",
    "    # contains extraction data in train data\n",
    "    use_str = ','.join(true_use_list)\n",
    "    result1 = group.apply(lambda x: True if re.search(x.use, use_str) else False, axis=1).tolist()\n",
    "    is_contain_list1 += result1   \n",
    "\n",
    "    # contains train data in extraction data\n",
    "    r2 = '|'.join(true_use_list).replace('(', '\\(').replace(')', '\\)')\n",
    "    result2 = group.use.str.contains(r2).tolist()\n",
    "    is_contain_list2 += result2\n",
    "    \n",
    "    predict_df = predict_df.append(group.assign(label = np.array(result1) + np.array(result2)))\n",
    "\n",
    "print(len(predict_df))\n",
    "print(predict_df.label.mean())"
   ]
  }
 ],
 "metadata": {
  "kernelspec": {
   "display_name": "Python 3",
   "language": "python",
   "name": "python3"
  },
  "language_info": {
   "codemirror_mode": {
    "name": "ipython",
    "version": 3
   },
   "file_extension": ".py",
   "mimetype": "text/x-python",
   "name": "python",
   "nbconvert_exporter": "python",
   "pygments_lexer": "ipython3",
   "version": "3.6.1"
  }
 },
 "nbformat": 4,
 "nbformat_minor": 2
}
