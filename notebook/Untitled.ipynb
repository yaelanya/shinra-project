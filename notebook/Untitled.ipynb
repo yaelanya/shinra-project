{
 "cells": [
  {
   "cell_type": "code",
   "execution_count": 1,
   "metadata": {},
   "outputs": [],
   "source": [
    "import pandas as pd\n",
    "import numpy as np\n",
    "import re\n",
    "import json\n",
    "import MeCab\n",
    "import pycrfsuite\n",
    "\n",
    "import shinra_util as util"
   ]
  },
  {
   "cell_type": "code",
   "execution_count": 2,
   "metadata": {},
   "outputs": [],
   "source": [
    "with open(\"../data/compound_train.json\", 'r') as f:\n",
    "    train_raw = json.load(f)['entry']"
   ]
  },
  {
   "cell_type": "code",
   "execution_count": 47,
   "metadata": {},
   "outputs": [
    {
     "data": {
      "text/plain": [
       "'三ヨウ化窒素の分解は以下のような反応式で表される。 2 NI 3 ( s ) ⟶ N 2 ( g ) + 3 I 2 ( g ) Δ H = − 290 k J / m o l 暗赤色の固体である。1990年にアンモニアを用いない経路で合成され、X線結晶構造解析が行われた。窒化ホウ素とフッ化ヨウ素をトリクロロフルオロメタン中、−30°Cで反応させることによって、低収率ながら NI3 を得ている。NI3 は C3v の対称性を持つ三角錐形の構造を持ち、これは他の三ハロゲン化窒素やアンモニアと同様である。 一般的な合成法としてはヨウ素とアンモニアによるものが知られている。この反応を無水アンモニア中低温で行った場合、最初に生成するのは NI3•(NH3)5 である。加温するとこの化合物からアンモニアが失われて NI3•NH3 となる。この付加物はベルナール・クールトアによって1812年に最初に報告され、その後シルベラード (Silberrad) が1905年に組成を決定した。固体状態では −NI2−I−NI2−I−NI2−I··· という形の鎖状構造をなしており、アンモニア分子は鎖の間に位置する。暗所中・低温・アンモニア雰囲気下であれば NI 3 ⋅ NH 3 は安定である。しかしながらアンモニアを取り除くと以下の反応式に示すような分解を起こす。 8 NI 3 ⋅ NH 3 ⟶ 5 N 2 + 6 NH 4 I + 9 I 2 NI 3 や NI 3 ⋅ NH 3 の不安定性は、'"
      ]
     },
     "execution_count": 47,
     "metadata": {},
     "output_type": "execute_result"
    }
   ],
   "source": [
    "clean_text(s)"
   ]
  },
  {
   "cell_type": "code",
   "execution_count": 3,
   "metadata": {},
   "outputs": [
    {
     "data": {
      "text/plain": [
       "{'ENE': '化合物名',\n",
       " 'Name': '三ヨウ化窒素',\n",
       " 'WikipediaID': 1052083,\n",
       " 'Attributes': {'ふりがな': ['さんヨウかちっそ'],\n",
       "  '別称': ['nitrogen triiodide', 'ヨウ化窒素'],\n",
       "  '用途': [],\n",
       "  '種類': ['化合物'],\n",
       "  '商標名': [],\n",
       "  '特性': ['難溶', '赤色固体', '衝撃に敏感で爆発'],\n",
       "  '原材料': ['フッ化ヨウ素', '窒化ホウ素', 'ヨウ素', 'トリクロロフルオロメタン', 'アンモニア', '無水アンモニア'],\n",
       "  '製造方法': ['一般的な合成法としてはヨウ素とアンモニアによるものが知られている',\n",
       "   '窒化ホウ素とフッ化ヨウ素をトリクロロフルオロメタン中、−30°Cで反応させることによって'],\n",
       "  '生成化合物': [],\n",
       "  'CAS番号': ['13444-85-4'],\n",
       "  '化学式': ['NI3'],\n",
       "  '密度': [],\n",
       "  '融点': [],\n",
       "  '沸点': [],\n",
       "  '示性式': []}}"
      ]
     },
     "execution_count": 3,
     "metadata": {},
     "output_type": "execute_result"
    }
   ],
   "source": [
    "train_raw[0]"
   ]
  },
  {
   "cell_type": "code",
   "execution_count": null,
   "metadata": {},
   "outputs": [],
   "source": []
  }
 ],
 "metadata": {
  "kernelspec": {
   "display_name": "Python 3",
   "language": "python",
   "name": "python3"
  },
  "language_info": {
   "codemirror_mode": {
    "name": "ipython",
    "version": 3
   },
   "file_extension": ".py",
   "mimetype": "text/x-python",
   "name": "python",
   "nbconvert_exporter": "python",
   "pygments_lexer": "ipython3",
   "version": "3.6.1"
  }
 },
 "nbformat": 4,
 "nbformat_minor": 2
}
