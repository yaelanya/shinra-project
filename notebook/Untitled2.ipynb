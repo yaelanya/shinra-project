{
 "cells": [
  {
   "cell_type": "code",
   "execution_count": 139,
   "metadata": {},
   "outputs": [],
   "source": [
    "import numpy as np\n",
    "import pandas as pd\n",
    "import MeCab\n",
    "import gzip\n",
    "import json\n",
    "import re\n",
    "import itertools"
   ]
  },
  {
   "cell_type": "code",
   "execution_count": 95,
   "metadata": {},
   "outputs": [],
   "source": [
    "mecab_param = MeCab.Tagger(\"-Ochasen -d /usr/local/lib/mecab/dic/mecab-ipadic-neologd\")"
   ]
  },
  {
   "cell_type": "code",
   "execution_count": 96,
   "metadata": {},
   "outputs": [],
   "source": [
    "s = '使用重水素は水素爆弾の材料として使用される'"
   ]
  },
  {
   "cell_type": "code",
   "execution_count": 98,
   "metadata": {},
   "outputs": [],
   "source": [
    "s = s[:list(re.finditer(r'(使用.)', s))[-1].start()]"
   ]
  },
  {
   "cell_type": "code",
   "execution_count": 99,
   "metadata": {},
   "outputs": [],
   "source": [
    "node = mecab_param.parseToNode(s)\n",
    "hinshi = []\n",
    "while node:\n",
    "    if len(node.surface) is 0:\n",
    "        node = node.next\n",
    "        continue\n",
    "\n",
    "    hinshi.append(node.feature.split(',')[0])\n",
    "    node = node.next"
   ]
  },
  {
   "cell_type": "code",
   "execution_count": 122,
   "metadata": {},
   "outputs": [],
   "source": [
    "hinshi = hinshi[::-1][:2]"
   ]
  },
  {
   "cell_type": "code",
   "execution_count": 115,
   "metadata": {},
   "outputs": [],
   "source": [
    "hinshi2 = hinshi[::-1].copy()"
   ]
  },
  {
   "cell_type": "code",
   "execution_count": 125,
   "metadata": {},
   "outputs": [],
   "source": [
    " = \\\n",
    "pd.DataFrame(\n",
    "    [hinshi, hinshi[::-1]]\n",
    "    , columns=['prev1_hinshi_cat', 'prev2_hinshi_cat']\n",
    ")"
   ]
  },
  {
   "cell_type": "code",
   "execution_count": 137,
   "metadata": {},
   "outputs": [
    {
     "data": {
      "text/plain": [
       "prev1_hinshi_cat    category\n",
       "prev2_hinshi_cat    category\n",
       "dtype: object"
      ]
     },
     "execution_count": 137,
     "metadata": {},
     "output_type": "execute_result"
    }
   ],
   "source": [
    "df.astype({\n",
    "    'prev1_hinshi_cat': 'category'\n",
    "    , 'prev2_hinshi_cat': 'category'\n",
    "}).dtypes"
   ]
  },
  {
   "cell_type": "code",
   "execution_count": 134,
   "metadata": {},
   "outputs": [
    {
     "data": {
      "text/plain": [
       "prev1_hinshi_cat    object\n",
       "prev2_hinshi_cat    object\n",
       "dtype: object"
      ]
     },
     "execution_count": 134,
     "metadata": {},
     "output_type": "execute_result"
    }
   ],
   "source": [
    "df.dtypes"
   ]
  },
  {
   "cell_type": "code",
   "execution_count": null,
   "metadata": {},
   "outputs": [],
   "source": []
  },
  {
   "cell_type": "code",
   "execution_count": 174,
   "metadata": {},
   "outputs": [
    {
     "name": "stdout",
     "output_type": "stream",
     "text": [
      "KeyError: 'namespace', id= 15\n",
      "KeyError: 'namespace', id= 829\n",
      "KeyError: 'namespace', id= 3\n",
      "KeyError: 'namespace', id= 9\n",
      "KeyError: 'namespace', id= 100\n",
      "KeyError: 'namespace', id= 101\n",
      "KeyError: 'namespace', id= 1\n",
      "KeyError: 'namespace', id= 10\n",
      "KeyError: 'namespace', id= 2\n",
      "KeyError: 'namespace', id= 4\n",
      "KeyError: 'namespace', id= 5\n",
      "KeyError: 'namespace', id= 6\n",
      "KeyError: 'namespace', id= 11\n",
      "KeyError: 'namespace', id= 13\n",
      "KeyError: 'namespace', id= 102\n",
      "KeyError: 'namespace', id= 2303\n",
      "KeyError: 'namespace', id= 2600\n",
      "KeyError: 'namespace', id= -2\n",
      "KeyError: 'namespace', id= -1\n",
      "KeyError: 'namespace', id= 7\n",
      "KeyError: 'namespace', id= 103\n",
      "KeyError: 'namespace', id= 2300\n",
      "KeyError: 'namespace', id= 2301\n",
      "KeyError: 'namespace', id= 8\n",
      "KeyError: 'namespace', id= 12\n",
      "KeyError: 'namespace', id= 14\n",
      "KeyError: 'namespace', id= 828\n",
      "KeyError: 'namespace', id= 2302\n"
     ]
    }
   ],
   "source": [
    "with gzip.open(\"../data/jawiki-20171106-cirrussearch-general.json.gz\") as f:\n",
    "    category_json_list = []\n",
    "    line = f.readline()\n",
    "    \n",
    "    while line:\n",
    "        head = json.loads(line.decode('utf-8').rstrip('\\r\\n'))\n",
    "        line = f.readline() # ヘッダーの次の行がbodyなのでreadlineを行う\n",
    "        body = json.loads(line.decode('utf-8').rstrip('\\r\\n'))\n",
    "        \n",
    "        try:\n",
    "            if body['namespace'] is 14:\n",
    "                head.update(body)\n",
    "                category_json_list.append(head)\n",
    "        except KeyError as e:\n",
    "            print(\"KeyError: 'namespace', id=\", head['index']['_id'])\n",
    "            \n",
    "        line = f.readline()"
   ]
  },
  {
   "cell_type": "code",
   "execution_count": 184,
   "metadata": {},
   "outputs": [
    {
     "data": {
      "text/plain": [
       "{'index': {'_type': 'page', '_id': '1436125'},\n",
       " 'template': ['Template:Commonscat',\n",
       "  'Template:Sister',\n",
       "  'Template:Side box',\n",
       "  'Template:Plainlink',\n",
       "  'Template:Ifempty',\n",
       "  'モジュール:Side box',\n",
       "  'モジュール:Yesno',\n",
       "  'モジュール:If empty',\n",
       "  'モジュール:Arguments'],\n",
       " 'redirect': [],\n",
       " 'wikibase_item': 'Q8505570',\n",
       " 'heading': [],\n",
       " 'source_text': '[[ハーモニカ]]に関するカテゴリ。\\n{{Commonscat|Harmonicas}}\\n\\n[[Category:管楽器|はもにか]]',\n",
       " 'version_type': 'external',\n",
       " 'opening_text': None,\n",
       " 'wiki': 'jawiki',\n",
       " 'auxiliary_text': ['ウィキメディア・コモンズには、ハーモニカに関連するカテゴリがあります。'],\n",
       " 'language': 'ja',\n",
       " 'title': 'ハーモニカ',\n",
       " 'version': 47240026,\n",
       " 'external_link': ['//commons.wikimedia.org/wiki/Category:Harmonicas?uselang=ja'],\n",
       " 'namespace_text': 'Category',\n",
       " 'namespace': 14,\n",
       " 'text_bytes': 109,\n",
       " 'incoming_links': 0,\n",
       " 'text': 'ハーモニカに関するカテゴリ。',\n",
       " 'category': ['管楽器'],\n",
       " 'outgoing_link': ['ハーモニカ'],\n",
       " 'timestamp': '2013-04-08T03:08:23Z'}"
      ]
     },
     "execution_count": 184,
     "metadata": {},
     "output_type": "execute_result"
    }
   ],
   "source": [
    "category_json_list[100]"
   ]
  },
  {
   "cell_type": "code",
   "execution_count": null,
   "metadata": {},
   "outputs": [],
   "source": []
  }
 ],
 "metadata": {
  "kernelspec": {
   "display_name": "Python 3",
   "language": "python",
   "name": "python3"
  },
  "language_info": {
   "codemirror_mode": {
    "name": "ipython",
    "version": 3
   },
   "file_extension": ".py",
   "mimetype": "text/x-python",
   "name": "python",
   "nbconvert_exporter": "python",
   "pygments_lexer": "ipython3",
   "version": "3.6.1"
  }
 },
 "nbformat": 4,
 "nbformat_minor": 2
}
