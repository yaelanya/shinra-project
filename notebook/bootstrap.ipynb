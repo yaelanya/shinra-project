{
 "cells": [
  {
   "cell_type": "code",
   "execution_count": 3,
   "metadata": {},
   "outputs": [
    {
     "name": "stderr",
     "output_type": "stream",
     "text": [
      "/usr/local/var/pyenv/versions/3.6.1/lib/python3.6/importlib/_bootstrap.py:205: RuntimeWarning: numpy.dtype size changed, may indicate binary incompatibility. Expected 96, got 88\n",
      "  return f(*args, **kwds)\n",
      "/usr/local/var/pyenv/versions/3.6.1/lib/python3.6/importlib/_bootstrap.py:205: RuntimeWarning: numpy.dtype size changed, may indicate binary incompatibility. Expected 96, got 88\n",
      "  return f(*args, **kwds)\n"
     ]
    }
   ],
   "source": [
    "import numpy as np\n",
    "import pandas as pd\n",
    "import MeCab\n",
    "import re\n",
    "import json\n",
    "from collections import Counter\n",
    "import pickle\n",
    "import matplotlib.pyplot as plt\n",
    "\n",
    "import dependency_parsing as dp\n",
    "\n",
    "plt.rcParams['font.family'] = 'IPAGothic'"
   ]
  },
  {
   "cell_type": "code",
   "execution_count": 4,
   "metadata": {},
   "outputs": [],
   "source": [
    "flatten = lambda l: [item for sublist in l for item in sublist if len(item) is not 0]"
   ]
  },
  {
   "cell_type": "code",
   "execution_count": 15,
   "metadata": {},
   "outputs": [],
   "source": [
    "with open(\"../data/compound_train.json\") as f:\n",
    "    train = json.load(f)"
   ]
  },
  {
   "cell_type": "code",
   "execution_count": 16,
   "metadata": {},
   "outputs": [
    {
     "data": {
      "text/html": [
       "<div>\n",
       "<style scoped>\n",
       "    .dataframe tbody tr th:only-of-type {\n",
       "        vertical-align: middle;\n",
       "    }\n",
       "\n",
       "    .dataframe tbody tr th {\n",
       "        vertical-align: top;\n",
       "    }\n",
       "\n",
       "    .dataframe thead th {\n",
       "        text-align: right;\n",
       "    }\n",
       "</style>\n",
       "<table border=\"1\" class=\"dataframe\">\n",
       "  <thead>\n",
       "    <tr style=\"text-align: right;\">\n",
       "      <th></th>\n",
       "      <th>_id</th>\n",
       "      <th>sentence</th>\n",
       "      <th>label</th>\n",
       "      <th>heading</th>\n",
       "    </tr>\n",
       "  </thead>\n",
       "  <tbody>\n",
       "    <tr>\n",
       "      <th>7</th>\n",
       "      <td>1385415</td>\n",
       "      <td>脂入りはんだのフラックスの主要成分である[1]ほか、ラッカー、ワニス、石鹸や樹脂酸金属塩の製...</td>\n",
       "      <td>1</td>\n",
       "      <td>NO_SUBTITLE</td>\n",
       "    </tr>\n",
       "    <tr>\n",
       "      <th>14</th>\n",
       "      <td>3430792</td>\n",
       "      <td>イソプロピルアンチピリン（Isopropylantipyrine）、別名、プロピフェナゾン（...</td>\n",
       "      <td>1</td>\n",
       "      <td>副作用</td>\n",
       "    </tr>\n",
       "    <tr>\n",
       "      <th>15</th>\n",
       "      <td>3430792</td>\n",
       "      <td>日本では配合用の原末が医療用に販売されているほか、第2類医薬品として市販の風邪薬に配合されている。</td>\n",
       "      <td>1</td>\n",
       "      <td>副作用</td>\n",
       "    </tr>\n",
       "    <tr>\n",
       "      <th>16</th>\n",
       "      <td>3430792</td>\n",
       "      <td>WHOのコメントから抜粋： “ピラゾロン系の解熱鎮痛消炎薬であるイソプロピルアンチピリンは1...</td>\n",
       "      <td>1</td>\n",
       "      <td>副作用</td>\n",
       "    </tr>\n",
       "    <tr>\n",
       "      <th>26</th>\n",
       "      <td>3420219</td>\n",
       "      <td>ケトチフェン（Ketotifen）は第二世代の非競合的H1ヒスタミン受容体遮断薬で肥満細胞安...</td>\n",
       "      <td>1</td>\n",
       "      <td>効能・効果</td>\n",
       "    </tr>\n",
       "  </tbody>\n",
       "</table>\n",
       "</div>"
      ],
      "text/plain": [
       "        _id                                           sentence  label  \\\n",
       "7   1385415  脂入りはんだのフラックスの主要成分である[1]ほか、ラッカー、ワニス、石鹸や樹脂酸金属塩の製...      1   \n",
       "14  3430792  イソプロピルアンチピリン（Isopropylantipyrine）、別名、プロピフェナゾン（...      1   \n",
       "15  3430792  日本では配合用の原末が医療用に販売されているほか、第2類医薬品として市販の風邪薬に配合されている。      1   \n",
       "16  3430792  WHOのコメントから抜粋： “ピラゾロン系の解熱鎮痛消炎薬であるイソプロピルアンチピリンは1...      1   \n",
       "26  3420219  ケトチフェン（Ketotifen）は第二世代の非競合的H1ヒスタミン受容体遮断薬で肥満細胞安...      1   \n",
       "\n",
       "        heading  \n",
       "7   NO_SUBTITLE  \n",
       "14          副作用  \n",
       "15          副作用  \n",
       "16          副作用  \n",
       "26        効能・効果  "
      ]
     },
     "execution_count": 16,
     "metadata": {},
     "output_type": "execute_result"
    }
   ],
   "source": [
    "train_sentence = pd.read_csv(\"../data/train_Youto_sentence_and_heading.csv\", dtype={\"_id\": str})\n",
    "train_sentence = train_sentence.loc[train_sentence.label == 1]\n",
    "train_sentence.head()"
   ]
  },
  {
   "cell_type": "code",
   "execution_count": 17,
   "metadata": {},
   "outputs": [],
   "source": [
    "Youto_list = flatten([article['Attributes']['用途'] for article in train['entry']])\n",
    "Youto_list = [youto.replace('（', '(').replace('）', ')') for youto in Youto_list]"
   ]
  },
  {
   "cell_type": "code",
   "execution_count": 18,
   "metadata": {},
   "outputs": [
    {
     "data": {
      "text/html": [
       "<div>\n",
       "<style scoped>\n",
       "    .dataframe tbody tr th:only-of-type {\n",
       "        vertical-align: middle;\n",
       "    }\n",
       "\n",
       "    .dataframe tbody tr th {\n",
       "        vertical-align: top;\n",
       "    }\n",
       "\n",
       "    .dataframe thead th {\n",
       "        text-align: right;\n",
       "    }\n",
       "</style>\n",
       "<table border=\"1\" class=\"dataframe\">\n",
       "  <thead>\n",
       "    <tr style=\"text-align: right;\">\n",
       "      <th></th>\n",
       "      <th>_id</th>\n",
       "      <th>youto</th>\n",
       "    </tr>\n",
       "  </thead>\n",
       "  <tbody>\n",
       "    <tr>\n",
       "      <th>0</th>\n",
       "      <td>1052083</td>\n",
       "      <td>[]</td>\n",
       "    </tr>\n",
       "    <tr>\n",
       "      <th>1</th>\n",
       "      <td>1385415</td>\n",
       "      <td>[脂入りはんだ の フラックス の主要成分, ラッカー、ワニス、石鹸や樹脂酸金属塩の製造]</td>\n",
       "    </tr>\n",
       "    <tr>\n",
       "      <th>2</th>\n",
       "      <td>1023103</td>\n",
       "      <td>[香料, ビタミンAやビタミンEのようなテルペノイドの部分骨格を持つ医薬品の原料, 香料原料...</td>\n",
       "    </tr>\n",
       "    <tr>\n",
       "      <th>3</th>\n",
       "      <td>1024773</td>\n",
       "      <td>[染料, 太陽電池パネルにフラーレンと結合されたペンタセンを用いる, 有機薄膜トランジスタや...</td>\n",
       "    </tr>\n",
       "    <tr>\n",
       "      <th>4</th>\n",
       "      <td>1027018</td>\n",
       "      <td>[食品の着色料]</td>\n",
       "    </tr>\n",
       "  </tbody>\n",
       "</table>\n",
       "</div>"
      ],
      "text/plain": [
       "       _id                                              youto\n",
       "0  1052083                                                 []\n",
       "1  1385415      [脂入りはんだ の フラックス の主要成分, ラッカー、ワニス、石鹸や樹脂酸金属塩の製造]\n",
       "2  1023103  [香料, ビタミンAやビタミンEのようなテルペノイドの部分骨格を持つ医薬品の原料, 香料原料...\n",
       "3  1024773  [染料, 太陽電池パネルにフラーレンと結合されたペンタセンを用いる, 有機薄膜トランジスタや...\n",
       "4  1027018                                           [食品の着色料]"
      ]
     },
     "execution_count": 18,
     "metadata": {},
     "output_type": "execute_result"
    }
   ],
   "source": [
    "Youto_df = pd.DataFrame({\n",
    "    \"_id\": [str(article['WikipediaID']) for article in train['entry']]\n",
    "    , \"youto\": [[youto.replace('（', '(').replace('）', ')') for youto in article['Attributes']['用途']] for article in train['entry']]\n",
    "})\n",
    "Youto_df.head()"
   ]
  },
  {
   "cell_type": "code",
   "execution_count": 20,
   "metadata": {},
   "outputs": [
    {
     "data": {
      "text/html": [
       "<div>\n",
       "<style scoped>\n",
       "    .dataframe tbody tr th:only-of-type {\n",
       "        vertical-align: middle;\n",
       "    }\n",
       "\n",
       "    .dataframe tbody tr th {\n",
       "        vertical-align: top;\n",
       "    }\n",
       "\n",
       "    .dataframe thead th {\n",
       "        text-align: right;\n",
       "    }\n",
       "</style>\n",
       "<table border=\"1\" class=\"dataframe\">\n",
       "  <thead>\n",
       "    <tr style=\"text-align: right;\">\n",
       "      <th></th>\n",
       "      <th>_id</th>\n",
       "      <th>sentence</th>\n",
       "    </tr>\n",
       "  </thead>\n",
       "  <tbody>\n",
       "    <tr>\n",
       "      <th>0</th>\n",
       "      <td>1300364</td>\n",
       "      <td>イソチオシアネート(Isothiocyanate)とは、-N=C=Sという構造を持つ物質の総...</td>\n",
       "    </tr>\n",
       "    <tr>\n",
       "      <th>1</th>\n",
       "      <td>1300364</td>\n",
       "      <td>アブラナ科の植物にしばしば含まれるアリルイソチオシアネートはカラシ油に含まれ、辛味の原因とな...</td>\n",
       "    </tr>\n",
       "    <tr>\n",
       "      <th>2</th>\n",
       "      <td>1300364</td>\n",
       "      <td>エドマン分解ではアミノ酸の配列の解析に用いられる。</td>\n",
       "    </tr>\n",
       "    <tr>\n",
       "      <th>3</th>\n",
       "      <td>1300364</td>\n",
       "      <td>イソチオシアネートは常に炭素原子を求電子中心とする求電子剤として働く。</td>\n",
       "    </tr>\n",
       "    <tr>\n",
       "      <th>4</th>\n",
       "      <td>1300364</td>\n",
       "      <td>フェニチルイソチオシアネートやスルフォラファンなどのイソチオシアネートは発癌や腫瘍化を防ぎ、...</td>\n",
       "    </tr>\n",
       "  </tbody>\n",
       "</table>\n",
       "</div>"
      ],
      "text/plain": [
       "       _id                                           sentence\n",
       "0  1300364  イソチオシアネート(Isothiocyanate)とは、-N=C=Sという構造を持つ物質の総...\n",
       "1  1300364  アブラナ科の植物にしばしば含まれるアリルイソチオシアネートはカラシ油に含まれ、辛味の原因とな...\n",
       "2  1300364                          エドマン分解ではアミノ酸の配列の解析に用いられる。\n",
       "3  1300364                イソチオシアネートは常に炭素原子を求電子中心とする求電子剤として働く。\n",
       "4  1300364  フェニチルイソチオシアネートやスルフォラファンなどのイソチオシアネートは発癌や腫瘍化を防ぎ、..."
      ]
     },
     "execution_count": 20,
     "metadata": {},
     "output_type": "execute_result"
    }
   ],
   "source": [
    "wiki_text_df = pd.read_csv(\"../data/wikitext_split_sentence.csv\")\n",
    "wiki_text_df.head()"
   ]
  },
  {
   "cell_type": "code",
   "execution_count": 21,
   "metadata": {},
   "outputs": [],
   "source": [
    "dp_model = dp.DependencyParsing()"
   ]
  },
  {
   "cell_type": "code",
   "execution_count": 23,
   "metadata": {},
   "outputs": [
    {
     "name": "stderr",
     "output_type": "stream",
     "text": [
      "/usr/local/var/pyenv/versions/3.6.1/lib/python3.6/site-packages/ipykernel_launcher.py:12: UserWarning: This pattern has match groups. To actually get the groups, use str.extract.\n",
      "  if sys.path[0] == '':\n",
      "/usr/local/var/pyenv/versions/3.6.1/lib/python3.6/site-packages/ipykernel_launcher.py:15: UserWarning: This pattern has match groups. To actually get the groups, use str.extract.\n",
      "  from ipykernel import kernelapp as app\n"
     ]
    }
   ],
   "source": [
    "ahead_clue_words = []\n",
    "behind_clue_words = []\n",
    "for i, (_id, youto_list) in Youto_df.iterrows():\n",
    "    s_list = train_sentence.loc[train_sentence._id == _id].sentence.values\n",
    "    \n",
    "    for s in s_list:\n",
    "        parsing_df = dp_model.parsing(s)\n",
    "        parsing_df = parsing_df.loc[parsing_df.to_word.notna()]\n",
    "        parsing_df.to_word = parsing_df.to_word.str.replace(r'、|。', '')\n",
    "        parsing_df.from_word = parsing_df.from_word.str.replace(r'、|。', '')\n",
    "        behind_clue_words.append(\n",
    "            [to_word[:] for to_word in parsing_df.loc[parsing_df.from_word.str.contains('|'.join(youto_list))].to_word.tolist()]\n",
    "        )\n",
    "        ahead_clue_words.append(\n",
    "            [from_word[:] for from_word in parsing_df.loc[parsing_df.to_word.str.contains('|'.join(youto_list))].from_word.tolist()]\n",
    "        )"
   ]
  },
  {
   "cell_type": "code",
   "execution_count": 36,
   "metadata": {},
   "outputs": [
    {
     "data": {
      "text/plain": [
       "array(['用いられる', '使用される', '利用される', '使われる', '用いられている', '治療に', '使われている',\n",
       "       'ある', 'ひとつ', '持つ', '利用されている', '使用されている', '含まれる', '1つ', '利用され',\n",
       "       '示す', '承認されている', '呼ばれる', '作用する', '痙性斜頸', '使用する', '一種', '応用されている',\n",
       "       'ほか', '（英語版）', '添加される', '配合されている', '片側顔面痙攣', '治療にも', '用いられていた',\n",
       "       '有効である', '分類される', '含む', '治療薬として', '同様に', 'なる', '添加されている', 'あり',\n",
       "       '入る', '眼瞼痙攣', '多汗症', '販売されている', '重要である', '（英語版）の', '市販されている',\n",
       "       '諸症状を', '働く', '適応で', '下肢痙縮に', '伴う'], dtype='<U44')"
      ]
     },
     "execution_count": 36,
     "metadata": {},
     "output_type": "execute_result"
    }
   ],
   "source": [
    "# 学習データから初期手がかり語を取得\n",
    "clue_words = np.array([np.array([key, value]) for key, value in Counter(flatten(behind_clue_words)).most_common()])[:50, 0]\n",
    "clue_words"
   ]
  },
  {
   "cell_type": "code",
   "execution_count": 11,
   "metadata": {},
   "outputs": [],
   "source": [
    "# 全ての文章を文節に分ける\n",
    "parsed_df = pd.DataFrame()\n",
    "for i, (_id, s) in wiki_text_df.iterrows():\n",
    "    parsing_df = dp_model.parsing(s)\n",
    "    parsing_df = parsing_df.loc[parsing_df.to_word.notna()]\n",
    "    parsing_df.to_word = parsing_df.to_word.str.replace(r'、|。', '')\n",
    "    parsing_df.from_word = parsing_df.from_word.str.replace(r'、|。', '')\n",
    "    parsed_df = parsed_df.append(parsing_df)"
   ]
  },
  {
   "cell_type": "code",
   "execution_count": 15,
   "metadata": {},
   "outputs": [],
   "source": [
    "parsed_df.to_pickle(\"../dump/parsed_df.pickle\")"
   ]
  },
  {
   "cell_type": "code",
   "execution_count": null,
   "metadata": {},
   "outputs": [],
   "source": []
  },
  {
   "cell_type": "code",
   "execution_count": 11,
   "metadata": {},
   "outputs": [],
   "source": [
    "parsed_df = pd.read_pickle(\"../dump/parsed_df.pickle\")"
   ]
  },
  {
   "cell_type": "code",
   "execution_count": 25,
   "metadata": {},
   "outputs": [],
   "source": [
    "loop_count = 0"
   ]
  },
  {
   "cell_type": "code",
   "execution_count": 13,
   "metadata": {},
   "outputs": [],
   "source": [
    "m = MeCab.Tagger(\"-Ochasen -d /usr/local/lib/mecab/dic/mecab-ipadic-neologd\")"
   ]
  },
  {
   "cell_type": "code",
   "execution_count": 27,
   "metadata": {},
   "outputs": [
    {
     "name": "stdout",
     "output_type": "stream",
     "text": [
      "loop:  2\n",
      "clue words count:  84\n"
     ]
    }
   ],
   "source": [
    "noun_list = []\n",
    "for i, (from_word, to_word) in parsed_df.loc[parsed_df.to_word.isin(clue_words)].iterrows():\n",
    "    node = m.parseToNode(from_word)\n",
    "    noun = []\n",
    "    while node:\n",
    "        if len(node.surface) is 0:\n",
    "            node = node.next\n",
    "            if len(noun) > 0: noun_list.append(''.join(noun))\n",
    "            continue\n",
    "        \n",
    "        hinshi = node.feature.split(',')\n",
    "        if hinshi[0] == '名詞' and ((hinshi[1] == '一般') or (hinshi[1] == '固有名詞')):\n",
    "            noun.append(node.surface)\n",
    "        elif len(noun) > 0:\n",
    "            noun_list.append(''.join(noun))\n",
    "            noun = []\n",
    "            \n",
    "        node = node.next\n",
    "\n",
    "clue_df = parsed_df.loc[parsed_df.from_word.str.contains(\"|\".join(set(noun_list)).replace(\")\", \"\\)\").replace(\"(\", \"\\(\"))]\n",
    "new_clue_words = np.array([np.array([key, value]) for key, value in Counter(clue_df.to_word.tolist()).most_common()])[:50, 0]\n",
    "clue_words = list(set(np.append(clue_words, new_clue_words)))\n",
    "\n",
    "loop_count += 1\n",
    "\n",
    "print(\"loop: \", loop_count)\n",
    "print(\"clue words count: \", len(clue_words))"
   ]
  },
  {
   "cell_type": "code",
   "execution_count": 25,
   "metadata": {},
   "outputs": [],
   "source": [
    "with open(\"../dump/noun_list.pickle\", 'bw') as f:\n",
    "    pickle.dump(noun_list, f)"
   ]
  },
  {
   "cell_type": "code",
   "execution_count": 42,
   "metadata": {},
   "outputs": [],
   "source": [
    "with open(\"../dump/clue_words.pickle\", 'bw') as f:\n",
    "    pickle.dump(clue_words, f)"
   ]
  },
  {
   "cell_type": "code",
   "execution_count": null,
   "metadata": {},
   "outputs": [],
   "source": []
  },
  {
   "cell_type": "code",
   "execution_count": 38,
   "metadata": {},
   "outputs": [],
   "source": [
    "with open(\"../dump/clue_words.pickle\", 'br') as f:\n",
    "    clue_words = pickle.load(f)"
   ]
  },
  {
   "cell_type": "code",
   "execution_count": 40,
   "metadata": {},
   "outputs": [
    {
     "data": {
      "text/plain": [
       "[None, None, None, None, None, None, None, None]"
      ]
     },
     "execution_count": 40,
     "metadata": {},
     "output_type": "execute_result"
    }
   ],
   "source": [
    "[clue_words.remove(v) for v in ['ある', 'ない', 'ことが', 'した', 'する', 'ため', 'あり', 'なる']]"
   ]
  },
  {
   "cell_type": "code",
   "execution_count": 41,
   "metadata": {},
   "outputs": [
    {
     "data": {
      "text/plain": [
       "<matplotlib.axes._subplots.AxesSubplot at 0x18c1a4780>"
      ]
     },
     "execution_count": 41,
     "metadata": {},
     "output_type": "execute_result"
    },
    {
     "data": {
      "image/png": "[encoded data removed]",
      "text/plain": [
       "<Figure size 1080x576 with 1 Axes>"
      ]
     },
     "metadata": {},
     "output_type": "display_data"
    }
   ],
   "source": [
    "feature_word_dict = {}\n",
    "for word in clue_words:\n",
    "    feature_word_dict[word] = wiki_text_df.sentence.str.contains(fr'{word}'.replace(\")\", \"\\)\").replace(\"(\", \"\\(\")).tolist()\n",
    "\n",
    "pd.DataFrame(feature_word_dict).T.apply(lambda x: sum(x), axis=1).plot(kind='bar', figsize=(15, 8))"
   ]
  },
  {
   "cell_type": "code",
   "execution_count": null,
   "metadata": {},
   "outputs": [],
   "source": []
  },
  {
   "cell_type": "code",
   "execution_count": 54,
   "metadata": {},
   "outputs": [],
   "source": [
    "category = pd.read_csv(\"../data/category_list.csv\")"
   ]
  },
  {
   "cell_type": "code",
   "execution_count": 56,
   "metadata": {},
   "outputs": [],
   "source": [
    "category.loc[category.category.isin(noun_list)].to_csv(\"../data/category_in_noun_list.csv\", index=False)"
   ]
  },
  {
   "cell_type": "code",
   "execution_count": null,
   "metadata": {},
   "outputs": [],
   "source": []
  }
 ],
 "metadata": {
  "kernelspec": {
   "display_name": "Python 3",
   "language": "python",
   "name": "python3"
  },
  "language_info": {
   "codemirror_mode": {
    "name": "ipython",
    "version": 3
   },
   "file_extension": ".py",
   "mimetype": "text/x-python",
   "name": "python",
   "nbconvert_exporter": "python",
   "pygments_lexer": "ipython3",
   "version": "3.6.1"
  }
 },
 "nbformat": 4,
 "nbformat_minor": 2
}
